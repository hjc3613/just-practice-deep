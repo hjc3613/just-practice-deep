{
  "nbformat": 4,
  "nbformat_minor": 0,
  "metadata": {
    "colab": {
      "name": "load_with_torchtext_for_que2res.ipynb",
      "provenance": [],
      "collapsed_sections": [],
      "include_colab_link": true
    },
    "kernelspec": {
      "name": "python3",
      "display_name": "Python 3"
    },
    "accelerator": "GPU"
  },
  "cells": [
    {
      "cell_type": "markdown",
      "metadata": {
        "id": "view-in-github",
        "colab_type": "text"
      },
      "source": [
        "<a href=\"https://colab.research.google.com/github/mmsamiei/just-practice-deep/blob/master/load_with_torchtext_for_que2res.ipynb\" target=\"_parent\"><img src=\"https://colab.research.google.com/assets/colab-badge.svg\" alt=\"Open In Colab\"/></a>"
      ]
    },
    {
      "cell_type": "code",
      "metadata": {
        "id": "7LfRykuTeFga",
        "colab_type": "code",
        "colab": {}
      },
      "source": [
        "import torchtext\n",
        "from torchtext.data import Field\n",
        "import spacy\n",
        "\n",
        "from spacy.symbols import ORTH\n",
        "my_tok = spacy.load('en')\n",
        "\n",
        "def spacy_tok(x):\n",
        "    return [tok.text for tok in my_tok.tokenizer(x)]\n",
        "\n",
        "QUERY = Field(lower=True, tokenize=spacy_tok)\n",
        "RESPONSE = Field(lower=True, tokenize=spacy_tok, is_target=True, init_token='<bos>', eos_token='<eos>')\n"
      ],
      "execution_count": 0,
      "outputs": []
    },
    {
      "cell_type": "code",
      "metadata": {
        "id": "gw2-zGZsotU-",
        "colab_type": "code",
        "colab": {}
      },
      "source": [
        "import torch\n",
        "if torch.cuda.is_available:\n",
        "  device = torch.device('cuda')\n",
        "else:\n",
        "  device = torch.device('cpu')"
      ],
      "execution_count": 0,
      "outputs": []
    },
    {
      "cell_type": "code",
      "metadata": {
        "id": "OaqBvyc4fWQl",
        "colab_type": "code",
        "colab": {}
      },
      "source": [
        "my_tok.tokenizer.add_special_case(\"don't\", [{ORTH: \"do\"}, {ORTH: \"n't\"}])"
      ],
      "execution_count": 0,
      "outputs": []
    },
    {
      "cell_type": "code",
      "metadata": {
        "id": "h0lZIUcbfcGU",
        "colab_type": "code",
        "colab": {}
      },
      "source": [
        "from torchtext.data import TabularDataset\n",
        "\n",
        "train_dataset = TabularDataset(path=\"./simpleR21.csv\", format=\"CSV\",\n",
        "                               fields=[(\"query\", QUERY),(\"response\", RESPONSE)],\n",
        "                               csv_reader_params={\"delimiter\":'\\t'})"
      ],
      "execution_count": 0,
      "outputs": []
    },
    {
      "cell_type": "code",
      "metadata": {
        "id": "DB1XFG4CgzSu",
        "colab_type": "code",
        "colab": {
          "base_uri": "https://localhost:8080/",
          "height": 106
        },
        "outputId": "0fd99d36-55a6-4b6c-fa02-36edc0b58d34"
      },
      "source": [
        "print(len(train_dataset))\n",
        "print(train_dataset[0])\n",
        "print(train_dataset[0].__dict__.keys())\n",
        "print(train_dataset[10].query)\n",
        "print(train_dataset[10].response)"
      ],
      "execution_count": 19,
      "outputs": [
        {
          "output_type": "stream",
          "text": [
            "64\n",
            "<torchtext.data.example.Example object at 0x7f99c71cc2e8>\n",
            "dict_keys(['query', 'response'])\n",
            "['what', 'is', 'your', 'favorite', 'film', '?']\n",
            "['my', 'favorite', 'file', 'is', 'inception']\n"
          ],
          "name": "stdout"
        }
      ]
    },
    {
      "cell_type": "code",
      "metadata": {
        "id": "C53wTZJFnFVO",
        "colab_type": "code",
        "colab": {
          "base_uri": "https://localhost:8080/",
          "height": 70
        },
        "outputId": "379254d1-29b7-447f-835b-96df8d0454ed"
      },
      "source": [
        "QUERY.build_vocab(train_dataset, \"glove.6B.100d\")\n",
        "RESPONSE.build_vocab(train_dataset)\n",
        "print(QUERY.vocab.stoi['film'])\n",
        "print(QUERY.vocab.itos[33])\n",
        "print(len(QUERY.vocab))"
      ],
      "execution_count": 25,
      "outputs": [
        {
          "output_type": "stream",
          "text": [
            "13\n",
            "khomeini\n",
            "76\n"
          ],
          "name": "stdout"
        }
      ]
    },
    {
      "cell_type": "code",
      "metadata": {
        "id": "kFlWrbvonKMO",
        "colab_type": "code",
        "colab": {}
      },
      "source": [
        "from torchtext.data import BucketIterator\n",
        "\n",
        "train_iterator = BucketIterator(dataset= train_dataset, batch_size=16\n",
        "                                ,device=device\n",
        "                                ,sort_key=lambda x: data.interleave_keys(len(x.query), len(x.response))\n",
        "                                , repeat = False)"
      ],
      "execution_count": 0,
      "outputs": []
    },
    {
      "cell_type": "code",
      "metadata": {
        "id": "igrSpfvHp3l8",
        "colab_type": "code",
        "colab": {
          "base_uri": "https://localhost:8080/",
          "height": 551
        },
        "outputId": "7da690c4-6330-42ad-bd3d-31fca12b5c09"
      },
      "source": [
        "batch = next(iter(train_iterator))\n",
        "print(batch.__dict__.keys())\n",
        "print(batch.query.shape)\n",
        "print(batch.response.shape)\n",
        "print(batch.input_fields)\n",
        "print(batch.target_fields)\n",
        "print(batch.response)"
      ],
      "execution_count": 8,
      "outputs": [
        {
          "output_type": "stream",
          "text": [
            "dict_keys(['batch_size', 'dataset', 'fields', 'input_fields', 'target_fields', 'query', 'response'])\n",
            "torch.Size([6, 16])\n",
            "torch.Size([12, 16])\n",
            "['query']\n",
            "['response']\n",
            "tensor([[  2,   2,   2,   2,   2,   2,   2,   2,   2,   2,   2,   2,   2,   2,\n",
            "           2,   2],\n",
            "        [  4,  13,   4,  12,   4,  16,  91,   4, 106,  13,   4,   4,   4,  27,\n",
            "           4,   4],\n",
            "        [ 10,   4,   5, 102,  10,  49,   3,  23,   3,   7,   5,  97,  29,  25,\n",
            "          14,   8],\n",
            "        [ 19,  18,  17,  11,  19, 129,   1,  37,   1,  61,  69, 117,  35,  32,\n",
            "         101,  26],\n",
            "        [ 18,  19,   3, 109,  38, 105,   1,  55,   1,   4,  56,  48,  46,   7,\n",
            "           3,  80],\n",
            "        [ 53,   3,   1,   3,   3, 107,   1,  89,   1,   8,  26,   7,   7,   4,\n",
            "           1,  39],\n",
            "        [ 76,   1,   1,   1,   1,   3,   1,   3,   1, 122,  77,  18,  26,   5,\n",
            "           1,   7],\n",
            "        [ 71,   1,   1,   1,   1,   1,   1,   1,   1,  18,   3,   9,  64,  81,\n",
            "           1,  94],\n",
            "        [ 41,   1,   1,   1,   1,   1,   1,   1,   1,   3,   1, 113,  25,   3,\n",
            "           1,   3],\n",
            "        [ 45,   1,   1,   1,   1,   1,   1,   1,   1,   1,   1,  92,  90,   1,\n",
            "           1,   1],\n",
            "        [  3,   1,   1,   1,   1,   1,   1,   1,   1,   1,   1,  15,   3,   1,\n",
            "           1,   1],\n",
            "        [  1,   1,   1,   1,   1,   1,   1,   1,   1,   1,   1,   3,   1,   1,\n",
            "           1,   1]], device='cuda:0')\n"
          ],
          "name": "stdout"
        }
      ]
    },
    {
      "cell_type": "code",
      "metadata": {
        "id": "iOJ8BkXL0DsO",
        "colab_type": "code",
        "colab": {
          "base_uri": "https://localhost:8080/",
          "height": 88
        },
        "outputId": "bcafe469-62b1-4cd4-d6d6-4cb8f0181cfa"
      },
      "source": [
        "for batch in (iter(train_iterator)):\n",
        "  print(batch.query.shape)"
      ],
      "execution_count": 10,
      "outputs": [
        {
          "output_type": "stream",
          "text": [
            "torch.Size([7, 16])\n",
            "torch.Size([12, 16])\n",
            "torch.Size([7, 16])\n",
            "torch.Size([6, 16])\n"
          ],
          "name": "stdout"
        }
      ]
    }
  ]
}