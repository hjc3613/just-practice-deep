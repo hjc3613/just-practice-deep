{
  "nbformat": 4,
  "nbformat_minor": 0,
  "metadata": {
    "colab": {
      "name": "load_with_torchtext_for_que2res.ipynb",
      "provenance": [],
      "collapsed_sections": [],
      "include_colab_link": true
    },
    "kernelspec": {
      "name": "python3",
      "display_name": "Python 3"
    },
    "accelerator": "GPU"
  },
  "cells": [
    {
      "cell_type": "markdown",
      "metadata": {
        "id": "view-in-github",
        "colab_type": "text"
      },
      "source": [
        "<a href=\"https://colab.research.google.com/github/mmsamiei/just-practice-deep/blob/master/load_with_torchtext_for_que2res.ipynb\" target=\"_parent\"><img src=\"https://colab.research.google.com/assets/colab-badge.svg\" alt=\"Open In Colab\"/></a>"
      ]
    },
    {
      "cell_type": "code",
      "metadata": {
        "id": "7LfRykuTeFga",
        "colab_type": "code",
        "colab": {}
      },
      "source": [
        "import torchtext\n",
        "from torchtext.data import Field\n",
        "import spacy\n",
        "\n",
        "from spacy.symbols import ORTH\n",
        "my_tok = spacy.load('en')\n",
        "\n",
        "def spacy_tok(x):\n",
        "    return [tok.text for tok in my_tok.tokenizer(x)]\n",
        "\n",
        "QUERY = Field(lower=True, tokenize=spacy_tok)\n",
        "RESPONSE = Field(lower=True, tokenize=spacy_tok, is_target=True, init_token='<bos>', eos_token='<eos>')\n"
      ],
      "execution_count": 0,
      "outputs": []
    },
    {
      "cell_type": "code",
      "metadata": {
        "id": "gw2-zGZsotU-",
        "colab_type": "code",
        "colab": {}
      },
      "source": [
        "import torch\n",
        "if torch.cuda.is_available:\n",
        "  device = torch.device('cuda')\n",
        "else:\n",
        "  device = torch.device('cpu')"
      ],
      "execution_count": 0,
      "outputs": []
    },
    {
      "cell_type": "code",
      "metadata": {
        "id": "OaqBvyc4fWQl",
        "colab_type": "code",
        "colab": {}
      },
      "source": [
        "my_tok.tokenizer.add_special_case(\"don't\", [{ORTH: \"do\"}, {ORTH: \"n't\"}])"
      ],
      "execution_count": 0,
      "outputs": []
    },
    {
      "cell_type": "code",
      "metadata": {
        "id": "h0lZIUcbfcGU",
        "colab_type": "code",
        "colab": {}
      },
      "source": [
        "from torchtext.data import TabularDataset\n",
        "\n",
        "train_dataset = TabularDataset(path=\"./simpleR21.csv\", format=\"CSV\",\n",
        "                               fields=[(\"query\", QUERY),(\"response\", RESPONSE)],\n",
        "                               csv_reader_params={\"delimiter\":'\\t'})"
      ],
      "execution_count": 0,
      "outputs": []
    },
    {
      "cell_type": "code",
      "metadata": {
        "id": "DB1XFG4CgzSu",
        "colab_type": "code",
        "colab": {
          "base_uri": "https://localhost:8080/",
          "height": 106
        },
        "outputId": "076245bf-6b05-482b-bc03-3eb2f0a9dcf2"
      },
      "source": [
        "print(len(train_dataset))\n",
        "print(train_dataset[0])\n",
        "print(train_dataset[0].__dict__.keys())\n",
        "print(train_dataset[10].query)\n",
        "print(train_dataset[10].response)"
      ],
      "execution_count": 5,
      "outputs": [
        {
          "output_type": "stream",
          "text": [
            "64\n",
            "<torchtext.data.example.Example object at 0x7f1ebdf4f748>\n",
            "dict_keys(['query', 'response'])\n",
            "['what', 'is', 'your', 'favorite', 'film', '?']\n",
            "['my', 'favorite', 'file', 'is', 'inception']\n"
          ],
          "name": "stdout"
        }
      ]
    },
    {
      "cell_type": "code",
      "metadata": {
        "id": "C53wTZJFnFVO",
        "colab_type": "code",
        "colab": {
          "base_uri": "https://localhost:8080/",
          "height": 70
        },
        "outputId": "07d76987-c90e-441e-8c03-e21c9117d4e5"
      },
      "source": [
        "QUERY.build_vocab(train_dataset, vectors=\"glove.6B.200d\")\n",
        "RESPONSE.build_vocab(train_dataset)\n",
        "print(QUERY.vocab.stoi['film'])\n",
        "print(QUERY.vocab.itos[33])\n",
        "print(len(QUERY.vocab))"
      ],
      "execution_count": 6,
      "outputs": [
        {
          "output_type": "stream",
          "text": [
            "13\n",
            "religion\n",
            "66\n"
          ],
          "name": "stdout"
        }
      ]
    },
    {
      "cell_type": "code",
      "metadata": {
        "id": "P99H5ekfA2EH",
        "colab_type": "code",
        "colab": {}
      },
      "source": [
        "#QUERY.vocab.extend(RESPONSE.vocab)\n",
        "#len(QUERY.vocab)\n",
        "#print(QUERY.vocab.itos[89])"
      ],
      "execution_count": 0,
      "outputs": []
    },
    {
      "cell_type": "code",
      "metadata": {
        "id": "kFlWrbvonKMO",
        "colab_type": "code",
        "colab": {}
      },
      "source": [
        "from torchtext.data import BucketIterator\n",
        "\n",
        "train_iterator = BucketIterator(dataset= train_dataset, batch_size=16\n",
        "                                ,device=device\n",
        "                                ,sort_key=lambda x: data.interleave_keys(len(x.query), len(x.response))\n",
        "                                , repeat = False)"
      ],
      "execution_count": 0,
      "outputs": []
    },
    {
      "cell_type": "code",
      "metadata": {
        "id": "igrSpfvHp3l8",
        "colab_type": "code",
        "colab": {
          "base_uri": "https://localhost:8080/",
          "height": 551
        },
        "outputId": "27237ab5-b62a-40d3-a8f6-e08121e254ce"
      },
      "source": [
        "batch = next(iter(train_iterator))\n",
        "print(batch.__dict__.keys())\n",
        "print(batch.query.shape)\n",
        "print(batch.response.shape)\n",
        "print(batch.input_fields)\n",
        "print(batch.target_fields)\n",
        "print(batch.response)"
      ],
      "execution_count": 9,
      "outputs": [
        {
          "output_type": "stream",
          "text": [
            "dict_keys(['batch_size', 'dataset', 'fields', 'input_fields', 'target_fields', 'query', 'response'])\n",
            "torch.Size([6, 16])\n",
            "torch.Size([12, 16])\n",
            "['query']\n",
            "['response']\n",
            "tensor([[  2,   2,   2,   2,   2,   2,   2,   2,   2,   2,   2,   2,   2,   2,\n",
            "           2,   2],\n",
            "        [ 13,   4,   4,   4, 123, 118,   4,   4,  13,  13,  47,   4,  91,   4,\n",
            "          12,   4],\n",
            "        [  4,  36,  14,  14,   3,   3,   5,  14,   4,   7,  40,  97,   3,   8,\n",
            "          20,  23],\n",
            "        [ 10,  57,  98, 103,   1,   1, 108,  73,  18,  63,   3, 117,   1,  43,\n",
            "          21,  37],\n",
            "        [ 19, 100,   6,  78,   1,   1,  74,   6,  19,   9,   1,  48,   1,   3,\n",
            "          11,  55],\n",
            "        [  8,   3,   3,  70,   1,   1,   3, 119,   3,  72,   1,   7,   1,   1,\n",
            "          88,  89],\n",
            "        [  9,   1,   1,   6,   1,   1,   1,   6,   1,  84,   1,  18,   1,   1,\n",
            "           3,   3],\n",
            "        [  3,   1,   1,   3,   1,   1,   1,   3,   1,  75,   1,   9,   1,   1,\n",
            "           1,   1],\n",
            "        [  1,   1,   1,   1,   1,   1,   1,   1,   1,  42,   1, 113,   1,   1,\n",
            "           1,   1],\n",
            "        [  1,   1,   1,   1,   1,   1,   1,   1,   1,  15,   1,  92,   1,   1,\n",
            "           1,   1],\n",
            "        [  1,   1,   1,   1,   1,   1,   1,   1,   1,   3,   1,  15,   1,   1,\n",
            "           1,   1],\n",
            "        [  1,   1,   1,   1,   1,   1,   1,   1,   1,   1,   1,   3,   1,   1,\n",
            "           1,   1]], device='cuda:0')\n"
          ],
          "name": "stdout"
        }
      ]
    },
    {
      "cell_type": "code",
      "metadata": {
        "id": "iOJ8BkXL0DsO",
        "colab_type": "code",
        "colab": {
          "base_uri": "https://localhost:8080/",
          "height": 88
        },
        "outputId": "4dc877c9-b746-43c5-fd1d-8a90d6240e62"
      },
      "source": [
        "for batch in (iter(train_iterator)):\n",
        "  print(batch.query.shape)"
      ],
      "execution_count": 10,
      "outputs": [
        {
          "output_type": "stream",
          "text": [
            "torch.Size([6, 16])\n",
            "torch.Size([12, 16])\n",
            "torch.Size([6, 16])\n",
            "torch.Size([7, 16])\n"
          ],
          "name": "stdout"
        }
      ]
    }
  ]
}