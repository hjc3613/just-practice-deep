{
  "nbformat": 4,
  "nbformat_minor": 0,
  "metadata": {
    "colab": {
      "name": "Copy of ben_chatbot.ipynb",
      "provenance": [],
      "include_colab_link": true
    },
    "kernelspec": {
      "name": "python3",
      "display_name": "Python 3"
    },
    "accelerator": "GPU"
  },
  "cells": [
    {
      "cell_type": "markdown",
      "metadata": {
        "id": "view-in-github",
        "colab_type": "text"
      },
      "source": [
        "<a href=\"https://colab.research.google.com/github/mmsamiei/just-practice-deep/blob/master/Ben_chatbot.ipynb\" target=\"_parent\"><img src=\"https://colab.research.google.com/assets/colab-badge.svg\" alt=\"Open In Colab\"/></a>"
      ]
    },
    {
      "cell_type": "code",
      "metadata": {
        "id": "PuwcHEtHLoJk",
        "colab_type": "code",
        "colab": {}
      },
      "source": [
        "import torch\n",
        "import torch.nn as nn\n",
        "import torch.optim as optim\n",
        "\n",
        "import torchtext\n",
        "from torchtext.datasets import TranslationDataset, Multi30k\n",
        "from torchtext.data import Field, BucketIterator\n",
        "\n",
        "import spacy\n",
        "\n",
        "import random\n",
        "import math\n",
        "import os\n",
        "import time"
      ],
      "execution_count": 0,
      "outputs": []
    },
    {
      "cell_type": "code",
      "metadata": {
        "id": "Sm51ZP8QLsmC",
        "colab_type": "code",
        "colab": {}
      },
      "source": [
        "SEED = 1\n",
        "\n",
        "random.seed(SEED)\n",
        "torch.manual_seed(SEED)\n",
        "torch.backends.cudnn.deterministic = True"
      ],
      "execution_count": 0,
      "outputs": []
    },
    {
      "cell_type": "code",
      "metadata": {
        "id": "za5C9cGRLvIv",
        "colab_type": "code",
        "colab": {}
      },
      "source": [
        "#spacy_de = spacy.load('de')\n",
        "spacy_en = spacy.load('en')"
      ],
      "execution_count": 0,
      "outputs": []
    },
    {
      "cell_type": "code",
      "metadata": {
        "id": "OSM6p1ijMcnT",
        "colab_type": "code",
        "colab": {}
      },
      "source": [
        "def tokenize_de(text):\n",
        "    \"\"\"\n",
        "    Tokenizes German text from a string into a list of strings\n",
        "    \"\"\"\n",
        "    return [tok.text for tok in spacy_de.tokenizer(text)]\n",
        "\n",
        "def tokenize_en(text):\n",
        "    \"\"\"\n",
        "    Tokenizes English text from a string into a list of strings\n",
        "    \"\"\"\n",
        "    return [tok.text for tok in spacy_en.tokenizer(text)]"
      ],
      "execution_count": 0,
      "outputs": []
    },
    {
      "cell_type": "code",
      "metadata": {
        "id": "D7uWTZcoMeXO",
        "colab_type": "code",
        "colab": {}
      },
      "source": [
        "SRC = Field(tokenize=tokenize_en, init_token='<sos>', eos_token='<eos>', lower=True, batch_first=True)\n",
        "TRG = Field(tokenize=tokenize_en, init_token='<sos>', eos_token='<eos>', lower=True, batch_first=True)"
      ],
      "execution_count": 0,
      "outputs": []
    },
    {
      "cell_type": "code",
      "metadata": {
        "id": "OCNMfHvuMf2m",
        "colab_type": "code",
        "colab": {}
      },
      "source": [
        "#train_data, valid_data, test_data = Multi30k.splits(exts=('.de', '.en'), fields=(SRC, TRG))"
      ],
      "execution_count": 0,
      "outputs": []
    },
    {
      "cell_type": "code",
      "metadata": {
        "id": "xzWZr90jOrWe",
        "colab_type": "code",
        "colab": {}
      },
      "source": [
        "from torchtext.data import TabularDataset, interleave_keys\n",
        "\n",
        "train_dataset = TabularDataset(path=\"./formatted_movie_lines.txt\", format=\"CSV\",\n",
        "                               fields=[(\"query\", SRC),(\"response\", TRG)],\n",
        "                               csv_reader_params={\"delimiter\":'\\t'})"
      ],
      "execution_count": 0,
      "outputs": []
    },
    {
      "cell_type": "code",
      "metadata": {
        "id": "K4gwC5BWTlHU",
        "colab_type": "code",
        "colab": {
          "base_uri": "https://localhost:8080/",
          "height": 35
        },
        "outputId": "db828c8e-f0ad-4657-e79a-25bb0d2d5989"
      },
      "source": [
        "len(train_dataset)"
      ],
      "execution_count": 313,
      "outputs": [
        {
          "output_type": "execute_result",
          "data": {
            "text/plain": [
              "221282"
            ]
          },
          "metadata": {
            "tags": []
          },
          "execution_count": 313
        }
      ]
    },
    {
      "cell_type": "code",
      "metadata": {
        "id": "suanJ4t_syJO",
        "colab_type": "code",
        "colab": {}
      },
      "source": [
        "train_backup = train_dataset.examples"
      ],
      "execution_count": 0,
      "outputs": []
    },
    {
      "cell_type": "code",
      "metadata": {
        "id": "uHja9Fi2V5SE",
        "colab_type": "code",
        "colab": {
          "base_uri": "https://localhost:8080/",
          "height": 52
        },
        "outputId": "bd0e20a7-c876-4e5a-d776-169f44c336fd"
      },
      "source": [
        "temp = []\n",
        "print(len(temp))\n",
        "for i, example in enumerate(train_dataset.examples):\n",
        "  if( (len(example.query) < 3) and (len(example.response) < 3) ):\n",
        "    temp.append(example)\n",
        "print(len(temp))   "
      ],
      "execution_count": 316,
      "outputs": [
        {
          "output_type": "stream",
          "text": [
            "0\n",
            "1646\n"
          ],
          "name": "stdout"
        }
      ]
    },
    {
      "cell_type": "code",
      "metadata": {
        "id": "okCnZvFBb4zO",
        "colab_type": "code",
        "colab": {}
      },
      "source": [
        "train_dataset.examples = temp"
      ],
      "execution_count": 0,
      "outputs": []
    },
    {
      "cell_type": "code",
      "metadata": {
        "id": "gWo7y37kUXSY",
        "colab_type": "code",
        "colab": {
          "base_uri": "https://localhost:8080/",
          "height": 35
        },
        "outputId": "dfd989a0-2618-4c87-8a23-d7b312553957"
      },
      "source": [
        "len(train_dataset)"
      ],
      "execution_count": 318,
      "outputs": [
        {
          "output_type": "execute_result",
          "data": {
            "text/plain": [
              "1646"
            ]
          },
          "metadata": {
            "tags": []
          },
          "execution_count": 318
        }
      ]
    },
    {
      "cell_type": "code",
      "metadata": {
        "id": "1Z5YpPzvMiLt",
        "colab_type": "code",
        "colab": {}
      },
      "source": [
        "SRC.build_vocab(train_dataset, min_freq=2)\n",
        "TRG.build_vocab(train_dataset, min_freq=2)"
      ],
      "execution_count": 0,
      "outputs": []
    },
    {
      "cell_type": "code",
      "metadata": {
        "id": "EuRQi9ugMj5m",
        "colab_type": "code",
        "colab": {}
      },
      "source": [
        "device = torch.device('cuda' if torch.cuda.is_available() else 'cpu')"
      ],
      "execution_count": 0,
      "outputs": []
    },
    {
      "cell_type": "code",
      "metadata": {
        "id": "0iKzyx1HMlij",
        "colab_type": "code",
        "colab": {}
      },
      "source": [
        "BATCH_SIZE = 512\n",
        "\n",
        "train_iterator = BucketIterator(train_dataset,\n",
        "     batch_size=BATCH_SIZE,\n",
        "     sort_key=lambda x: interleave_keys(len(x.query), len(x.response)),\n",
        "     sort = True,\n",
        "     device=device)"
      ],
      "execution_count": 0,
      "outputs": []
    },
    {
      "cell_type": "code",
      "metadata": {
        "id": "bsikYpBEZ-jq",
        "colab_type": "code",
        "colab": {
          "base_uri": "https://localhost:8080/",
          "height": 35
        },
        "outputId": "0b97b574-442d-499e-9e43-c33d294094ef"
      },
      "source": [
        "len(list(iter(train_iterator)))"
      ],
      "execution_count": 321,
      "outputs": [
        {
          "output_type": "execute_result",
          "data": {
            "text/plain": [
              "4"
            ]
          },
          "metadata": {
            "tags": []
          },
          "execution_count": 321
        }
      ]
    },
    {
      "cell_type": "code",
      "metadata": {
        "id": "QxBLv7pBaLio",
        "colab_type": "code",
        "colab": {
          "base_uri": "https://localhost:8080/",
          "height": 88
        },
        "outputId": "56a5415e-ea04-42c7-f9e3-46ffa3a8553c"
      },
      "source": [
        "for batch in iter(train_iterator):\n",
        "  print(batch.query.shape)"
      ],
      "execution_count": 322,
      "outputs": [
        {
          "output_type": "stream",
          "text": [
            "torch.Size([512, 4])\n",
            "torch.Size([512, 4])\n",
            "torch.Size([512, 4])\n",
            "torch.Size([110, 4])\n"
          ],
          "name": "stdout"
        }
      ]
    },
    {
      "cell_type": "code",
      "metadata": {
        "id": "HrSqNwgkMoxX",
        "colab_type": "code",
        "colab": {}
      },
      "source": [
        "class Encoder(nn.Module):\n",
        "    def __init__(self, input_dim, hid_dim, n_layers, n_heads, pf_dim, encoder_layer, self_attention, positionwise_feedforward, dropout, device):\n",
        "        super().__init__()\n",
        "\n",
        "        self.input_dim = input_dim\n",
        "        self.hid_dim = hid_dim\n",
        "        self.n_layers = n_layers\n",
        "        self.n_heads = n_heads\n",
        "        self.pf_dim = pf_dim\n",
        "        self.encoder_layer = encoder_layer\n",
        "        self.self_attention = self_attention\n",
        "        self.positionwise_feedforward = positionwise_feedforward\n",
        "        self.dropout = dropout\n",
        "        self.device = device\n",
        "        \n",
        "        self.tok_embedding = nn.Embedding(input_dim, hid_dim)\n",
        "        self.pos_embedding = nn.Embedding(1000, hid_dim)\n",
        "        \n",
        "        self.layers = nn.ModuleList([encoder_layer(hid_dim, n_heads, pf_dim, self_attention, positionwise_feedforward, dropout, device) \n",
        "                                     for _ in range(n_layers)])\n",
        "        \n",
        "        self.do = nn.Dropout(dropout)\n",
        "        \n",
        "        self.scale = torch.sqrt(torch.FloatTensor([hid_dim])).to(device)\n",
        "        \n",
        "    def forward(self, src, src_mask):\n",
        "        \n",
        "        #src = [batch size, src sent len]\n",
        "        #src_mask = [batch size, src sent len]\n",
        "        \n",
        "        pos = torch.arange(0, src.shape[1]).unsqueeze(0).repeat(src.shape[0], 1).to(self.device)\n",
        "        \n",
        "        src = self.do((self.tok_embedding(src) * self.scale) + self.pos_embedding(pos))\n",
        "        \n",
        "        #src = [batch size, src sent len, hid dim]\n",
        "        \n",
        "        for layer in self.layers:\n",
        "            src = layer(src, src_mask)\n",
        "            \n",
        "        return src"
      ],
      "execution_count": 0,
      "outputs": []
    },
    {
      "cell_type": "code",
      "metadata": {
        "id": "zuY02fB8Mqlc",
        "colab_type": "code",
        "colab": {}
      },
      "source": [
        "class EncoderLayer(nn.Module):\n",
        "    def __init__(self, hid_dim, n_heads, pf_dim, self_attention, positionwise_feedforward, dropout, device):\n",
        "        super().__init__()\n",
        "        \n",
        "        self.ln = nn.LayerNorm(hid_dim)\n",
        "        self.sa = self_attention(hid_dim, n_heads, dropout, device)\n",
        "        self.pf = positionwise_feedforward(hid_dim, pf_dim, dropout)\n",
        "        self.do = nn.Dropout(dropout)\n",
        "        \n",
        "    def forward(self, src, src_mask):\n",
        "        \n",
        "        #src = [batch size, src sent len, hid dim]\n",
        "        #src_mask = [batch size, src sent len]\n",
        "        \n",
        "        src = self.ln(src + self.do(self.sa(src, src, src, src_mask)))\n",
        "        \n",
        "        src = self.ln(src + self.do(self.pf(src)))\n",
        "        \n",
        "        return src"
      ],
      "execution_count": 0,
      "outputs": []
    },
    {
      "cell_type": "code",
      "metadata": {
        "id": "qYdW9KvgMuaK",
        "colab_type": "code",
        "colab": {}
      },
      "source": [
        "class SelfAttention(nn.Module):\n",
        "    def __init__(self, hid_dim, n_heads, dropout, device):\n",
        "        super().__init__()\n",
        "        \n",
        "        self.hid_dim = hid_dim\n",
        "        self.n_heads = n_heads\n",
        "        \n",
        "        assert hid_dim % n_heads == 0\n",
        "        \n",
        "        self.w_q = nn.Linear(hid_dim, hid_dim)\n",
        "        self.w_k = nn.Linear(hid_dim, hid_dim)\n",
        "        self.w_v = nn.Linear(hid_dim, hid_dim)\n",
        "        \n",
        "        self.fc = nn.Linear(hid_dim, hid_dim)\n",
        "        \n",
        "        self.do = nn.Dropout(dropout)\n",
        "        \n",
        "        self.scale = torch.sqrt(torch.FloatTensor([hid_dim // n_heads])).to(device)\n",
        "        \n",
        "    def forward(self, query, key, value, mask=None):\n",
        "        \n",
        "        bsz = query.shape[0]\n",
        "        \n",
        "        #query = key = value [batch size, sent len, hid dim]\n",
        "                \n",
        "        Q = self.w_q(query)\n",
        "        K = self.w_k(key)\n",
        "        V = self.w_v(value)\n",
        "        \n",
        "        #Q, K, V = [batch size, sent len, hid dim]\n",
        "        \n",
        "        Q = Q.view(bsz, -1, self.n_heads, self.hid_dim // self.n_heads).permute(0, 2, 1, 3)\n",
        "        K = K.view(bsz, -1, self.n_heads, self.hid_dim // self.n_heads).permute(0, 2, 1, 3)\n",
        "        V = V.view(bsz, -1, self.n_heads, self.hid_dim // self.n_heads).permute(0, 2, 1, 3)\n",
        "        \n",
        "        #Q, K, V = [batch size, n heads, sent len, hid dim // n heads]\n",
        "        \n",
        "        energy = torch.matmul(Q, K.permute(0, 1, 3, 2)) / self.scale\n",
        "        \n",
        "        #energy = [batch size, n heads, sent len, sent len]\n",
        "        \n",
        "        if mask is not None:\n",
        "            energy = energy.masked_fill(mask == 0, -1e10)\n",
        "        \n",
        "        attention = self.do(torch.softmax(energy, dim=-1))\n",
        "        \n",
        "        #attention = [batch size, n heads, sent len, sent len]\n",
        "        \n",
        "        x = torch.matmul(attention, V)\n",
        "        \n",
        "        #x = [batch size, n heads, sent len, hid dim // n heads]\n",
        "        \n",
        "        x = x.permute(0, 2, 1, 3).contiguous()\n",
        "        \n",
        "        #x = [batch size, sent len, n heads, hid dim // n heads]\n",
        "        \n",
        "        x = x.view(bsz, -1, self.n_heads * (self.hid_dim // self.n_heads))\n",
        "        \n",
        "        #x = [batch size, src sent len, hid dim]\n",
        "        \n",
        "        x = self.fc(x)\n",
        "        \n",
        "        #x = [batch size, sent len, hid dim]\n",
        "        \n",
        "        return x"
      ],
      "execution_count": 0,
      "outputs": []
    },
    {
      "cell_type": "code",
      "metadata": {
        "id": "0zZ34q5MMwip",
        "colab_type": "code",
        "colab": {}
      },
      "source": [
        "class PositionwiseFeedforward(nn.Module):\n",
        "    def __init__(self, hid_dim, pf_dim, dropout):\n",
        "        super().__init__()\n",
        "        \n",
        "        self.hid_dim = hid_dim\n",
        "        self.pf_dim = pf_dim\n",
        "        \n",
        "        self.fc_1 = nn.Linear(hid_dim, pf_dim)\n",
        "        self.fc_2 = nn.Linear(pf_dim, hid_dim)\n",
        "        \n",
        "        self.do = nn.Dropout(dropout)\n",
        "        \n",
        "    def forward(self, x):\n",
        "        \n",
        "        #x = [batch size, sent len, hid dim]\n",
        "        \n",
        "        x = self.do(torch.relu(self.fc_1(x)))\n",
        "        \n",
        "        #x = [batch size, sent len, pf dim]\n",
        "        \n",
        "        x = self.fc_2(x)\n",
        "        \n",
        "        #x = [batch size, sent len, hid dim]\n",
        "        \n",
        "        return x"
      ],
      "execution_count": 0,
      "outputs": []
    },
    {
      "cell_type": "code",
      "metadata": {
        "id": "EMeo6hh4My4B",
        "colab_type": "code",
        "colab": {}
      },
      "source": [
        "class Decoder(nn.Module):\n",
        "    def __init__(self, output_dim, hid_dim, n_layers, n_heads, pf_dim, decoder_layer, self_attention, positionwise_feedforward, dropout, device):\n",
        "        super().__init__()\n",
        "        \n",
        "        self.output_dim = output_dim\n",
        "        self.hid_dim = hid_dim\n",
        "        self.n_layers = n_layers\n",
        "        self.n_heads = n_heads\n",
        "        self.pf_dim = pf_dim\n",
        "        self.decoder_layer = decoder_layer\n",
        "        self.self_attention = self_attention\n",
        "        self.positionwise_feedforward = positionwise_feedforward\n",
        "        self.dropout = dropout\n",
        "        self.device = device\n",
        "        \n",
        "        self.tok_embedding = nn.Embedding(output_dim, hid_dim)\n",
        "        self.pos_embedding = nn.Embedding(1000, hid_dim)\n",
        "        \n",
        "        self.layers = nn.ModuleList([decoder_layer(hid_dim, n_heads, pf_dim, self_attention, positionwise_feedforward, dropout, device)\n",
        "                                     for _ in range(n_layers)])\n",
        "        \n",
        "        self.fc = nn.Linear(hid_dim, output_dim)\n",
        "        \n",
        "        self.do = nn.Dropout(dropout)\n",
        "        \n",
        "        self.scale = torch.sqrt(torch.FloatTensor([hid_dim])).to(device)\n",
        "        \n",
        "    def forward(self, trg, src, trg_mask, src_mask):\n",
        "        \n",
        "        #trg = [batch_size, trg sent len]\n",
        "        #src = [batch_size, src sent len]\n",
        "        #trg_mask = [batch size, trg sent len]\n",
        "        #src_mask = [batch size, src sent len]\n",
        "        \n",
        "        pos = torch.arange(0, trg.shape[1]).unsqueeze(0).repeat(trg.shape[0], 1).to(self.device)\n",
        "                \n",
        "        trg = self.do((self.tok_embedding(trg) * self.scale) + self.pos_embedding(pos))\n",
        "        \n",
        "        #trg = [batch size, trg sent len, hid dim]\n",
        "        \n",
        "        for layer in self.layers:\n",
        "            trg = layer(trg, src, trg_mask, src_mask)\n",
        "            \n",
        "        return self.fc(trg)"
      ],
      "execution_count": 0,
      "outputs": []
    },
    {
      "cell_type": "code",
      "metadata": {
        "id": "i8sg-1xQM034",
        "colab_type": "code",
        "colab": {}
      },
      "source": [
        "class DecoderLayer(nn.Module):\n",
        "    def __init__(self, hid_dim, n_heads, pf_dim, self_attention, positionwise_feedforward, dropout, device):\n",
        "        super().__init__()\n",
        "        \n",
        "        self.ln = nn.LayerNorm(hid_dim)\n",
        "        self.sa = self_attention(hid_dim, n_heads, dropout, device)\n",
        "        self.ea = self_attention(hid_dim, n_heads, dropout, device)\n",
        "        self.pf = positionwise_feedforward(hid_dim, pf_dim, dropout)\n",
        "        self.do = nn.Dropout(dropout)\n",
        "        \n",
        "    def forward(self, trg, src, trg_mask, src_mask):\n",
        "        \n",
        "        #trg = [batch size, trg sent len, hid dim]\n",
        "        #src = [batch size, src sent len, hid dim]\n",
        "        #trg_mask = [batch size, trg sent len]\n",
        "        #src_mask = [batch size, src sent len]\n",
        "                \n",
        "        trg = self.ln(trg + self.do(self.sa(trg, trg, trg, trg_mask)))\n",
        "                \n",
        "        trg = self.ln(trg + self.do(self.ea(trg, src, src, src_mask)))\n",
        "        \n",
        "        trg = self.ln(trg + self.do(self.pf(trg)))\n",
        "        \n",
        "        return trg"
      ],
      "execution_count": 0,
      "outputs": []
    },
    {
      "cell_type": "code",
      "metadata": {
        "id": "Wl4cAKNzM3gc",
        "colab_type": "code",
        "colab": {}
      },
      "source": [
        "class Seq2Seq(nn.Module):\n",
        "    def __init__(self, encoder, decoder, sos_idx, pad_idx, device, maxlen=50):\n",
        "        super().__init__()\n",
        "        \n",
        "        self.encoder = encoder\n",
        "        self.decoder = decoder\n",
        "        self.sos_idx = sos_idx\n",
        "        self.pad_idx = pad_idx\n",
        "        self.device = device\n",
        "        self.maxlen = maxlen\n",
        "        \n",
        "    def make_masks(self, src, trg):\n",
        "        \n",
        "        #src = [batch size, src sent len]\n",
        "        #trg = [batch size, trg sent len]\n",
        "        \n",
        "        src_mask = (src != self.pad_idx).unsqueeze(1).unsqueeze(2)\n",
        "        \n",
        "        trg_pad_mask = (trg != self.pad_idx).unsqueeze(1).unsqueeze(3)\n",
        "        \n",
        "        #src_mask = [batch size, 1, 1, src sent len]\n",
        "        #trg_pad_mask = [batch size, 1, trg sent len, 1]\n",
        "        \n",
        "        trg_len = trg.shape[1]\n",
        "        \n",
        "        trg_sub_mask = torch.tril(torch.ones((trg_len, trg_len), device=self.device)).bool()\n",
        "                        \n",
        "        #trg_sub_mask = [trg sent len, trg sent len]\n",
        "            \n",
        "        trg_mask = trg_pad_mask & trg_sub_mask\n",
        "        \n",
        "        #trg_mask = [batch size, 1, trg sent len, trg sent len]\n",
        "        \n",
        "        return src_mask, trg_mask\n",
        "    \n",
        "    def forward(self, src, trg):\n",
        "        \n",
        "        #src = [batch size, src sent len]\n",
        "        #trg = [batch size, trg sent len]\n",
        "                \n",
        "        src_mask, trg_mask = self.make_masks(src, trg)\n",
        "        \n",
        "        enc_src = self.encoder(src, src_mask)\n",
        "        \n",
        "        #enc_src = [batch size, src sent len, hid dim]\n",
        "                \n",
        "        out = self.decoder(trg, enc_src, trg_mask, src_mask)\n",
        "        \n",
        "        #out = [batch size, trg sent len, output dim]\n",
        "        \n",
        "        return out\n",
        "    \n",
        "    def translate_sequences(self, src):\n",
        "        #src = [batch size, src sent len]\n",
        "        \n",
        "        batch_size, src_len = src.shape\n",
        "        trg = src.new_full((batch_size, 1), self.sos_idx)\n",
        "        #trg = [batch size, 1]\n",
        "        src_mask, trg_mask = self.make_masks(src, trg)\n",
        "        \n",
        "        enc_src = self.encoder(src, src_mask)\n",
        "        \n",
        "        #enc_src = [batch size, src sent len, hid dim]\n",
        "        \n",
        "        translation_step = 0\n",
        "        while translation_step < self.maxlen:\n",
        "            out = self.decoder(trg, enc_src, trg_mask, src_mask)\n",
        "            # out - [batch size, trg sent len, output dim]\n",
        "            out = torch.argmax(out[:, -1], dim=1) # batch size\n",
        "            out = out.unsqueeze(1) # batch size, 1\n",
        "            trg = torch.cat((trg, out), dim=1)\n",
        "            # trg - [batch size, trg sent len]\n",
        "            src_mask, trg_mask = self.make_masks(src, trg)\n",
        "            translation_step += 1\n",
        "        return trg"
      ],
      "execution_count": 0,
      "outputs": []
    },
    {
      "cell_type": "code",
      "metadata": {
        "id": "zSA5dd91M4X4",
        "colab_type": "code",
        "colab": {}
      },
      "source": [
        "input_dim = len(SRC.vocab)\n",
        "hid_dim = 512\n",
        "n_layers = 6\n",
        "n_heads = 8\n",
        "pf_dim = 2048\n",
        "dropout = 0.1\n",
        "\n",
        "enc = Encoder(input_dim, hid_dim, n_layers, n_heads, pf_dim, EncoderLayer, SelfAttention, PositionwiseFeedforward, dropout, device)"
      ],
      "execution_count": 0,
      "outputs": []
    },
    {
      "cell_type": "code",
      "metadata": {
        "id": "8Q0ndCVuM71R",
        "colab_type": "code",
        "colab": {}
      },
      "source": [
        "output_dim = len(TRG.vocab)\n",
        "hid_dim = 512\n",
        "n_layers = 6\n",
        "n_heads = 8\n",
        "pf_dim = 2048\n",
        "dropout = 0.1\n",
        "\n",
        "dec = Decoder(output_dim, hid_dim, n_layers, n_heads, pf_dim, DecoderLayer, SelfAttention, PositionwiseFeedforward, dropout, device)"
      ],
      "execution_count": 0,
      "outputs": []
    },
    {
      "cell_type": "code",
      "metadata": {
        "id": "H0E40UH2M9tl",
        "colab_type": "code",
        "colab": {}
      },
      "source": [
        "pad_idx = SRC.vocab.stoi['<pad>']\n",
        "sos_idx = SRC.vocab.stoi['<sos>']\n",
        "\n",
        "model = Seq2Seq(enc, dec, sos_idx, pad_idx, device).to(device)"
      ],
      "execution_count": 0,
      "outputs": []
    },
    {
      "cell_type": "code",
      "metadata": {
        "id": "Vw_x-s0QM_X_",
        "colab_type": "code",
        "outputId": "745987db-1b58-471c-ec9e-72cc037bf5e3",
        "colab": {
          "base_uri": "https://localhost:8080/",
          "height": 35
        }
      },
      "source": [
        "def count_parameters(model):\n",
        "    return sum(p.numel() for p in model.parameters() if p.requires_grad)\n",
        "\n",
        "print(f'The model has {count_parameters(model):,} trainable parameters')"
      ],
      "execution_count": 333,
      "outputs": [
        {
          "output_type": "stream",
          "text": [
            "The model has 87,693,463 trainable parameters\n"
          ],
          "name": "stdout"
        }
      ]
    },
    {
      "cell_type": "code",
      "metadata": {
        "id": "GDy7Zri9NBBj",
        "colab_type": "code",
        "colab": {}
      },
      "source": [
        "for p in model.parameters():\n",
        "    if p.dim() > 1:\n",
        "        nn.init.xavier_uniform_(p)"
      ],
      "execution_count": 0,
      "outputs": []
    },
    {
      "cell_type": "code",
      "metadata": {
        "id": "TVCU3TO0NDAv",
        "colab_type": "code",
        "colab": {}
      },
      "source": [
        "class NoamOpt:\n",
        "    \"Optim wrapper that implements rate.\"\n",
        "    def __init__(self, model_size, factor, warmup, optimizer):\n",
        "        self.optimizer = optimizer\n",
        "        self._step = 0\n",
        "        self.warmup = warmup\n",
        "        self.factor = factor\n",
        "        self.model_size = model_size\n",
        "        self._rate = 0\n",
        "        \n",
        "    def step(self):\n",
        "        \"Update parameters and rate\"\n",
        "        self._step += 1\n",
        "        rate = self.rate()\n",
        "        for p in self.optimizer.param_groups:\n",
        "            p['lr'] = rate\n",
        "        self._rate = rate\n",
        "        self.optimizer.step()\n",
        "        \n",
        "    def rate(self, step = None):\n",
        "        \"Implement `lrate` above\"\n",
        "        if step is None:\n",
        "            step = self._step\n",
        "        return self.factor * \\\n",
        "            (self.model_size ** (-0.5) *\n",
        "            min(step ** (-0.5), step * self.warmup ** (-1.5)))\n",
        "    \n",
        "    def zero_grad(self):\n",
        "        self.optimizer.zero_grad()"
      ],
      "execution_count": 0,
      "outputs": []
    },
    {
      "cell_type": "code",
      "metadata": {
        "id": "B8lurD8ANE2-",
        "colab_type": "code",
        "colab": {}
      },
      "source": [
        "optimizer = NoamOpt(hid_dim, 1, 2000,\n",
        "            torch.optim.Adam(model.parameters(), lr=0, betas=(0.9, 0.98), eps=1e-9))"
      ],
      "execution_count": 0,
      "outputs": []
    },
    {
      "cell_type": "code",
      "metadata": {
        "id": "FeOET3uYNGob",
        "colab_type": "code",
        "colab": {}
      },
      "source": [
        "criterion = nn.CrossEntropyLoss(ignore_index=pad_idx)"
      ],
      "execution_count": 0,
      "outputs": []
    },
    {
      "cell_type": "code",
      "metadata": {
        "id": "mntX38RPNI0I",
        "colab_type": "code",
        "colab": {}
      },
      "source": [
        "def train(model, iterator, optimizer, criterion, clip):\n",
        "    \n",
        "    model.train()\n",
        "    \n",
        "    epoch_loss = 0\n",
        "    \n",
        "    for i, batch in enumerate(iterator):\n",
        "        \n",
        "        src = batch.query\n",
        "        trg = batch.response\n",
        "        \n",
        "        #if(i%100==1):\n",
        "        #  print(\"src shape {}->batch {}: {}\".format(src.shape,i, loss))\n",
        "\n",
        "        optimizer.zero_grad()\n",
        "        \n",
        "        output = model(src, trg[:,:-1])\n",
        "                \n",
        "        #output = [batch size, trg sent len - 1, output dim]\n",
        "        #trg = [batch size, trg sent len]\n",
        "            \n",
        "        output = output.contiguous().view(-1, output.shape[-1])\n",
        "        trg = trg[:,1:].contiguous().view(-1)\n",
        "                \n",
        "        #output = [batch size * trg sent len - 1, output dim]\n",
        "        #trg = [batch size * trg sent len - 1]\n",
        "            \n",
        "        loss = criterion(output, trg)\n",
        "        \n",
        "        loss.backward()\n",
        "        \n",
        "        torch.nn.utils.clip_grad_norm_(model.parameters(), clip)\n",
        "        \n",
        "        optimizer.step()\n",
        "        \n",
        "        epoch_loss += loss.item()\n",
        "        \n",
        "    return epoch_loss / len(iterator)"
      ],
      "execution_count": 0,
      "outputs": []
    },
    {
      "cell_type": "code",
      "metadata": {
        "id": "ACddO2tRNK-h",
        "colab_type": "code",
        "colab": {}
      },
      "source": [
        "def evaluate(model, iterator, criterion):\n",
        "    \n",
        "    model.eval()\n",
        "    \n",
        "    epoch_loss = 0\n",
        "    \n",
        "    with torch.no_grad():\n",
        "    \n",
        "        for i, batch in enumerate(iterator):\n",
        "\n",
        "            src = batch.src\n",
        "            trg = batch.trg\n",
        "\n",
        "            output = model(src, trg[:,:-1])\n",
        "            \n",
        "            #output = [batch size, trg sent len - 1, output dim]\n",
        "            #trg = [batch size, trg sent len]\n",
        "            \n",
        "            output = output.contiguous().view(-1, output.shape[-1])\n",
        "            trg = trg[:,1:].contiguous().view(-1)\n",
        "            \n",
        "            #output = [batch size * trg sent len - 1, output dim]\n",
        "            #trg = [batch size * trg sent len - 1]\n",
        "            \n",
        "            loss = criterion(output, trg)\n",
        "\n",
        "            epoch_loss += loss.item()\n",
        "        \n",
        "    return epoch_loss / len(iterator)"
      ],
      "execution_count": 0,
      "outputs": []
    },
    {
      "cell_type": "code",
      "metadata": {
        "id": "-0tWkAHGNNSP",
        "colab_type": "code",
        "colab": {}
      },
      "source": [
        "def epoch_time(start_time, end_time):\n",
        "    elapsed_time = end_time - start_time\n",
        "    elapsed_mins = int(elapsed_time / 60)\n",
        "    elapsed_secs = int(elapsed_time - (elapsed_mins * 60))\n",
        "    return elapsed_mins, elapsed_secs"
      ],
      "execution_count": 0,
      "outputs": []
    },
    {
      "cell_type": "code",
      "metadata": {
        "id": "THqEDT0fNPVa",
        "colab_type": "code",
        "outputId": "b5d1060d-f013-448d-e19b-427efc1af902",
        "colab": {
          "base_uri": "https://localhost:8080/",
          "height": 1000
        }
      },
      "source": [
        "N_EPOCHS = 30\n",
        "CLIP = 1\n",
        "\n",
        "best_valid_loss = float('inf')\n",
        "\n",
        "for epoch in range(N_EPOCHS):\n",
        "    \n",
        "    start_time = time.time()\n",
        "    \n",
        "    train_loss = train(model, train_iterator, optimizer, criterion, CLIP)\n",
        "    #valid_loss = evaluate(model, valid_iterator, criterion)\n",
        "    \n",
        "    end_time = time.time()\n",
        "    \n",
        "    epoch_mins, epoch_secs = epoch_time(start_time, end_time)\n",
        "    \n",
        "    # if valid_loss < best_valid_loss:\n",
        "    #     best_valid_loss = valid_loss\n",
        "    #     torch.save(model.state_dict(), 'tut6-model.pt')\n",
        "    \n",
        "    print(f'Epoch: {epoch+1:02} | Time: {epoch_mins}m {epoch_secs}s')\n",
        "    print(f'\\tTrain Loss: {train_loss:.3f} | Train PPL: {math.exp(train_loss):7.3f}')\n",
        "    #print(f'\\t Val. Loss: {valid_loss:.3f} |  Val. PPL: {math.exp(valid_loss):7.3f}')"
      ],
      "execution_count": 381,
      "outputs": [
        {
          "output_type": "stream",
          "text": [
            "Epoch: 01 | Time: 0m 2s\n",
            "\tTrain Loss: 0.502 | Train PPL:   1.652\n",
            "Epoch: 02 | Time: 0m 2s\n",
            "\tTrain Loss: 0.508 | Train PPL:   1.661\n",
            "Epoch: 03 | Time: 0m 2s\n",
            "\tTrain Loss: 0.497 | Train PPL:   1.644\n",
            "Epoch: 04 | Time: 0m 2s\n",
            "\tTrain Loss: 0.497 | Train PPL:   1.643\n",
            "Epoch: 05 | Time: 0m 2s\n",
            "\tTrain Loss: 0.489 | Train PPL:   1.631\n",
            "Epoch: 06 | Time: 0m 2s\n",
            "\tTrain Loss: 0.482 | Train PPL:   1.619\n",
            "Epoch: 07 | Time: 0m 2s\n",
            "\tTrain Loss: 0.471 | Train PPL:   1.601\n",
            "Epoch: 08 | Time: 0m 2s\n",
            "\tTrain Loss: 0.464 | Train PPL:   1.591\n",
            "Epoch: 09 | Time: 0m 2s\n",
            "\tTrain Loss: 0.458 | Train PPL:   1.582\n",
            "Epoch: 10 | Time: 0m 2s\n",
            "\tTrain Loss: 0.481 | Train PPL:   1.617\n",
            "Epoch: 11 | Time: 0m 2s\n",
            "\tTrain Loss: 0.475 | Train PPL:   1.607\n",
            "Epoch: 12 | Time: 0m 2s\n",
            "\tTrain Loss: 0.472 | Train PPL:   1.604\n",
            "Epoch: 13 | Time: 0m 2s\n",
            "\tTrain Loss: 0.457 | Train PPL:   1.579\n",
            "Epoch: 14 | Time: 0m 2s\n",
            "\tTrain Loss: 0.458 | Train PPL:   1.582\n",
            "Epoch: 15 | Time: 0m 2s\n",
            "\tTrain Loss: 0.452 | Train PPL:   1.571\n",
            "Epoch: 16 | Time: 0m 2s\n",
            "\tTrain Loss: 0.447 | Train PPL:   1.564\n",
            "Epoch: 17 | Time: 0m 2s\n",
            "\tTrain Loss: 0.445 | Train PPL:   1.560\n",
            "Epoch: 18 | Time: 0m 2s\n",
            "\tTrain Loss: 0.453 | Train PPL:   1.572\n",
            "Epoch: 19 | Time: 0m 2s\n",
            "\tTrain Loss: 0.452 | Train PPL:   1.572\n",
            "Epoch: 20 | Time: 0m 2s\n",
            "\tTrain Loss: 0.452 | Train PPL:   1.571\n",
            "Epoch: 21 | Time: 0m 2s\n",
            "\tTrain Loss: 0.458 | Train PPL:   1.581\n",
            "Epoch: 22 | Time: 0m 2s\n",
            "\tTrain Loss: 0.461 | Train PPL:   1.586\n",
            "Epoch: 23 | Time: 0m 2s\n",
            "\tTrain Loss: 0.460 | Train PPL:   1.585\n",
            "Epoch: 24 | Time: 0m 2s\n",
            "\tTrain Loss: 0.446 | Train PPL:   1.561\n",
            "Epoch: 25 | Time: 0m 2s\n",
            "\tTrain Loss: 0.437 | Train PPL:   1.548\n",
            "Epoch: 26 | Time: 0m 2s\n",
            "\tTrain Loss: 0.448 | Train PPL:   1.565\n",
            "Epoch: 27 | Time: 0m 2s\n",
            "\tTrain Loss: 0.435 | Train PPL:   1.545\n",
            "Epoch: 28 | Time: 0m 2s\n",
            "\tTrain Loss: 0.432 | Train PPL:   1.540\n",
            "Epoch: 29 | Time: 0m 2s\n",
            "\tTrain Loss: 0.439 | Train PPL:   1.552\n",
            "Epoch: 30 | Time: 0m 2s\n",
            "\tTrain Loss: 0.444 | Train PPL:   1.559\n"
          ],
          "name": "stdout"
        }
      ]
    },
    {
      "cell_type": "code",
      "metadata": {
        "id": "X761gaWdN6uz",
        "colab_type": "code",
        "outputId": "f04a28ef-9b36-46d2-cc67-8ac84ddd52d8",
        "colab": {
          "base_uri": "https://localhost:8080/",
          "height": 52
        }
      },
      "source": [
        "source_sentence = [\"<sos>\"] + train_dataset[40].query + [\"<eos>\"]\n",
        "#source_sentence = [\"<sos>\"] + [\"hello\",\"!\"] + [\"<eos>\"]\n",
        "target_sentence = [\"<sos>\"] + train_dataset[40].response + [\"<eos>\"]\n",
        "print(' '.join(source_sentence))\n",
        "print(' '.join(target_sentence))"
      ],
      "execution_count": 396,
      "outputs": [
        {
          "output_type": "stream",
          "text": [
            "<sos> hello ! <eos>\n",
            "<sos> yes ! <eos>\n"
          ],
          "name": "stdout"
        }
      ]
    },
    {
      "cell_type": "code",
      "metadata": {
        "id": "vp0_CqDkN9qq",
        "colab_type": "code",
        "outputId": "ecf994ad-93af-4d28-fe82-69986961927f",
        "colab": {
          "base_uri": "https://localhost:8080/",
          "height": 88
        }
      },
      "source": [
        "x = SRC.numericalize([source_sentence]).to(device)\n",
        "# y = TRG.numericalize([target_sentence]).to(device)\n",
        "# We actually do not have y in real world, translation should only\n",
        "# rely on source data. translate_sequences should work worse than\n",
        "# model(x, y), as it uses its own predicted tokens rather than\n",
        "# tokens from gold example (y).\n",
        "translation = model.translate_sequences(x)\n",
        "translation = translation[0].cpu().detach().numpy()\n",
        "\n",
        "print(translation)\n",
        "for x in translation[1:]:\n",
        "    word = TRG.vocab.itos[x]\n",
        "    if word == \"<eos>\":\n",
        "        break\n",
        "    print(word, end=' ')\n",
        "    #print(x)"
      ],
      "execution_count": 397,
      "outputs": [
        {
          "output_type": "stream",
          "text": [
            "[  2 527   4   3   3   3   3   3   3   3   3   3   3   3   3   3   3   3\n",
            "   3   3   3   3   3   3   3   3   3   3   3   3   3   3   3   3   3   3\n",
            "   3   3   3   3   3   3   3   3   3   3   3   3   3   3   3]\n",
            "hello . "
          ],
          "name": "stdout"
        }
      ]
    },
    {
      "cell_type": "code",
      "metadata": {
        "id": "3NjmCX3CvtcG",
        "colab_type": "code",
        "colab": {
          "base_uri": "https://localhost:8080/",
          "height": 1000
        },
        "outputId": "d1642e75-138f-4342-bd8b-c3e7d4db3355"
      },
      "source": [
        "for i in range(50):\n",
        "  print(\"\\n\"+\"**\"*10)\n",
        "  source_sentence = [\"<sos>\"] + train_dataset[i].query + [\"<eos>\"]\n",
        "  target_sentence = [\"<sos>\"] + train_dataset[i].response + [\"<eos>\"]\n",
        "  print(' '.join(source_sentence))\n",
        "  print(' '.join(target_sentence))\n",
        "  x = SRC.numericalize([source_sentence]).to(device)\n",
        "  # y = TRG.numericalize([target_sentence]).to(device)\n",
        "  # We actually do not have y in real world, translation should only\n",
        "  # rely on source data. translate_sequences should work worse than\n",
        "  # model(x, y), as it uses its own predicted tokens rather than\n",
        "  # tokens from gold example (y).\n",
        "  translation = model.translate_sequences(x)\n",
        "  translation = translation[0].cpu().detach().numpy()\n",
        "  for x in translation[1:]:\n",
        "      word = TRG.vocab.itos[x]\n",
        "      if word == \"<eos>\":\n",
        "          break\n",
        "      print(word, end=' ')\n"
      ],
      "execution_count": 384,
      "outputs": [
        {
          "output_type": "stream",
          "text": [
            "\n",
            "********************\n",
            "<sos> there . <eos>\n",
            "<sos> where ? <eos>\n",
            "where ? \n",
            "********************\n",
            "<sos> who ? <eos>\n",
            "<sos> joey . <eos>\n",
            "the ... \n",
            "********************\n",
            "<sos> who ? <eos>\n",
            "<sos> dorsey . <eos>\n",
            "me ! \n",
            "********************\n",
            "<sos> who ? <eos>\n",
            "<sos> bianca <eos>\n",
            "me ! \n",
            "********************\n",
            "<sos> wholesome . <eos>\n",
            "<sos> unwelcome . <eos>\n",
            "unwelcome . \n",
            "********************\n",
            "<sos> say it <eos>\n",
            "<sos> what ? <eos>\n",
            "what ? \n",
            "********************\n",
            "<sos> no ... <eos>\n",
            "<sos> no ? <eos>\n",
            "no ? \n",
            "********************\n",
            "<sos> thousands . <eos>\n",
            "<sos> why ? <eos>\n",
            "why ? \n",
            "********************\n",
            "<sos> pretty . <eos>\n",
            "<sos> hmmmm . <eos>\n",
            "hmmmm . \n",
            "********************\n",
            "<sos> alright . <eos>\n",
            "<sos> alright ? <eos>\n",
            "okay . \n",
            "********************\n",
            "<sos> alright ? <eos>\n",
            "<sos> alright . <eos>\n",
            "alright . \n",
            "********************\n",
            "<sos> alright . <eos>\n",
            "<sos> alright . <eos>\n",
            "okay . \n",
            "********************\n",
            "<sos> alright . <eos>\n",
            "<sos> okay . <eos>\n",
            "okay . \n",
            "********************\n",
            "<sos> really . <eos>\n",
            "<sos> yes . <eos>\n",
            "yes . \n",
            "********************\n",
            "<sos> hal ? <eos>\n",
            "<sos> yes . <eos>\n",
            "yes . \n",
            "********************\n",
            "<sos> name ? <eos>\n",
            "<sos> hammond . <eos>\n",
            "hammond . \n",
            "********************\n",
            "<sos> yeah . <eos>\n",
            "<sos> vodka . <eos>\n",
            "yeah . \n",
            "********************\n",
            "<sos> jack ? <eos>\n",
            "<sos> yeah ? <eos>\n",
            "yeah ? \n",
            "********************\n",
            "<sos> apipoussan ! <eos>\n",
            "<sos> apipoussan ? <eos>\n",
            "apipoussan ? \n",
            "********************\n",
            "<sos> vomit ? <eos>\n",
            "<sos> faint . <eos>\n",
            "faint . \n",
            "********************\n",
            "<sos> okay . <eos>\n",
            "<sos> fine . <eos>\n",
            "okay . \n",
            "********************\n",
            "<sos> yeah . <eos>\n",
            "<sos> bang ! <eos>\n",
            "yeah . \n",
            "********************\n",
            "<sos> rolfe . <eos>\n",
            "<sos> wade ? <eos>\n",
            "wade ? \n",
            "********************\n",
            "<sos> who ? <eos>\n",
            "<sos> twombley . <eos>\n",
            "me ! \n",
            "********************\n",
            "<sos> alice ! <eos>\n",
            "<sos> daddy ... <eos>\n",
            "daddy ... \n",
            "********************\n",
            "<sos> four ... <eos>\n",
            "<sos> jim ... <eos>\n",
            "jim ... \n",
            "********************\n",
            "<sos> jim ... <eos>\n",
            "<sos> three ... <eos>\n",
            "three ... \n",
            "********************\n",
            "<sos> one . <eos>\n",
            "<sos> but ... <eos>\n",
            "what ? \n",
            "********************\n",
            "<sos> shepherd . <eos>\n",
            "<sos> sir ... <eos>\n",
            "sir ... \n",
            "********************\n",
            "<sos> oveur . <eos>\n",
            "<sos> dunn . <eos>\n",
            "dunn . \n",
            "********************\n",
            "<sos> dunn . <eos>\n",
            "<sos> sir ? <eos>\n",
            "sir ? \n",
            "********************\n",
            "<sos> elaine ! <eos>\n",
            "<sos> ted ! <eos>\n",
            "ted ! \n",
            "********************\n",
            "<sos> set ! <eos>\n",
            "<sos> now ! <eos>\n",
            "now ! \n",
            "********************\n",
            "<sos> now ! <eos>\n",
            "<sos> compute ! <eos>\n",
            "compute ! \n",
            "********************\n",
            "<sos> elaine ! <eos>\n",
            "<sos> ted ! <eos>\n",
            "ted ! \n",
            "********************\n",
            "<sos> ted ... <eos>\n",
            "<sos> yes ? <eos>\n",
            "yes ? \n",
            "********************\n",
            "<sos> roger . <eos>\n",
            "<sos> huh ? <eos>\n",
            "huh ? \n",
            "********************\n",
            "<sos> roger . <eos>\n",
            "<sos> huh ? <eos>\n",
            "huh ? \n",
            "********************\n",
            "<sos> nothing . <eos>\n",
            "<sos> nothing ? <eos>\n",
            "nothing ? \n",
            "********************\n",
            "<sos> movement ! <eos>\n",
            "<sos> position ? <eos>\n",
            "position ? \n",
            "********************\n",
            "<sos> now ? <eos>\n",
            "<sos> yes ! <eos>\n",
            "now . \n",
            "********************\n",
            "<sos> yes ! <eos>\n",
            "<sos> why ? <eos>\n",
            "yeah ! \n",
            "********************\n",
            "<sos> eat <eos>\n",
            "<sos> yes . <eos>\n",
            "yes . \n",
            "********************\n",
            "<sos> no ! <eos>\n",
            "<sos> yes ! <eos>\n",
            "<unk> ! \n",
            "********************\n",
            "<sos> originals ? <eos>\n",
            "<sos> yes . <eos>\n",
            "yes . \n",
            "********************\n",
            "<sos> tonight ? <eos>\n",
            "<sos> alone . <eos>\n",
            "alone . \n",
            "********************\n",
            "<sos> behold ! <eos>\n",
            "<sos> behold ! <eos>\n",
            "behold ! \n",
            "********************\n",
            "<sos> hey ! <eos>\n",
            "<sos> hey ! <eos>\n",
            "hey ! \n",
            "********************\n",
            "<sos> behold ! <eos>\n",
            "<sos> behold ! <eos>\n",
            "behold ! \n",
            "********************\n",
            "<sos> upstairs . <eos>\n",
            "<sos> gertrude ! <eos>\n",
            "gertrude ! "
          ],
          "name": "stdout"
        }
      ]
    }
  ]
}