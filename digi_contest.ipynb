{
  "nbformat": 4,
  "nbformat_minor": 0,
  "metadata": {
    "colab": {
      "name": "digi-contest.ipynb",
      "provenance": [],
      "collapsed_sections": [],
      "include_colab_link": true
    },
    "kernelspec": {
      "name": "python3",
      "display_name": "Python 3"
    },
    "accelerator": "GPU"
  },
  "cells": [
    {
      "cell_type": "markdown",
      "metadata": {
        "id": "view-in-github",
        "colab_type": "text"
      },
      "source": [
        "<a href=\"https://colab.research.google.com/github/mmsamiei/just-practice-deep/blob/master/digi_contest.ipynb\" target=\"_parent\"><img src=\"https://colab.research.google.com/assets/colab-badge.svg\" alt=\"Open In Colab\"/></a>"
      ]
    },
    {
      "cell_type": "code",
      "metadata": {
        "id": "TDfLKgBAOCn7",
        "colab_type": "code",
        "colab": {}
      },
      "source": [
        "import torch\n",
        "import torch.nn as nn\n",
        "import numpy as np\n",
        "\n",
        "device = torch.device('cuda') if torch.cuda.is_available() else torch.device('cpu')"
      ],
      "execution_count": 0,
      "outputs": []
    },
    {
      "cell_type": "code",
      "metadata": {
        "id": "Mxb0vhMdO6nq",
        "colab_type": "code",
        "colab": {}
      },
      "source": [
        "class SentimentModel(nn.Module):\n",
        "  \n",
        "  def __init__(self, hid_size, vocab_size, n_head, n_layers, pf_size, max_len, device):\n",
        "    super().__init__()\n",
        "\n",
        "    self.device = device\n",
        "    \n",
        "    self.hid_size = hid_size\n",
        "    self.pf_size = pf_size\n",
        "    self.max_len = max_len\n",
        "    self.n_head = n_head\n",
        "\n",
        "    self.embedding = nn.Embedding(vocab_size, hid_size)\n",
        "\n",
        "    self.position_enc = nn.Embedding(self.max_len, self.hid_size)\n",
        "    self.position_enc.weight.data = self.position_encoding_init(self.max_len, self.hid_size)\n",
        "    self.scale = torch.sqrt(torch.FloatTensor([self.hid_size])).to(device)\n",
        "\n",
        "    self.layer_norm = nn.LayerNorm(self.hid_size)\n",
        "    self.encoder_layer = nn.TransformerEncoderLayer(d_model=hid_size, nhead = n_head, dim_feedforward = pf_size)\n",
        "    self.encoder = nn.TransformerEncoder(self.encoder_layer, num_layers=n_layers, norm=self.layer_norm)\n",
        "    self.fc = nn.Linear(hid_size, 2)\n",
        "\n",
        "    self._init_weights()\n",
        "  \n",
        "  def forward(self, x):\n",
        "    sent_len, batch_size = x.shape[0], x.shape[1]\n",
        "\n",
        "    temp = x\n",
        "    temp = self.embedding(temp)\n",
        "\n",
        "    pos = torch.arange(0,sent_len).unsqueeze(1).repeat(1,batch_size).to(self.device)\n",
        "    temp_pos_emb = self.position_enc(pos)\n",
        "\n",
        "    temp = temp * self.scale + temp_pos_emb\n",
        "    temp = self.encoder(temp)\n",
        "    temp = self.fc(temp[0,:])\n",
        "    return temp\n",
        "\n",
        "  def _init_weights(self):\n",
        "    for p in self.parameters():\n",
        "      if p.dim() > 1:\n",
        "        nn.init.xavier_uniform_(p)\n",
        "\n",
        "  def append_decoder_layer(self):\n",
        "    appended_mod = nn.TransformerEncoderLayer(d_model=self.hid_size, nhead = self.n_head, dim_feedforward = self.pf_size).to(self.device)\n",
        "    for p in appended_mod.parameters():\n",
        "      if p.dim() > 1:\n",
        "        nn.init.xavier_uniform_(p)\n",
        "    self.encoder.layers.append(appended_mod)\n",
        "    self.encoder.num_layers += 1\n",
        "\n",
        "  \n",
        "  def position_encoding_init(self, n_position, d_pos_vec):\n",
        "    ''' Init the sinusoid position encoding table '''\n",
        "\n",
        "    # keep dim 0 for padding token position encoding zero vector\n",
        "    position_enc = np.array([\n",
        "        [pos / np.power(10000, 2*i/d_pos_vec) for i in range(d_pos_vec)]\n",
        "        if pos != 0 else np.zeros(d_pos_vec) for pos in range(n_position)])\n",
        "\n",
        "    position_enc[1:, 0::2] = np.sin(position_enc[1:, 0::2]) # dim 2i\n",
        "    position_enc[1:, 1::2] = np.cos(position_enc[1:, 1::2]) # dim 2i+1\n",
        "    temp = torch.from_numpy(position_enc).type(torch.FloatTensor)\n",
        "    temp = temp.to(self.device)\n",
        "    return temp"
      ],
      "execution_count": 0,
      "outputs": []
    },
    {
      "cell_type": "code",
      "metadata": {
        "id": "WN1zAfWNQp9d",
        "colab_type": "code",
        "colab": {}
      },
      "source": [
        "hid_size = 16\n",
        "vocab_size = 60 \n",
        "n_head = 4\n",
        "n_layers = 2\n",
        "pf_size = 64\n",
        "max_len = 1200\n",
        "model = SentimentModel(hid_size, vocab_size, n_head, n_layers, pf_size, max_len, device).to(device)"
      ],
      "execution_count": 0,
      "outputs": []
    },
    {
      "cell_type": "code",
      "metadata": {
        "id": "fxDKX-3ZR1JM",
        "colab_type": "code",
        "outputId": "004cca75-1ac3-409b-dca7-763b1c9bce80",
        "colab": {
          "base_uri": "https://localhost:8080/",
          "height": 35
        }
      },
      "source": [
        "test_len = 20\n",
        "batch_size = 64\n",
        "test_input = torch.LongTensor(test_len, batch_size).random_(1,vocab_size).to(device)\n",
        "model(test_input).shape"
      ],
      "execution_count": 4,
      "outputs": [
        {
          "output_type": "execute_result",
          "data": {
            "text/plain": [
              "torch.Size([64, 2])"
            ]
          },
          "metadata": {
            "tags": []
          },
          "execution_count": 4
        }
      ]
    },
    {
      "cell_type": "code",
      "metadata": {
        "id": "IWnSSADbRsrj",
        "colab_type": "code",
        "outputId": "2fd00f3d-b220-48d6-8b2b-69cdd3431719",
        "colab": {
          "base_uri": "https://localhost:8080/",
          "height": 35
        }
      },
      "source": [
        "def count_parameters(model):\n",
        "    return sum(p.numel() for p in model.parameters() if p.requires_grad)\n",
        "\n",
        "print(f'The model has {count_parameters(model):,} trainable parameters')"
      ],
      "execution_count": 5,
      "outputs": [
        {
          "output_type": "stream",
          "text": [
            "The model has 30,066 trainable parameters\n"
          ],
          "name": "stdout"
        }
      ]
    },
    {
      "cell_type": "markdown",
      "metadata": {
        "id": "-APzgvLzS2Dt",
        "colab_type": "text"
      },
      "source": [
        "**Data Loading**"
      ]
    },
    {
      "cell_type": "code",
      "metadata": {
        "id": "TLR1DH5oS7rL",
        "colab_type": "code",
        "colab": {}
      },
      "source": [
        "import torchtext\n",
        "from torchtext.data import Field, SubwordField\n",
        "from torchtext.data import Pipeline\n",
        "import spacy\n",
        "\n",
        "tokenize = lambda x: x.split()\n",
        "\n",
        "def remove_repetitive_char(x):\n",
        "  string = \" \"\n",
        "  for char in x:\n",
        "    if(char != string[-1]):\n",
        "      string += char\n",
        "  return string[1:]\n",
        "\n",
        "def replace_bad_char(x):\n",
        "  string = x\n",
        "  string = string.replace(\"ة\", \"ه\")\n",
        "  string = string.replace(\"ي\", \"ی\")\n",
        "  string = string.replace(\"ٱ\", \"ا\")\n",
        "  string = string.replace(\"ڋ\", \"د\")\n",
        "  string = string.replace(\"ڑ\", \"ر\")\n",
        "  string = string.replace(\"ڪ\", \"ک\")\n",
        "  string = string.replace(\"ھ\", \"ه\")\n",
        "  string = string.replace(\"ی\", \"ی\")\n",
        "  string = string.replace(\"ە\", \"ه\")\n",
        "  string = string.replace(\"ﭘ\", \"پ\")\n",
        "  string = string.replace(\"ﮊ\", \"ژ\")\n",
        "  string = string.replace(\"ﮓ\", \"گ\")\n",
        "  string = string.replace(\"ﮔ\", \"گ\")\n",
        "  string = string.replace(\"ﺎ\", \"گ\")\n",
        "  string = string.replace(\"ﺖ\", \"گ\")\n",
        "  string = string.replace(\"ﺤ\", \"گ\")\n",
        "  string = string.replace(\"ﺪ\", \"گ\")\n",
        "  string = string.replace('ﺮ',\"ر\" )\n",
        "  string = string.replace('ﺯ',\"ز\" )\n",
        "  string = string.replace('ﺰ',\"ز\" )\n",
        "  string = string.replace('ﺳ',\"س\" )\n",
        "  string = string.replace('ﺴ',\"س\" )\n",
        "  string = string.replace('ﺶ', \"ش\")\n",
        "  string = string.replace('ﺷ', \"ش\")\n",
        "  string = string.replace('ﺸ', \"ش\")\n",
        "  string = string.replace('ﺼ', \"ص\")\n",
        "  string = string.replace('ﺽ', \"ض\")\n",
        "  string = string.replace('ﻌ', \"ع\")\n",
        "  string = string.replace('ﻔ', \"ف\")\n",
        "  string = string.replace('ﻗ', \"ق\")\n",
        "  string = string.replace('ﻛ', \"ک\")\n",
        "  string = string.replace('ﻜ', \"ک\")\n",
        "  string = string.replace('ﻝ', \"ل\")\n",
        "  string = string.replace('ﻟ',\"ل\" )\n",
        "  string = string.replace('ﻢ',\"م\" )\n",
        "  string = string.replace('ﻣ', \"م\")\n",
        "  string = string.replace('ﻥ', \"ن\")\n",
        "  string = string.replace('ﻦ', \"ن\")\n",
        "  string = string.replace('ﻧ', \"ن\")\n",
        "  string = string.replace('ﻨ', \"ن\")\n",
        "  string = string.replace('ﻩ', \"ه\")\n",
        "  string = string.replace('ﻪ', \"ه\")\n",
        "  string = string.replace('ﻫ', \"ه\")\n",
        "  string = string.replace('ﻬ', \"ه\")\n",
        "  string = string.replace('ﻭ', \"و\")\n",
        "  string = string.replace('ﻮ', \"و\")\n",
        "  string = string.replace('ﻱ', \"ی\")\n",
        "  string = string.replace('ﻲ', \"ی\")\n",
        "  string = string.replace('ﻳ', \"ی\")\n",
        "  return string\n",
        "  \n",
        "\n",
        "\n",
        "pre_pipe = Pipeline(remove_repetitive_char)\n",
        "pre_pipe.add_before(replace_bad_char)\n",
        "\n",
        "TEXT = Field(sequential=True, tokenize=tokenize, lower=True, preprocessing=pre_pipe, init_token=\"<bos>\")\n",
        "LABEL = Field(sequential=False, use_vocab=False)\n",
        "ID = Field(sequential=False, use_vocab=False)\n",
        "\n",
        "SUBTEXT = SubwordField()"
      ],
      "execution_count": 0,
      "outputs": []
    },
    {
      "cell_type": "code",
      "metadata": {
        "id": "D3s7MA_6UXcm",
        "colab_type": "code",
        "colab": {}
      },
      "source": [
        "from torchtext.data import TabularDataset\n",
        "\n",
        "tv_datafields = [(\"id\", None), # we won't be needing the id, so we pass in None as the field\n",
        "                 (\"title\", None), (\"comment\", TEXT),\n",
        "                 (\"rate\", None), (\"verification_status\", LABEL)]\n",
        "\n",
        "tst_datafields = [(\"id\", ID), # we won't be needing the id, so we pass in None as the field\n",
        "                 (\"title\", None), (\"comment\", TEXT),\n",
        "                 (\"rate\", None)]\n",
        "\n"
      ],
      "execution_count": 0,
      "outputs": []
    },
    {
      "cell_type": "code",
      "metadata": {
        "id": "3cf8mrIfUxZX",
        "colab_type": "code",
        "colab": {}
      },
      "source": [
        "import random\n",
        "\n",
        "def my_filter_pred(example, limited_word = 200):\n",
        "  if(len(example.comment) <= limited_word):\n",
        "    return True\n",
        "  else:\n",
        "    return False\n",
        "\n",
        "\n",
        "train_dataset, valid_dataset = TabularDataset(\n",
        "               path='train_comments.csv',\n",
        "               format='csv',\n",
        "               skip_header=True, # if your csv header has a header, make sure to pass this to ensure it doesn't get proceesed as data!\n",
        "               fields=tv_datafields,\n",
        "               filter_pred = my_filter_pred).split([0.9,0.2])\n",
        "\n",
        "\n",
        "\n",
        "\n",
        "test_dataset = TabularDataset(\n",
        "               path='test_nolabel_comments.csv',\n",
        "               format='csv',\n",
        "               skip_header=True, # if your csv header has a header, make sure to pass this to ensure it doesn't get proceesed as data!\n",
        "               fields=tst_datafields)\n",
        "\n",
        "\n"
      ],
      "execution_count": 0,
      "outputs": []
    },
    {
      "cell_type": "code",
      "metadata": {
        "id": "fhipq0vXxbph",
        "colab_type": "code",
        "colab": {}
      },
      "source": [
        "### NEW\n",
        "train_datasets = []\n",
        "n_ensembles = 7\n",
        "for i in range(n_ensembles):\n",
        "  new_dataset,_ = train_dataset.split(0.7)\n",
        "  train_datasets.append(new_dataset)"
      ],
      "execution_count": 0,
      "outputs": []
    },
    {
      "cell_type": "code",
      "metadata": {
        "id": "pxUbobAZVjk4",
        "colab_type": "code",
        "colab": {
          "base_uri": "https://localhost:8080/",
          "height": 35
        },
        "outputId": "590f82db-b6e8-468e-8a45-c298ceff22cb"
      },
      "source": [
        "len(train_dataset)"
      ],
      "execution_count": 10,
      "outputs": [
        {
          "output_type": "execute_result",
          "data": {
            "text/plain": [
              "145924"
            ]
          },
          "metadata": {
            "tags": []
          },
          "execution_count": 10
        }
      ]
    },
    {
      "cell_type": "code",
      "metadata": {
        "id": "DXl5omx6zarp",
        "colab_type": "code",
        "colab": {}
      },
      "source": [
        "s = set()\n",
        "for i, batch in enumerate(train_dataset):\n",
        "  s = s.union(set(\" \".join(batch.comment)))"
      ],
      "execution_count": 0,
      "outputs": []
    },
    {
      "cell_type": "code",
      "metadata": {
        "id": "ftlPS9L_1foE",
        "colab_type": "code",
        "colab": {
          "base_uri": "https://localhost:8080/",
          "height": 1000
        },
        "outputId": "239b9f5c-f2ae-44c3-d9d1-0b8985adb7c8"
      },
      "source": [
        "s"
      ],
      "execution_count": 12,
      "outputs": [
        {
          "output_type": "execute_result",
          "data": {
            "text/plain": [
              "{' ',\n",
              " '!',\n",
              " '\"',\n",
              " '#',\n",
              " '$',\n",
              " '%',\n",
              " '&',\n",
              " \"'\",\n",
              " '(',\n",
              " ')',\n",
              " '*',\n",
              " '+',\n",
              " ',',\n",
              " '-',\n",
              " '.',\n",
              " '/',\n",
              " '0',\n",
              " '1',\n",
              " '2',\n",
              " '3',\n",
              " '4',\n",
              " '5',\n",
              " '6',\n",
              " '7',\n",
              " '8',\n",
              " '9',\n",
              " ':',\n",
              " ';',\n",
              " '<',\n",
              " '=',\n",
              " '>',\n",
              " '?',\n",
              " '@',\n",
              " '[',\n",
              " '\\\\',\n",
              " ']',\n",
              " '^',\n",
              " '_',\n",
              " 'a',\n",
              " 'b',\n",
              " 'c',\n",
              " 'd',\n",
              " 'e',\n",
              " 'f',\n",
              " 'g',\n",
              " 'h',\n",
              " 'i',\n",
              " 'j',\n",
              " 'k',\n",
              " 'l',\n",
              " 'm',\n",
              " 'n',\n",
              " 'o',\n",
              " 'p',\n",
              " 'q',\n",
              " 'r',\n",
              " 's',\n",
              " 't',\n",
              " 'u',\n",
              " 'v',\n",
              " 'w',\n",
              " 'x',\n",
              " 'y',\n",
              " 'z',\n",
              " '{',\n",
              " '|',\n",
              " '}',\n",
              " '~',\n",
              " '¡',\n",
              " '«',\n",
              " '\\xad',\n",
              " '°',\n",
              " '·',\n",
              " '»',\n",
              " '×',\n",
              " '÷',\n",
              " '̇',\n",
              " 'ε',\n",
              " 'κ',\n",
              " 'г',\n",
              " 'ժ',\n",
              " 'հ',\n",
              " 'ձ',\n",
              " 'օ',\n",
              " '،',\n",
              " '؛',\n",
              " '\\u061c',\n",
              " '؟',\n",
              " 'ء',\n",
              " 'آ',\n",
              " 'أ',\n",
              " 'ؤ',\n",
              " 'إ',\n",
              " 'ئ',\n",
              " 'ا',\n",
              " 'ب',\n",
              " 'ت',\n",
              " 'ث',\n",
              " 'ج',\n",
              " 'ح',\n",
              " 'خ',\n",
              " 'د',\n",
              " 'ذ',\n",
              " 'ر',\n",
              " 'ز',\n",
              " 'س',\n",
              " 'ش',\n",
              " 'ص',\n",
              " 'ض',\n",
              " 'ط',\n",
              " 'ظ',\n",
              " 'ع',\n",
              " 'غ',\n",
              " 'ـ',\n",
              " 'ف',\n",
              " 'ق',\n",
              " 'ك',\n",
              " 'ل',\n",
              " 'م',\n",
              " 'ن',\n",
              " 'ه',\n",
              " 'و',\n",
              " 'ى',\n",
              " 'ً',\n",
              " 'ٌ',\n",
              " 'ٍ',\n",
              " 'َ',\n",
              " 'ُ',\n",
              " 'ِ',\n",
              " 'ّ',\n",
              " 'ْ',\n",
              " 'ٓ',\n",
              " 'ٔ',\n",
              " 'ٕ',\n",
              " '٠',\n",
              " '١',\n",
              " '٢',\n",
              " '٣',\n",
              " '٤',\n",
              " '٥',\n",
              " '٦',\n",
              " '٧',\n",
              " '٨',\n",
              " '٩',\n",
              " '٪',\n",
              " '٫',\n",
              " '٬',\n",
              " 'ٰ',\n",
              " 'ٵ',\n",
              " 'ٹ',\n",
              " 'پ',\n",
              " 'ڃ',\n",
              " 'چ',\n",
              " 'ڔ',\n",
              " 'ڗ',\n",
              " 'ژ',\n",
              " 'ک',\n",
              " 'گ',\n",
              " 'ۀ',\n",
              " 'ہ',\n",
              " 'ۂ',\n",
              " 'ی',\n",
              " 'ے',\n",
              " '۔',\n",
              " '۰',\n",
              " '۱',\n",
              " '۲',\n",
              " '۳',\n",
              " '۴',\n",
              " '۵',\n",
              " '۶',\n",
              " '۷',\n",
              " '۸',\n",
              " '۹',\n",
              " 'ݪ',\n",
              " '২',\n",
              " 'ო',\n",
              " '\\u200b',\n",
              " '\\u200c',\n",
              " '\\u200d',\n",
              " '\\u200e',\n",
              " '\\u200f',\n",
              " '–',\n",
              " '—',\n",
              " '‘',\n",
              " '’',\n",
              " '“',\n",
              " '”',\n",
              " '•',\n",
              " '…',\n",
              " '\\u202d',\n",
              " '‰',\n",
              " '›',\n",
              " '\\u2066',\n",
              " '\\u2069',\n",
              " '⁶',\n",
              " '℅',\n",
              " '⇩',\n",
              " '●',\n",
              " '☆',\n",
              " '☠',\n",
              " '☹',\n",
              " '☺',\n",
              " '♀',\n",
              " '♂',\n",
              " '♡',\n",
              " '♥',\n",
              " '⚘',\n",
              " '✊',\n",
              " '✋',\n",
              " '✌',\n",
              " '❤',\n",
              " '⬆',\n",
              " '⭐',\n",
              " '《',\n",
              " '》',\n",
              " '\\uf04a',\n",
              " 'ﮐ',\n",
              " 'ﯾ',\n",
              " '﴾',\n",
              " '﴿',\n",
              " '﷼',\n",
              " '️',\n",
              " 'ﺏ',\n",
              " 'ﺑ',\n",
              " 'ﺗ',\n",
              " 'ﺘ',\n",
              " 'ﺞ',\n",
              " 'ﺧ',\n",
              " 'ﺨ',\n",
              " 'ﺩ',\n",
              " 'ﺭ',\n",
              " 'ﺲ',\n",
              " 'ﺹ',\n",
              " 'ﺻ',\n",
              " 'ﻃ',\n",
              " 'ﻄ',\n",
              " 'ﻋ',\n",
              " 'ﻓ',\n",
              " 'ﻘ',\n",
              " 'ﻙ',\n",
              " 'ﻤ',\n",
              " 'ﻴ',\n",
              " 'ﻼ',\n",
              " '：'}"
            ]
          },
          "metadata": {
            "tags": []
          },
          "execution_count": 12
        }
      ]
    },
    {
      "cell_type": "code",
      "metadata": {
        "id": "-ySiwxdGVMoj",
        "colab_type": "code",
        "colab": {
          "base_uri": "https://localhost:8080/",
          "height": 35
        },
        "outputId": "b2c282ec-dbfb-482c-f81f-00a2ddc6f9dc"
      },
      "source": [
        "train_dataset[0].__dict__.keys()"
      ],
      "execution_count": 13,
      "outputs": [
        {
          "output_type": "execute_result",
          "data": {
            "text/plain": [
              "dict_keys(['comment', 'verification_status'])"
            ]
          },
          "metadata": {
            "tags": []
          },
          "execution_count": 13
        }
      ]
    },
    {
      "cell_type": "code",
      "metadata": {
        "id": "nmoJUBu8Vlmb",
        "colab_type": "code",
        "colab": {
          "base_uri": "https://localhost:8080/",
          "height": 35
        },
        "outputId": "f1f5e4cc-7bcc-438a-c710-654c5bdf01ad"
      },
      "source": [
        "train_dataset[0].verification_status"
      ],
      "execution_count": 14,
      "outputs": [
        {
          "output_type": "execute_result",
          "data": {
            "text/plain": [
              "'1'"
            ]
          },
          "metadata": {
            "tags": []
          },
          "execution_count": 14
        }
      ]
    },
    {
      "cell_type": "code",
      "metadata": {
        "id": "pdhjcHJrWBsZ",
        "colab_type": "code",
        "colab": {}
      },
      "source": [
        "TEXT.build_vocab(train_dataset, min_freq=3)"
      ],
      "execution_count": 0,
      "outputs": []
    },
    {
      "cell_type": "code",
      "metadata": {
        "id": "O31x-kv6WGfX",
        "colab_type": "code",
        "colab": {
          "base_uri": "https://localhost:8080/",
          "height": 35
        },
        "outputId": "ab2c09bc-6bee-4aa5-c0ef-8aebc45efa0f"
      },
      "source": [
        "len(TEXT.vocab)"
      ],
      "execution_count": 16,
      "outputs": [
        {
          "output_type": "execute_result",
          "data": {
            "text/plain": [
              "30386"
            ]
          },
          "metadata": {
            "tags": []
          },
          "execution_count": 16
        }
      ]
    },
    {
      "cell_type": "code",
      "metadata": {
        "id": "7WAHfoauWJKE",
        "colab_type": "code",
        "colab": {}
      },
      "source": [
        "from torchtext.data import BucketIterator, interleave_keys, Iterator\n",
        "\n",
        "batch_size = 512\n",
        "\n",
        "train_iterator = BucketIterator(dataset= train_dataset, batch_size=batch_size,\n",
        "                                device=device,\n",
        "                                sort_key=lambda x: len(x.comment),\n",
        "                                sort = True,\n",
        "                                shuffle = True,\n",
        "                                repeat = False)\n",
        "\n",
        "valid_iterator = BucketIterator(dataset= valid_dataset, batch_size=batch_size,\n",
        "                                device=device,\n",
        "                                sort_key=lambda x: len(x.comment),\n",
        "                                sort = True,\n",
        "                                shuffle = True,\n",
        "                                repeat = False)\n",
        "\n",
        "test_iter = Iterator(test_dataset, batch_size=1, device=device, sort=False, sort_within_batch=False, repeat=False)\n"
      ],
      "execution_count": 0,
      "outputs": []
    },
    {
      "cell_type": "code",
      "metadata": {
        "id": "LoVoYAS0yJfk",
        "colab_type": "code",
        "colab": {}
      },
      "source": [
        "### NEW\n",
        "\n",
        "train_iterators = []\n",
        "for i in range(n_ensembles):\n",
        "  new_train_iterator = BucketIterator(dataset= train_datasets[i], batch_size=batch_size,\n",
        "                                device=device,\n",
        "                                sort_key=lambda x: len(x.comment),\n",
        "                                sort = True,\n",
        "                                shuffle = True,\n",
        "                                repeat = False)\n",
        "  train_iterators.append(new_train_iterator)\n"
      ],
      "execution_count": 0,
      "outputs": []
    },
    {
      "cell_type": "code",
      "metadata": {
        "id": "A1Lpa1fzXKL-",
        "colab_type": "code",
        "colab": {
          "base_uri": "https://localhost:8080/",
          "height": 1000
        },
        "outputId": "acdbbe5c-55c3-4434-a474-132a878f5cb0"
      },
      "source": [
        "for batch in iter(train_iterator):\n",
        "  print(batch.comment.shape)"
      ],
      "execution_count": 19,
      "outputs": [
        {
          "output_type": "stream",
          "text": [
            "torch.Size([2, 512])\n",
            "torch.Size([2, 512])\n",
            "torch.Size([3, 512])\n",
            "torch.Size([3, 512])\n",
            "torch.Size([3, 512])\n",
            "torch.Size([3, 512])\n",
            "torch.Size([3, 512])\n",
            "torch.Size([3, 512])\n",
            "torch.Size([3, 512])\n",
            "torch.Size([4, 512])\n",
            "torch.Size([4, 512])\n",
            "torch.Size([4, 512])\n",
            "torch.Size([4, 512])\n",
            "torch.Size([4, 512])\n",
            "torch.Size([4, 512])\n",
            "torch.Size([4, 512])\n",
            "torch.Size([4, 512])\n",
            "torch.Size([4, 512])\n",
            "torch.Size([4, 512])\n",
            "torch.Size([5, 512])\n",
            "torch.Size([5, 512])\n",
            "torch.Size([5, 512])\n",
            "torch.Size([5, 512])\n",
            "torch.Size([5, 512])\n",
            "torch.Size([5, 512])\n",
            "torch.Size([5, 512])\n",
            "torch.Size([5, 512])\n",
            "torch.Size([5, 512])\n",
            "torch.Size([5, 512])\n",
            "torch.Size([5, 512])\n",
            "torch.Size([6, 512])\n",
            "torch.Size([6, 512])\n",
            "torch.Size([6, 512])\n",
            "torch.Size([6, 512])\n",
            "torch.Size([6, 512])\n",
            "torch.Size([6, 512])\n",
            "torch.Size([6, 512])\n",
            "torch.Size([6, 512])\n",
            "torch.Size([6, 512])\n",
            "torch.Size([6, 512])\n",
            "torch.Size([6, 512])\n",
            "torch.Size([6, 512])\n",
            "torch.Size([6, 512])\n",
            "torch.Size([7, 512])\n",
            "torch.Size([7, 512])\n",
            "torch.Size([7, 512])\n",
            "torch.Size([7, 512])\n",
            "torch.Size([7, 512])\n",
            "torch.Size([7, 512])\n",
            "torch.Size([7, 512])\n",
            "torch.Size([7, 512])\n",
            "torch.Size([7, 512])\n",
            "torch.Size([7, 512])\n",
            "torch.Size([7, 512])\n",
            "torch.Size([7, 512])\n",
            "torch.Size([8, 512])\n",
            "torch.Size([8, 512])\n",
            "torch.Size([8, 512])\n",
            "torch.Size([8, 512])\n",
            "torch.Size([8, 512])\n",
            "torch.Size([8, 512])\n",
            "torch.Size([8, 512])\n",
            "torch.Size([8, 512])\n",
            "torch.Size([8, 512])\n",
            "torch.Size([8, 512])\n",
            "torch.Size([8, 512])\n",
            "torch.Size([8, 512])\n",
            "torch.Size([9, 512])\n",
            "torch.Size([9, 512])\n",
            "torch.Size([9, 512])\n",
            "torch.Size([9, 512])\n",
            "torch.Size([9, 512])\n",
            "torch.Size([9, 512])\n",
            "torch.Size([9, 512])\n",
            "torch.Size([9, 512])\n",
            "torch.Size([9, 512])\n",
            "torch.Size([9, 512])\n",
            "torch.Size([9, 512])\n",
            "torch.Size([10, 512])\n",
            "torch.Size([10, 512])\n",
            "torch.Size([10, 512])\n",
            "torch.Size([10, 512])\n",
            "torch.Size([10, 512])\n",
            "torch.Size([10, 512])\n",
            "torch.Size([10, 512])\n",
            "torch.Size([10, 512])\n",
            "torch.Size([10, 512])\n",
            "torch.Size([10, 512])\n",
            "torch.Size([10, 512])\n",
            "torch.Size([11, 512])\n",
            "torch.Size([11, 512])\n",
            "torch.Size([11, 512])\n",
            "torch.Size([11, 512])\n",
            "torch.Size([11, 512])\n",
            "torch.Size([11, 512])\n",
            "torch.Size([11, 512])\n",
            "torch.Size([11, 512])\n",
            "torch.Size([11, 512])\n",
            "torch.Size([12, 512])\n",
            "torch.Size([12, 512])\n",
            "torch.Size([12, 512])\n",
            "torch.Size([12, 512])\n",
            "torch.Size([12, 512])\n",
            "torch.Size([12, 512])\n",
            "torch.Size([12, 512])\n",
            "torch.Size([12, 512])\n",
            "torch.Size([12, 512])\n",
            "torch.Size([13, 512])\n",
            "torch.Size([13, 512])\n",
            "torch.Size([13, 512])\n",
            "torch.Size([13, 512])\n",
            "torch.Size([13, 512])\n",
            "torch.Size([13, 512])\n",
            "torch.Size([13, 512])\n",
            "torch.Size([13, 512])\n",
            "torch.Size([13, 512])\n",
            "torch.Size([14, 512])\n",
            "torch.Size([14, 512])\n",
            "torch.Size([14, 512])\n",
            "torch.Size([14, 512])\n",
            "torch.Size([14, 512])\n",
            "torch.Size([14, 512])\n",
            "torch.Size([14, 512])\n",
            "torch.Size([14, 512])\n",
            "torch.Size([15, 512])\n",
            "torch.Size([15, 512])\n",
            "torch.Size([15, 512])\n",
            "torch.Size([15, 512])\n",
            "torch.Size([15, 512])\n",
            "torch.Size([15, 512])\n",
            "torch.Size([15, 512])\n",
            "torch.Size([16, 512])\n",
            "torch.Size([16, 512])\n",
            "torch.Size([16, 512])\n",
            "torch.Size([16, 512])\n",
            "torch.Size([16, 512])\n",
            "torch.Size([16, 512])\n",
            "torch.Size([16, 512])\n",
            "torch.Size([17, 512])\n",
            "torch.Size([17, 512])\n",
            "torch.Size([17, 512])\n",
            "torch.Size([17, 512])\n",
            "torch.Size([17, 512])\n",
            "torch.Size([17, 512])\n",
            "torch.Size([17, 512])\n",
            "torch.Size([18, 512])\n",
            "torch.Size([18, 512])\n",
            "torch.Size([18, 512])\n",
            "torch.Size([18, 512])\n",
            "torch.Size([18, 512])\n",
            "torch.Size([18, 512])\n",
            "torch.Size([19, 512])\n",
            "torch.Size([19, 512])\n",
            "torch.Size([19, 512])\n",
            "torch.Size([19, 512])\n",
            "torch.Size([19, 512])\n",
            "torch.Size([19, 512])\n",
            "torch.Size([20, 512])\n",
            "torch.Size([20, 512])\n",
            "torch.Size([20, 512])\n",
            "torch.Size([20, 512])\n",
            "torch.Size([20, 512])\n",
            "torch.Size([21, 512])\n",
            "torch.Size([21, 512])\n",
            "torch.Size([21, 512])\n",
            "torch.Size([21, 512])\n",
            "torch.Size([21, 512])\n",
            "torch.Size([22, 512])\n",
            "torch.Size([22, 512])\n",
            "torch.Size([22, 512])\n",
            "torch.Size([22, 512])\n",
            "torch.Size([22, 512])\n",
            "torch.Size([23, 512])\n",
            "torch.Size([23, 512])\n",
            "torch.Size([23, 512])\n",
            "torch.Size([23, 512])\n",
            "torch.Size([23, 512])\n",
            "torch.Size([24, 512])\n",
            "torch.Size([24, 512])\n",
            "torch.Size([24, 512])\n",
            "torch.Size([24, 512])\n",
            "torch.Size([24, 512])\n",
            "torch.Size([25, 512])\n",
            "torch.Size([25, 512])\n",
            "torch.Size([25, 512])\n",
            "torch.Size([25, 512])\n",
            "torch.Size([26, 512])\n",
            "torch.Size([26, 512])\n",
            "torch.Size([26, 512])\n",
            "torch.Size([26, 512])\n",
            "torch.Size([27, 512])\n",
            "torch.Size([27, 512])\n",
            "torch.Size([27, 512])\n",
            "torch.Size([27, 512])\n",
            "torch.Size([28, 512])\n",
            "torch.Size([28, 512])\n",
            "torch.Size([28, 512])\n",
            "torch.Size([29, 512])\n",
            "torch.Size([29, 512])\n",
            "torch.Size([29, 512])\n",
            "torch.Size([29, 512])\n",
            "torch.Size([30, 512])\n",
            "torch.Size([30, 512])\n",
            "torch.Size([30, 512])\n",
            "torch.Size([31, 512])\n",
            "torch.Size([31, 512])\n",
            "torch.Size([31, 512])\n",
            "torch.Size([32, 512])\n",
            "torch.Size([32, 512])\n",
            "torch.Size([32, 512])\n",
            "torch.Size([33, 512])\n",
            "torch.Size([33, 512])\n",
            "torch.Size([33, 512])\n",
            "torch.Size([34, 512])\n",
            "torch.Size([34, 512])\n",
            "torch.Size([34, 512])\n",
            "torch.Size([35, 512])\n",
            "torch.Size([35, 512])\n",
            "torch.Size([36, 512])\n",
            "torch.Size([36, 512])\n",
            "torch.Size([37, 512])\n",
            "torch.Size([37, 512])\n",
            "torch.Size([37, 512])\n",
            "torch.Size([38, 512])\n",
            "torch.Size([38, 512])\n",
            "torch.Size([39, 512])\n",
            "torch.Size([39, 512])\n",
            "torch.Size([40, 512])\n",
            "torch.Size([40, 512])\n",
            "torch.Size([41, 512])\n",
            "torch.Size([41, 512])\n",
            "torch.Size([42, 512])\n",
            "torch.Size([42, 512])\n",
            "torch.Size([43, 512])\n",
            "torch.Size([43, 512])\n",
            "torch.Size([44, 512])\n",
            "torch.Size([44, 512])\n",
            "torch.Size([45, 512])\n",
            "torch.Size([46, 512])\n",
            "torch.Size([46, 512])\n",
            "torch.Size([47, 512])\n",
            "torch.Size([48, 512])\n",
            "torch.Size([48, 512])\n",
            "torch.Size([49, 512])\n",
            "torch.Size([50, 512])\n",
            "torch.Size([51, 512])\n",
            "torch.Size([51, 512])\n",
            "torch.Size([52, 512])\n",
            "torch.Size([53, 512])\n",
            "torch.Size([54, 512])\n",
            "torch.Size([55, 512])\n",
            "torch.Size([56, 512])\n",
            "torch.Size([57, 512])\n",
            "torch.Size([58, 512])\n",
            "torch.Size([59, 512])\n",
            "torch.Size([60, 512])\n",
            "torch.Size([61, 512])\n",
            "torch.Size([63, 512])\n",
            "torch.Size([64, 512])\n",
            "torch.Size([65, 512])\n",
            "torch.Size([67, 512])\n",
            "torch.Size([68, 512])\n",
            "torch.Size([70, 512])\n",
            "torch.Size([71, 512])\n",
            "torch.Size([73, 512])\n",
            "torch.Size([75, 512])\n",
            "torch.Size([77, 512])\n",
            "torch.Size([79, 512])\n",
            "torch.Size([81, 512])\n",
            "torch.Size([83, 512])\n",
            "torch.Size([86, 512])\n",
            "torch.Size([89, 512])\n",
            "torch.Size([92, 512])\n",
            "torch.Size([95, 512])\n",
            "torch.Size([99, 512])\n",
            "torch.Size([103, 512])\n",
            "torch.Size([108, 512])\n",
            "torch.Size([113, 512])\n",
            "torch.Size([119, 512])\n",
            "torch.Size([126, 512])\n",
            "torch.Size([135, 512])\n",
            "torch.Size([145, 512])\n",
            "torch.Size([159, 512])\n",
            "torch.Size([175, 512])\n",
            "torch.Size([201, 512])\n",
            "torch.Size([201, 4])\n"
          ],
          "name": "stdout"
        }
      ]
    },
    {
      "cell_type": "markdown",
      "metadata": {
        "id": "UqOXFm6yY5iF",
        "colab_type": "text"
      },
      "source": [
        "**train section**"
      ]
    },
    {
      "cell_type": "code",
      "metadata": {
        "id": "yc3grY0nYRN5",
        "colab_type": "code",
        "colab": {}
      },
      "source": [
        "vocab_size = len(TEXT.vocab)\n",
        "hid_size = 16\n",
        "pf_size = 32\n",
        "n_head = 2\n",
        "n_layer= 1\n",
        "model = SentimentModel(hid_size, vocab_size, n_head, n_layers, pf_size, max_len, device).to(device)"
      ],
      "execution_count": 0,
      "outputs": []
    },
    {
      "cell_type": "code",
      "metadata": {
        "id": "be1-YiJFZEpF",
        "colab_type": "code",
        "colab": {
          "base_uri": "https://localhost:8080/",
          "height": 35
        },
        "outputId": "56ea9413-fd38-489e-f3c2-e9d0cfafaa93"
      },
      "source": [
        "print(f'The model has {count_parameters(model):,} trainable parameters')"
      ],
      "execution_count": 21,
      "outputs": [
        {
          "output_type": "stream",
          "text": [
            "The model has 512,114 trainable parameters\n"
          ],
          "name": "stdout"
        }
      ]
    },
    {
      "cell_type": "code",
      "metadata": {
        "id": "aNtmJR2vZYQK",
        "colab_type": "code",
        "colab": {}
      },
      "source": [
        "class NoamOpt:\n",
        "    \"Optim wrapper that implements rate.\"\n",
        "    def __init__(self, model_size, factor, warmup, optimizer):\n",
        "        self.optimizer = optimizer\n",
        "        self._step = 0\n",
        "        self.warmup = warmup\n",
        "        self.factor = factor\n",
        "        self.model_size = model_size\n",
        "        self._rate = 0\n",
        "        \n",
        "    def step(self):\n",
        "        \"Update parameters and rate\"\n",
        "        self._step += 1\n",
        "        rate = self.rate()\n",
        "        for p in self.optimizer.param_groups:\n",
        "            p['lr'] = rate\n",
        "        self._rate = rate\n",
        "        self.optimizer.step()\n",
        "        \n",
        "    def rate(self, step = None):\n",
        "        \"Implement `lrate` above\"\n",
        "        if step is None:\n",
        "            step = self._step\n",
        "        return self.factor * \\\n",
        "            (self.model_size ** (-0.5) *\n",
        "            min(step ** (-0.5), step * self.warmup ** (-1.5)))\n",
        "    \n",
        "    def zero_grad(self):\n",
        "        self.optimizer.zero_grad()"
      ],
      "execution_count": 0,
      "outputs": []
    },
    {
      "cell_type": "code",
      "metadata": {
        "id": "FdMSTuWTZdQC",
        "colab_type": "code",
        "colab": {}
      },
      "source": [
        "from tqdm import tqdm\n",
        "\n",
        "def train_one_epoch(model,train_iter, optimizer, criterion, clip):\n",
        "  epoch_loss = 0\n",
        "  model.train()\n",
        "  for batch in tqdm(train_iter):\n",
        "    optimizer.zero_grad()\n",
        "    batch_text = batch.comment\n",
        "    batch_target = batch.verification_status\n",
        "    result = model(batch_text)\n",
        "    loss = criterion(result, batch_target.view(-1))\n",
        "    loss.backward()\n",
        "    torch.nn.utils.clip_grad_norm_(model.parameters(), clip)\n",
        "    optimizer.step()\n",
        "    epoch_loss += loss.item()\n",
        "  return epoch_loss / len(train_iter)\n"
      ],
      "execution_count": 0,
      "outputs": []
    },
    {
      "cell_type": "code",
      "metadata": {
        "id": "44LCUrNngCEB",
        "colab_type": "code",
        "colab": {}
      },
      "source": [
        "def evaluate(model, valid_iter, criterion):\n",
        "  model.eval()\n",
        "  epoch_loss = 0\n",
        "  with torch.no_grad():\n",
        "    for i, batch in enumerate(valid_iter):\n",
        "      batch_text = batch.comment\n",
        "      batch_target = batch.verification_status\n",
        "      result = model(batch_text)\n",
        "      loss = criterion(result, batch_target.view(-1))\n",
        "      epoch_loss += loss.item()\n",
        "    return epoch_loss / len(valid_iter)\n"
      ],
      "execution_count": 0,
      "outputs": []
    },
    {
      "cell_type": "code",
      "metadata": {
        "id": "oJtLhqaeZpMN",
        "colab_type": "code",
        "colab": {}
      },
      "source": [
        "def train(model, train_iter, valid_iter, optimizer, criterion, clip, N_EPOCH):\n",
        "  for epoch in range(N_EPOCH):\n",
        "    epoch_loss = train_one_epoch(model, train_iter, optimizer, criterion, clip)\n",
        "    eval_loss = evaluate(model, valid_iter, criterion)\n",
        "    print(\"\\n epoch is {} loss is {} || valid_loss is {}\".format(epoch, epoch_loss, eval_loss))"
      ],
      "execution_count": 0,
      "outputs": []
    },
    {
      "cell_type": "code",
      "metadata": {
        "id": "WGltdzw7yjqM",
        "colab_type": "code",
        "colab": {
          "base_uri": "https://localhost:8080/",
          "height": 1000
        },
        "outputId": "f206b354-2f78-468d-fb67-43ab42e75807"
      },
      "source": [
        "###NEW\n",
        "models = []\n",
        "for i in range(n_ensembles):\n",
        "  print(\"******\\tenemble {}: \\t******\".format(i))\n",
        "  new_model = SentimentModel(hid_size, vocab_size, n_head, n_layers, pf_size, max_len, device).to(device)\n",
        "  models.append(new_model)\n",
        "  optimizer = NoamOpt(hid_size, 1, 2000,\n",
        "              torch.optim.Adam(models[i].parameters(), lr=0, betas=(0.9, 0.98), eps=1e-9))\n",
        "  criterion = torch.nn.CrossEntropyLoss()\n",
        "  train(models[i], train_iterators[i], valid_iterator, optimizer, criterion, 1, 10)"
      ],
      "execution_count": 26,
      "outputs": [
        {
          "output_type": "stream",
          "text": [
            "\r  0%|          | 0/200 [00:00<?, ?it/s]"
          ],
          "name": "stderr"
        },
        {
          "output_type": "stream",
          "text": [
            "******\tenemble 0: \t******\n"
          ],
          "name": "stdout"
        },
        {
          "output_type": "stream",
          "text": [
            "100%|██████████| 200/200 [00:09<00:00,  6.36it/s]\n",
            "  0%|          | 1/200 [00:00<00:27,  7.25it/s]"
          ],
          "name": "stderr"
        },
        {
          "output_type": "stream",
          "text": [
            "\n",
            " epoch is 0 loss is 0.38877805121243 || valid_loss is 0.4143799995072186\n"
          ],
          "name": "stdout"
        },
        {
          "output_type": "stream",
          "text": [
            "100%|██████████| 200/200 [00:08<00:00,  6.52it/s]\n",
            "  0%|          | 1/200 [00:00<00:27,  7.30it/s]"
          ],
          "name": "stderr"
        },
        {
          "output_type": "stream",
          "text": [
            "\n",
            " epoch is 1 loss is 0.2923490914702416 || valid_loss is 0.4027318248990923\n"
          ],
          "name": "stdout"
        },
        {
          "output_type": "stream",
          "text": [
            "100%|██████████| 200/200 [00:08<00:00,  6.43it/s]\n",
            "  0%|          | 1/200 [00:00<00:27,  7.28it/s]"
          ],
          "name": "stderr"
        },
        {
          "output_type": "stream",
          "text": [
            "\n",
            " epoch is 2 loss is 0.26109109200537206 || valid_loss is 0.4484931491315365\n"
          ],
          "name": "stdout"
        },
        {
          "output_type": "stream",
          "text": [
            "100%|██████████| 200/200 [00:08<00:00,  6.41it/s]\n",
            "  0%|          | 1/200 [00:00<00:32,  6.18it/s]"
          ],
          "name": "stderr"
        },
        {
          "output_type": "stream",
          "text": [
            "\n",
            " epoch is 3 loss is 0.22814158223569392 || valid_loss is 0.6441658344119787\n"
          ],
          "name": "stdout"
        },
        {
          "output_type": "stream",
          "text": [
            "100%|██████████| 200/200 [00:08<00:00,  6.41it/s]\n",
            "  0%|          | 1/200 [00:00<00:27,  7.20it/s]"
          ],
          "name": "stderr"
        },
        {
          "output_type": "stream",
          "text": [
            "\n",
            " epoch is 4 loss is 0.20571170195937158 || valid_loss is 0.4558271118439734\n"
          ],
          "name": "stdout"
        },
        {
          "output_type": "stream",
          "text": [
            "100%|██████████| 200/200 [00:09<00:00,  6.43it/s]\n",
            "  0%|          | 1/200 [00:00<00:27,  7.33it/s]"
          ],
          "name": "stderr"
        },
        {
          "output_type": "stream",
          "text": [
            "\n",
            " epoch is 5 loss is 0.1839985355362296 || valid_loss is 0.4230206133797765\n"
          ],
          "name": "stdout"
        },
        {
          "output_type": "stream",
          "text": [
            "100%|██████████| 200/200 [00:08<00:00,  6.42it/s]\n",
            "  0%|          | 1/200 [00:00<00:27,  7.32it/s]"
          ],
          "name": "stderr"
        },
        {
          "output_type": "stream",
          "text": [
            "\n",
            " epoch is 6 loss is 0.18121519155800342 || valid_loss is 0.41067120153456926\n"
          ],
          "name": "stdout"
        },
        {
          "output_type": "stream",
          "text": [
            "100%|██████████| 200/200 [00:08<00:00,  6.43it/s]\n",
            "  0%|          | 1/200 [00:00<00:26,  7.39it/s]"
          ],
          "name": "stderr"
        },
        {
          "output_type": "stream",
          "text": [
            "\n",
            " epoch is 7 loss is 0.1750524130836129 || valid_loss is 0.605879242066294\n"
          ],
          "name": "stdout"
        },
        {
          "output_type": "stream",
          "text": [
            "100%|██████████| 200/200 [00:08<00:00,  6.42it/s]\n",
            "  0%|          | 1/200 [00:00<00:27,  7.14it/s]"
          ],
          "name": "stderr"
        },
        {
          "output_type": "stream",
          "text": [
            "\n",
            " epoch is 8 loss is 0.16524727519601584 || valid_loss is 0.6966660777106881\n"
          ],
          "name": "stdout"
        },
        {
          "output_type": "stream",
          "text": [
            "100%|██████████| 200/200 [00:08<00:00,  6.37it/s]\n",
            "  0%|          | 0/200 [00:00<?, ?it/s]"
          ],
          "name": "stderr"
        },
        {
          "output_type": "stream",
          "text": [
            "\n",
            " epoch is 9 loss is 0.17444504603743552 || valid_loss is 0.40844786586239934\n",
            "******\tenemble 1: \t******\n"
          ],
          "name": "stdout"
        },
        {
          "output_type": "stream",
          "text": [
            "100%|██████████| 200/200 [00:08<00:00,  6.42it/s]\n",
            "  0%|          | 1/200 [00:00<00:29,  6.71it/s]"
          ],
          "name": "stderr"
        },
        {
          "output_type": "stream",
          "text": [
            "\n",
            " epoch is 0 loss is 0.6691597475856542 || valid_loss is 0.3331083105877042\n"
          ],
          "name": "stdout"
        },
        {
          "output_type": "stream",
          "text": [
            "100%|██████████| 200/200 [00:08<00:00,  6.41it/s]\n",
            "  0%|          | 1/200 [00:00<00:29,  6.68it/s]"
          ],
          "name": "stderr"
        },
        {
          "output_type": "stream",
          "text": [
            "\n",
            " epoch is 1 loss is 0.2866430070996284 || valid_loss is 0.32205835659988225\n"
          ],
          "name": "stdout"
        },
        {
          "output_type": "stream",
          "text": [
            "100%|██████████| 200/200 [00:08<00:00,  6.43it/s]\n",
            "  0%|          | 1/200 [00:00<00:27,  7.27it/s]"
          ],
          "name": "stderr"
        },
        {
          "output_type": "stream",
          "text": [
            "\n",
            " epoch is 2 loss is 0.25497603327035906 || valid_loss is 0.33373960154131055\n"
          ],
          "name": "stdout"
        },
        {
          "output_type": "stream",
          "text": [
            "100%|██████████| 200/200 [00:08<00:00,  6.42it/s]\n",
            "  0%|          | 1/200 [00:00<00:29,  6.83it/s]"
          ],
          "name": "stderr"
        },
        {
          "output_type": "stream",
          "text": [
            "\n",
            " epoch is 3 loss is 0.22773965395987034 || valid_loss is 0.3692941435147077\n"
          ],
          "name": "stdout"
        },
        {
          "output_type": "stream",
          "text": [
            "100%|██████████| 200/200 [00:08<00:00,  6.41it/s]\n",
            "  0%|          | 1/200 [00:00<00:30,  6.58it/s]"
          ],
          "name": "stderr"
        },
        {
          "output_type": "stream",
          "text": [
            "\n",
            " epoch is 4 loss is 0.19819946676492692 || valid_loss is 0.8064347286708653\n"
          ],
          "name": "stdout"
        },
        {
          "output_type": "stream",
          "text": [
            "100%|██████████| 200/200 [00:09<00:00,  6.34it/s]\n",
            "  0%|          | 1/200 [00:00<00:27,  7.31it/s]"
          ],
          "name": "stderr"
        },
        {
          "output_type": "stream",
          "text": [
            "\n",
            " epoch is 5 loss is 0.18509054133668543 || valid_loss is 0.8982274839654565\n"
          ],
          "name": "stdout"
        },
        {
          "output_type": "stream",
          "text": [
            "100%|██████████| 200/200 [00:08<00:00,  6.48it/s]\n",
            "  0%|          | 1/200 [00:00<00:27,  7.25it/s]"
          ],
          "name": "stderr"
        },
        {
          "output_type": "stream",
          "text": [
            "\n",
            " epoch is 6 loss is 0.17094756154343485 || valid_loss is 0.5953866960480809\n"
          ],
          "name": "stdout"
        },
        {
          "output_type": "stream",
          "text": [
            "100%|██████████| 200/200 [00:08<00:00,  6.50it/s]\n",
            "  0%|          | 1/200 [00:00<00:27,  7.25it/s]"
          ],
          "name": "stderr"
        },
        {
          "output_type": "stream",
          "text": [
            "\n",
            " epoch is 7 loss is 0.17026173185557128 || valid_loss is 0.4274083604104817\n"
          ],
          "name": "stdout"
        },
        {
          "output_type": "stream",
          "text": [
            "100%|██████████| 200/200 [00:08<00:00,  6.42it/s]\n",
            "  0%|          | 1/200 [00:00<00:27,  7.27it/s]"
          ],
          "name": "stderr"
        },
        {
          "output_type": "stream",
          "text": [
            "\n",
            " epoch is 8 loss is 0.1716207255423069 || valid_loss is 0.4251339817419648\n"
          ],
          "name": "stdout"
        },
        {
          "output_type": "stream",
          "text": [
            "100%|██████████| 200/200 [00:08<00:00,  6.50it/s]\n",
            "  0%|          | 0/200 [00:00<?, ?it/s]"
          ],
          "name": "stderr"
        },
        {
          "output_type": "stream",
          "text": [
            "\n",
            " epoch is 9 loss is 0.1666611891053617 || valid_loss is 0.4295337409712374\n",
            "******\tenemble 2: \t******\n"
          ],
          "name": "stdout"
        },
        {
          "output_type": "stream",
          "text": [
            "100%|██████████| 200/200 [00:08<00:00,  6.34it/s]\n",
            "  0%|          | 1/200 [00:00<00:27,  7.17it/s]"
          ],
          "name": "stderr"
        },
        {
          "output_type": "stream",
          "text": [
            "\n",
            " epoch is 0 loss is 0.3938331970572472 || valid_loss is 0.36352163762785494\n"
          ],
          "name": "stdout"
        },
        {
          "output_type": "stream",
          "text": [
            "100%|██████████| 200/200 [00:08<00:00,  6.43it/s]\n",
            "  0%|          | 1/200 [00:00<00:27,  7.15it/s]"
          ],
          "name": "stderr"
        },
        {
          "output_type": "stream",
          "text": [
            "\n",
            " epoch is 1 loss is 0.287499750033021 || valid_loss is 0.36478327377699316\n"
          ],
          "name": "stdout"
        },
        {
          "output_type": "stream",
          "text": [
            "100%|██████████| 200/200 [00:08<00:00,  6.51it/s]\n",
            "  0%|          | 1/200 [00:00<00:26,  7.59it/s]"
          ],
          "name": "stderr"
        },
        {
          "output_type": "stream",
          "text": [
            "\n",
            " epoch is 2 loss is 0.2583948683738708 || valid_loss is 0.3710921835154295\n"
          ],
          "name": "stdout"
        },
        {
          "output_type": "stream",
          "text": [
            "100%|██████████| 200/200 [00:08<00:00,  6.40it/s]\n",
            "  0%|          | 1/200 [00:00<00:26,  7.62it/s]"
          ],
          "name": "stderr"
        },
        {
          "output_type": "stream",
          "text": [
            "\n",
            " epoch is 3 loss is 0.23156708151102065 || valid_loss is 0.44822850124910474\n"
          ],
          "name": "stdout"
        },
        {
          "output_type": "stream",
          "text": [
            "100%|██████████| 200/200 [00:08<00:00,  6.49it/s]\n",
            "  0%|          | 1/200 [00:00<00:26,  7.55it/s]"
          ],
          "name": "stderr"
        },
        {
          "output_type": "stream",
          "text": [
            "\n",
            " epoch is 4 loss is 0.20492589786648752 || valid_loss is 0.49107290618121624\n"
          ],
          "name": "stdout"
        },
        {
          "output_type": "stream",
          "text": [
            "100%|██████████| 200/200 [00:08<00:00,  6.37it/s]\n",
            "  0%|          | 1/200 [00:00<00:26,  7.46it/s]"
          ],
          "name": "stderr"
        },
        {
          "output_type": "stream",
          "text": [
            "\n",
            " epoch is 5 loss is 0.19545776940882206 || valid_loss is 0.4875020836479962\n"
          ],
          "name": "stdout"
        },
        {
          "output_type": "stream",
          "text": [
            "100%|██████████| 200/200 [00:09<00:00,  6.49it/s]\n",
            "  0%|          | 1/200 [00:00<00:26,  7.62it/s]"
          ],
          "name": "stderr"
        },
        {
          "output_type": "stream",
          "text": [
            "\n",
            " epoch is 6 loss is 0.18161482974886894 || valid_loss is 0.6443978226743639\n"
          ],
          "name": "stdout"
        },
        {
          "output_type": "stream",
          "text": [
            "100%|██████████| 200/200 [00:08<00:00,  6.38it/s]\n",
            "  0%|          | 1/200 [00:00<00:28,  7.08it/s]"
          ],
          "name": "stderr"
        },
        {
          "output_type": "stream",
          "text": [
            "\n",
            " epoch is 7 loss is 0.17597628351300953 || valid_loss is 0.42727065924555063\n"
          ],
          "name": "stdout"
        },
        {
          "output_type": "stream",
          "text": [
            "100%|██████████| 200/200 [00:08<00:00,  6.46it/s]\n",
            "  0%|          | 1/200 [00:00<00:27,  7.20it/s]"
          ],
          "name": "stderr"
        },
        {
          "output_type": "stream",
          "text": [
            "\n",
            " epoch is 8 loss is 0.16665560875087976 || valid_loss is 0.43608436500653625\n"
          ],
          "name": "stdout"
        },
        {
          "output_type": "stream",
          "text": [
            "100%|██████████| 200/200 [00:08<00:00,  6.46it/s]\n",
            "  0%|          | 0/200 [00:00<?, ?it/s]"
          ],
          "name": "stderr"
        },
        {
          "output_type": "stream",
          "text": [
            "\n",
            " epoch is 9 loss is 0.1631027666479349 || valid_loss is 0.5075236968696117\n",
            "******\tenemble 3: \t******\n"
          ],
          "name": "stdout"
        },
        {
          "output_type": "stream",
          "text": [
            "100%|██████████| 200/200 [00:08<00:00,  6.47it/s]\n",
            "  0%|          | 1/200 [00:00<00:26,  7.44it/s]"
          ],
          "name": "stderr"
        },
        {
          "output_type": "stream",
          "text": [
            "\n",
            " epoch is 0 loss is 0.3750932382792234 || valid_loss is 0.33893368393182755\n"
          ],
          "name": "stdout"
        },
        {
          "output_type": "stream",
          "text": [
            "100%|██████████| 200/200 [00:08<00:00,  6.52it/s]\n",
            "  0%|          | 1/200 [00:00<00:28,  7.00it/s]"
          ],
          "name": "stderr"
        },
        {
          "output_type": "stream",
          "text": [
            "\n",
            " epoch is 1 loss is 0.28978162437677385 || valid_loss is 0.3270348410587758\n"
          ],
          "name": "stdout"
        },
        {
          "output_type": "stream",
          "text": [
            "100%|██████████| 200/200 [00:08<00:00,  6.41it/s]\n",
            "  0%|          | 1/200 [00:00<00:27,  7.14it/s]"
          ],
          "name": "stderr"
        },
        {
          "output_type": "stream",
          "text": [
            "\n",
            " epoch is 2 loss is 0.252119180932641 || valid_loss is 0.3375716954469681\n"
          ],
          "name": "stdout"
        },
        {
          "output_type": "stream",
          "text": [
            "100%|██████████| 200/200 [00:08<00:00,  6.47it/s]\n",
            "  0%|          | 1/200 [00:00<00:29,  6.77it/s]"
          ],
          "name": "stderr"
        },
        {
          "output_type": "stream",
          "text": [
            "\n",
            " epoch is 3 loss is 0.21603761240839958 || valid_loss is 0.3768898993730545\n"
          ],
          "name": "stdout"
        },
        {
          "output_type": "stream",
          "text": [
            "100%|██████████| 200/200 [00:08<00:00,  6.52it/s]\n",
            "  0%|          | 1/200 [00:00<00:26,  7.57it/s]"
          ],
          "name": "stderr"
        },
        {
          "output_type": "stream",
          "text": [
            "\n",
            " epoch is 4 loss is 0.187714182138443 || valid_loss is 0.5412086127325892\n"
          ],
          "name": "stdout"
        },
        {
          "output_type": "stream",
          "text": [
            "100%|██████████| 200/200 [00:08<00:00,  6.44it/s]\n",
            "  0%|          | 1/200 [00:00<00:25,  7.68it/s]"
          ],
          "name": "stderr"
        },
        {
          "output_type": "stream",
          "text": [
            "\n",
            " epoch is 5 loss is 0.175627724789083 || valid_loss is 0.5002949428744614\n"
          ],
          "name": "stdout"
        },
        {
          "output_type": "stream",
          "text": [
            "100%|██████████| 200/200 [00:08<00:00,  6.62it/s]\n",
            "  0%|          | 1/200 [00:00<00:27,  7.35it/s]"
          ],
          "name": "stderr"
        },
        {
          "output_type": "stream",
          "text": [
            "\n",
            " epoch is 6 loss is 0.16760220482945443 || valid_loss is 0.45667673321440816\n"
          ],
          "name": "stdout"
        },
        {
          "output_type": "stream",
          "text": [
            "100%|██████████| 200/200 [00:08<00:00,  6.46it/s]\n",
            "  0%|          | 1/200 [00:00<00:26,  7.49it/s]"
          ],
          "name": "stderr"
        },
        {
          "output_type": "stream",
          "text": [
            "\n",
            " epoch is 7 loss is 0.16340651163831355 || valid_loss is 0.5129656009376049\n"
          ],
          "name": "stdout"
        },
        {
          "output_type": "stream",
          "text": [
            "100%|██████████| 200/200 [00:08<00:00,  5.42it/s]\n",
            "  0%|          | 1/200 [00:00<00:27,  7.30it/s]"
          ],
          "name": "stderr"
        },
        {
          "output_type": "stream",
          "text": [
            "\n",
            " epoch is 8 loss is 0.15766483437269926 || valid_loss is 0.7215378265827894\n"
          ],
          "name": "stdout"
        },
        {
          "output_type": "stream",
          "text": [
            "100%|██████████| 200/200 [00:08<00:00,  6.41it/s]\n",
            "  0%|          | 0/200 [00:00<?, ?it/s]"
          ],
          "name": "stderr"
        },
        {
          "output_type": "stream",
          "text": [
            "\n",
            " epoch is 9 loss is 0.15179633596912026 || valid_loss is 0.5916287354193628\n",
            "******\tenemble 4: \t******\n"
          ],
          "name": "stdout"
        },
        {
          "output_type": "stream",
          "text": [
            "100%|██████████| 200/200 [00:08<00:00,  6.38it/s]\n",
            "  0%|          | 1/200 [00:00<00:26,  7.44it/s]"
          ],
          "name": "stderr"
        },
        {
          "output_type": "stream",
          "text": [
            "\n",
            " epoch is 0 loss is 0.38161580085754393 || valid_loss is 0.34997979807667434\n"
          ],
          "name": "stdout"
        },
        {
          "output_type": "stream",
          "text": [
            "100%|██████████| 200/200 [00:08<00:00,  6.36it/s]\n",
            "  0%|          | 1/200 [00:00<00:28,  6.99it/s]"
          ],
          "name": "stderr"
        },
        {
          "output_type": "stream",
          "text": [
            "\n",
            " epoch is 1 loss is 0.29051842004060746 || valid_loss is 0.32748218229971826\n"
          ],
          "name": "stdout"
        },
        {
          "output_type": "stream",
          "text": [
            "100%|██████████| 200/200 [00:08<00:00,  6.45it/s]\n",
            "  0%|          | 1/200 [00:00<00:27,  7.20it/s]"
          ],
          "name": "stderr"
        },
        {
          "output_type": "stream",
          "text": [
            "\n",
            " epoch is 2 loss is 0.2570898224413395 || valid_loss is 0.35774069745093584\n"
          ],
          "name": "stdout"
        },
        {
          "output_type": "stream",
          "text": [
            "100%|██████████| 200/200 [00:08<00:00,  6.36it/s]\n",
            "  0%|          | 1/200 [00:00<00:27,  7.27it/s]"
          ],
          "name": "stderr"
        },
        {
          "output_type": "stream",
          "text": [
            "\n",
            " epoch is 3 loss is 0.230765700340271 || valid_loss is 0.37591818417422473\n"
          ],
          "name": "stdout"
        },
        {
          "output_type": "stream",
          "text": [
            "100%|██████████| 200/200 [00:08<00:00,  6.33it/s]\n",
            "  0%|          | 1/200 [00:00<00:26,  7.53it/s]"
          ],
          "name": "stderr"
        },
        {
          "output_type": "stream",
          "text": [
            "\n",
            " epoch is 4 loss is 0.20644282218068838 || valid_loss is 0.4287137952633202\n"
          ],
          "name": "stdout"
        },
        {
          "output_type": "stream",
          "text": [
            "100%|██████████| 200/200 [00:08<00:00,  6.40it/s]\n",
            "  0%|          | 1/200 [00:00<00:26,  7.55it/s]"
          ],
          "name": "stderr"
        },
        {
          "output_type": "stream",
          "text": [
            "\n",
            " epoch is 5 loss is 0.18897252589464186 || valid_loss is 0.46110709803178906\n"
          ],
          "name": "stdout"
        },
        {
          "output_type": "stream",
          "text": [
            "100%|██████████| 200/200 [00:08<00:00,  6.41it/s]\n",
            "  0%|          | 1/200 [00:00<00:28,  7.04it/s]"
          ],
          "name": "stderr"
        },
        {
          "output_type": "stream",
          "text": [
            "\n",
            " epoch is 6 loss is 0.18195340890437364 || valid_loss is 0.4440919402986765\n"
          ],
          "name": "stdout"
        },
        {
          "output_type": "stream",
          "text": [
            "100%|██████████| 200/200 [00:09<00:00,  6.38it/s]\n",
            "  0%|          | 1/200 [00:00<00:27,  7.27it/s]"
          ],
          "name": "stderr"
        },
        {
          "output_type": "stream",
          "text": [
            "\n",
            " epoch is 7 loss is 0.16837572598829864 || valid_loss is 0.5995155731216073\n"
          ],
          "name": "stdout"
        },
        {
          "output_type": "stream",
          "text": [
            "100%|██████████| 200/200 [00:08<00:00,  6.41it/s]\n",
            "  0%|          | 1/200 [00:00<00:27,  7.17it/s]"
          ],
          "name": "stderr"
        },
        {
          "output_type": "stream",
          "text": [
            "\n",
            " epoch is 8 loss is 0.163202549405396 || valid_loss is 0.42863368429243565\n"
          ],
          "name": "stdout"
        },
        {
          "output_type": "stream",
          "text": [
            "100%|██████████| 200/200 [00:08<00:00,  6.44it/s]\n",
            "  0%|          | 0/200 [00:00<?, ?it/s]"
          ],
          "name": "stderr"
        },
        {
          "output_type": "stream",
          "text": [
            "\n",
            " epoch is 9 loss is 0.16256814520806073 || valid_loss is 0.537089726421982\n",
            "******\tenemble 5: \t******\n"
          ],
          "name": "stdout"
        },
        {
          "output_type": "stream",
          "text": [
            "100%|██████████| 200/200 [00:08<00:00,  6.38it/s]\n",
            "  0%|          | 1/200 [00:00<00:28,  6.98it/s]"
          ],
          "name": "stderr"
        },
        {
          "output_type": "stream",
          "text": [
            "\n",
            " epoch is 0 loss is 0.803473852276802 || valid_loss is 0.36595395812764764\n"
          ],
          "name": "stdout"
        },
        {
          "output_type": "stream",
          "text": [
            "100%|██████████| 200/200 [00:08<00:00,  6.23it/s]\n",
            "  0%|          | 1/200 [00:00<00:28,  7.04it/s]"
          ],
          "name": "stderr"
        },
        {
          "output_type": "stream",
          "text": [
            "\n",
            " epoch is 1 loss is 0.28667006224393843 || valid_loss is 0.3378041523974389\n"
          ],
          "name": "stdout"
        },
        {
          "output_type": "stream",
          "text": [
            "100%|██████████| 200/200 [00:08<00:00,  6.38it/s]\n",
            "  0%|          | 1/200 [00:00<00:26,  7.53it/s]"
          ],
          "name": "stderr"
        },
        {
          "output_type": "stream",
          "text": [
            "\n",
            " epoch is 2 loss is 0.25530151471495627 || valid_loss is 0.35002362285740674\n"
          ],
          "name": "stdout"
        },
        {
          "output_type": "stream",
          "text": [
            "100%|██████████| 200/200 [00:08<00:00,  6.47it/s]\n",
            "  0%|          | 1/200 [00:00<00:26,  7.54it/s]"
          ],
          "name": "stderr"
        },
        {
          "output_type": "stream",
          "text": [
            "\n",
            " epoch is 3 loss is 0.224895536378026 || valid_loss is 0.3866185878869146\n"
          ],
          "name": "stdout"
        },
        {
          "output_type": "stream",
          "text": [
            "100%|██████████| 200/200 [00:08<00:00,  6.29it/s]\n",
            "  0%|          | 1/200 [00:00<00:26,  7.47it/s]"
          ],
          "name": "stderr"
        },
        {
          "output_type": "stream",
          "text": [
            "\n",
            " epoch is 4 loss is 0.2009180900454521 || valid_loss is 0.4162192498333752\n"
          ],
          "name": "stdout"
        },
        {
          "output_type": "stream",
          "text": [
            "100%|██████████| 200/200 [00:08<00:00,  6.41it/s]\n",
            "  0%|          | 1/200 [00:00<00:28,  7.06it/s]"
          ],
          "name": "stderr"
        },
        {
          "output_type": "stream",
          "text": [
            "\n",
            " epoch is 5 loss is 0.18286728248000145 || valid_loss is 0.4021123375277966\n"
          ],
          "name": "stdout"
        },
        {
          "output_type": "stream",
          "text": [
            "100%|██████████| 200/200 [00:08<00:00,  6.38it/s]\n",
            "  0%|          | 1/200 [00:00<00:28,  6.89it/s]"
          ],
          "name": "stderr"
        },
        {
          "output_type": "stream",
          "text": [
            "\n",
            " epoch is 6 loss is 0.1753069132938981 || valid_loss is 0.4480781266465783\n"
          ],
          "name": "stdout"
        },
        {
          "output_type": "stream",
          "text": [
            "100%|██████████| 200/200 [00:08<00:00,  6.39it/s]\n",
            "  0%|          | 1/200 [00:00<00:28,  6.93it/s]"
          ],
          "name": "stderr"
        },
        {
          "output_type": "stream",
          "text": [
            "\n",
            " epoch is 7 loss is 0.17296282693743706 || valid_loss is 0.5879359594546258\n"
          ],
          "name": "stdout"
        },
        {
          "output_type": "stream",
          "text": [
            "100%|██████████| 200/200 [00:09<00:00,  6.42it/s]\n",
            "  0%|          | 1/200 [00:00<00:27,  7.36it/s]"
          ],
          "name": "stderr"
        },
        {
          "output_type": "stream",
          "text": [
            "\n",
            " epoch is 8 loss is 0.16239745853468776 || valid_loss is 0.6540935854427516\n"
          ],
          "name": "stdout"
        },
        {
          "output_type": "stream",
          "text": [
            "100%|██████████| 200/200 [00:08<00:00,  6.30it/s]\n",
            "  0%|          | 0/200 [00:00<?, ?it/s]"
          ],
          "name": "stderr"
        },
        {
          "output_type": "stream",
          "text": [
            "\n",
            " epoch is 9 loss is 0.15675900641828774 || valid_loss is 0.5435508457012475\n",
            "******\tenemble 6: \t******\n"
          ],
          "name": "stdout"
        },
        {
          "output_type": "stream",
          "text": [
            "100%|██████████| 200/200 [00:08<00:00,  6.45it/s]\n",
            "  0%|          | 1/200 [00:00<00:26,  7.43it/s]"
          ],
          "name": "stderr"
        },
        {
          "output_type": "stream",
          "text": [
            "\n",
            " epoch is 0 loss is 0.3900250409543514 || valid_loss is 0.33377749333158135\n"
          ],
          "name": "stdout"
        },
        {
          "output_type": "stream",
          "text": [
            "100%|██████████| 200/200 [00:08<00:00,  6.32it/s]\n",
            "  0%|          | 1/200 [00:00<00:29,  6.74it/s]"
          ],
          "name": "stderr"
        },
        {
          "output_type": "stream",
          "text": [
            "\n",
            " epoch is 1 loss is 0.2830957318097353 || valid_loss is 0.32292356761172414\n"
          ],
          "name": "stdout"
        },
        {
          "output_type": "stream",
          "text": [
            "100%|██████████| 200/200 [00:08<00:00,  6.47it/s]\n",
            "  0%|          | 1/200 [00:00<00:26,  7.53it/s]"
          ],
          "name": "stderr"
        },
        {
          "output_type": "stream",
          "text": [
            "\n",
            " epoch is 2 loss is 0.24870175890624524 || valid_loss is 0.38333559432066977\n"
          ],
          "name": "stdout"
        },
        {
          "output_type": "stream",
          "text": [
            "100%|██████████| 200/200 [00:08<00:00,  6.26it/s]\n",
            "  0%|          | 1/200 [00:00<00:26,  7.40it/s]"
          ],
          "name": "stderr"
        },
        {
          "output_type": "stream",
          "text": [
            "\n",
            " epoch is 3 loss is 0.22144795186817645 || valid_loss is 0.39254075801\n"
          ],
          "name": "stdout"
        },
        {
          "output_type": "stream",
          "text": [
            "100%|██████████| 200/200 [00:08<00:00,  6.41it/s]\n",
            "  0%|          | 1/200 [00:00<00:26,  7.41it/s]"
          ],
          "name": "stderr"
        },
        {
          "output_type": "stream",
          "text": [
            "\n",
            " epoch is 4 loss is 0.1973579229414463 || valid_loss is 0.5530015570111573\n"
          ],
          "name": "stdout"
        },
        {
          "output_type": "stream",
          "text": [
            "100%|██████████| 200/200 [00:08<00:00,  6.36it/s]\n",
            "  0%|          | 1/200 [00:00<00:28,  7.03it/s]"
          ],
          "name": "stderr"
        },
        {
          "output_type": "stream",
          "text": [
            "\n",
            " epoch is 5 loss is 0.18819689024239777 || valid_loss is 0.6067794365808368\n"
          ],
          "name": "stdout"
        },
        {
          "output_type": "stream",
          "text": [
            "100%|██████████| 200/200 [00:08<00:00,  6.41it/s]\n",
            "  0%|          | 1/200 [00:00<00:28,  6.98it/s]"
          ],
          "name": "stderr"
        },
        {
          "output_type": "stream",
          "text": [
            "\n",
            " epoch is 6 loss is 0.1800564342364669 || valid_loss is 0.46110346261411905\n"
          ],
          "name": "stdout"
        },
        {
          "output_type": "stream",
          "text": [
            "100%|██████████| 200/200 [00:08<00:00,  6.41it/s]\n",
            "  0%|          | 1/200 [00:00<00:30,  6.54it/s]"
          ],
          "name": "stderr"
        },
        {
          "output_type": "stream",
          "text": [
            "\n",
            " epoch is 7 loss is 0.17019872158765792 || valid_loss is 0.526421656832099\n"
          ],
          "name": "stdout"
        },
        {
          "output_type": "stream",
          "text": [
            "100%|██████████| 200/200 [00:09<00:00,  6.36it/s]\n",
            "  0%|          | 1/200 [00:00<00:29,  6.77it/s]"
          ],
          "name": "stderr"
        },
        {
          "output_type": "stream",
          "text": [
            "\n",
            " epoch is 8 loss is 0.16181110174395144 || valid_loss is 0.6943196384236217\n"
          ],
          "name": "stdout"
        },
        {
          "output_type": "stream",
          "text": [
            "100%|██████████| 200/200 [00:08<00:00,  6.35it/s]\n"
          ],
          "name": "stderr"
        },
        {
          "output_type": "stream",
          "text": [
            "\n",
            " epoch is 9 loss is 0.15791393265128137 || valid_loss is 0.5939353290013969\n"
          ],
          "name": "stdout"
        }
      ]
    },
    {
      "cell_type": "code",
      "metadata": {
        "id": "JJ7SCLhRZp9O",
        "colab_type": "code",
        "colab": {
          "base_uri": "https://localhost:8080/",
          "height": 1000
        },
        "outputId": "56ea4bf1-dea2-42b3-a90f-db208c9bb8f8"
      },
      "source": [
        "optimizer = NoamOpt(hid_size, 1, 2000,\n",
        "              torch.optim.Adam(model.parameters(), lr=0, betas=(0.9, 0.98), eps=1e-9))\n",
        "criterion = torch.nn.CrossEntropyLoss()\n",
        "train(model, train_iterator, valid_iterator, optimizer, criterion, 1, 50)"
      ],
      "execution_count": 24,
      "outputs": [
        {
          "output_type": "stream",
          "text": [
            "100%|██████████| 286/286 [00:12<00:00, 22.18it/s]\n",
            "  0%|          | 1/286 [00:00<00:54,  5.24it/s]"
          ],
          "name": "stderr"
        },
        {
          "output_type": "stream",
          "text": [
            "\n",
            " epoch is 0 loss is 0.37834734193511776 || valid_loss is 0.4134479076601565\n"
          ],
          "name": "stdout"
        },
        {
          "output_type": "stream",
          "text": [
            "100%|██████████| 286/286 [00:11<00:00, 24.56it/s]\n",
            "  0%|          | 0/286 [00:00<?, ?it/s]"
          ],
          "name": "stderr"
        },
        {
          "output_type": "stream",
          "text": [
            "\n",
            " epoch is 1 loss is 0.2817095043463307 || valid_loss is 0.38175455713644624\n"
          ],
          "name": "stdout"
        },
        {
          "output_type": "stream",
          "text": [
            "100%|██████████| 286/286 [00:11<00:00, 23.93it/s]\n",
            "  0%|          | 1/286 [00:00<00:53,  5.33it/s]"
          ],
          "name": "stderr"
        },
        {
          "output_type": "stream",
          "text": [
            "\n",
            " epoch is 2 loss is 0.2610105331856888 || valid_loss is 0.3784078429453075\n"
          ],
          "name": "stdout"
        },
        {
          "output_type": "stream",
          "text": [
            "100%|██████████| 286/286 [00:11<00:00, 24.83it/s]\n",
            "  0%|          | 1/286 [00:00<00:55,  5.10it/s]"
          ],
          "name": "stderr"
        },
        {
          "output_type": "stream",
          "text": [
            "\n",
            " epoch is 3 loss is 0.24449588009319106 || valid_loss is 0.35747975390404463\n"
          ],
          "name": "stdout"
        },
        {
          "output_type": "stream",
          "text": [
            "100%|██████████| 286/286 [00:11<00:00, 24.72it/s]\n",
            "  0%|          | 0/286 [00:00<?, ?it/s]"
          ],
          "name": "stderr"
        },
        {
          "output_type": "stream",
          "text": [
            "\n",
            " epoch is 4 loss is 0.232227328357163 || valid_loss is 0.3438521600328386\n"
          ],
          "name": "stdout"
        },
        {
          "output_type": "stream",
          "text": [
            "100%|██████████| 286/286 [00:11<00:00, 24.81it/s]\n",
            "  0%|          | 1/286 [00:00<00:51,  5.48it/s]"
          ],
          "name": "stderr"
        },
        {
          "output_type": "stream",
          "text": [
            "\n",
            " epoch is 5 loss is 0.2208896388228123 || valid_loss is 0.3748823176138103\n"
          ],
          "name": "stdout"
        },
        {
          "output_type": "stream",
          "text": [
            "100%|██████████| 286/286 [00:11<00:00, 24.25it/s]\n",
            "  0%|          | 0/286 [00:00<?, ?it/s]"
          ],
          "name": "stderr"
        },
        {
          "output_type": "stream",
          "text": [
            "\n",
            " epoch is 6 loss is 0.2105169347845591 || valid_loss is 0.35695013497024775\n"
          ],
          "name": "stdout"
        },
        {
          "output_type": "stream",
          "text": [
            "100%|██████████| 286/286 [00:11<00:00, 24.77it/s]\n",
            "  0%|          | 1/286 [00:00<00:51,  5.50it/s]"
          ],
          "name": "stderr"
        },
        {
          "output_type": "stream",
          "text": [
            "\n",
            " epoch is 7 loss is 0.20054566198504054 || valid_loss is 0.42603506380692124\n"
          ],
          "name": "stdout"
        },
        {
          "output_type": "stream",
          "text": [
            "100%|██████████| 286/286 [00:11<00:00, 24.89it/s]\n",
            "  0%|          | 1/286 [00:00<00:53,  5.34it/s]"
          ],
          "name": "stderr"
        },
        {
          "output_type": "stream",
          "text": [
            "\n",
            " epoch is 8 loss is 0.18840830002006118 || valid_loss is 0.3946757214143872\n"
          ],
          "name": "stdout"
        },
        {
          "output_type": "stream",
          "text": [
            "100%|██████████| 286/286 [00:11<00:00, 24.50it/s]\n",
            "  0%|          | 0/286 [00:00<?, ?it/s]"
          ],
          "name": "stderr"
        },
        {
          "output_type": "stream",
          "text": [
            "\n",
            " epoch is 9 loss is 0.17780393872644518 || valid_loss is 0.4637571261264384\n"
          ],
          "name": "stdout"
        },
        {
          "output_type": "stream",
          "text": [
            "100%|██████████| 286/286 [00:11<00:00, 24.01it/s]\n",
            "  0%|          | 0/286 [00:00<?, ?it/s]"
          ],
          "name": "stderr"
        },
        {
          "output_type": "stream",
          "text": [
            "\n",
            " epoch is 10 loss is 0.169627084103706 || valid_loss is 0.592160988599062\n"
          ],
          "name": "stdout"
        },
        {
          "output_type": "stream",
          "text": [
            "100%|██████████| 286/286 [00:12<00:00, 23.04it/s]\n",
            "  0%|          | 1/286 [00:00<00:54,  5.23it/s]"
          ],
          "name": "stderr"
        },
        {
          "output_type": "stream",
          "text": [
            "\n",
            " epoch is 11 loss is 0.16038260595886022 || valid_loss is 0.6086982926353812\n"
          ],
          "name": "stdout"
        },
        {
          "output_type": "stream",
          "text": [
            "100%|██████████| 286/286 [00:11<00:00, 24.89it/s]\n",
            "  0%|          | 0/286 [00:00<?, ?it/s]"
          ],
          "name": "stderr"
        },
        {
          "output_type": "stream",
          "text": [
            "\n",
            " epoch is 12 loss is 0.1599620588879277 || valid_loss is 0.48330768570303917\n"
          ],
          "name": "stdout"
        },
        {
          "output_type": "stream",
          "text": [
            "100%|██████████| 286/286 [00:11<00:00, 24.62it/s]\n",
            "  0%|          | 0/286 [00:00<?, ?it/s]"
          ],
          "name": "stderr"
        },
        {
          "output_type": "stream",
          "text": [
            "\n",
            " epoch is 13 loss is 0.14932379671665547 || valid_loss is 0.5480639445595443\n"
          ],
          "name": "stdout"
        },
        {
          "output_type": "stream",
          "text": [
            "100%|██████████| 286/286 [00:11<00:00, 23.98it/s]\n",
            "  0%|          | 0/286 [00:00<?, ?it/s]"
          ],
          "name": "stderr"
        },
        {
          "output_type": "stream",
          "text": [
            "\n",
            " epoch is 14 loss is 0.14028601731349538 || valid_loss is 0.5576586006209254\n"
          ],
          "name": "stdout"
        },
        {
          "output_type": "stream",
          "text": [
            "100%|██████████| 286/286 [00:11<00:00, 24.47it/s]\n",
            "  0%|          | 0/286 [00:00<?, ?it/s]"
          ],
          "name": "stderr"
        },
        {
          "output_type": "stream",
          "text": [
            "\n",
            " epoch is 15 loss is 0.13388433225348695 || valid_loss is 0.6393089643679559\n"
          ],
          "name": "stdout"
        },
        {
          "output_type": "stream",
          "text": [
            "100%|██████████| 286/286 [00:11<00:00, 24.54it/s]\n",
            "  0%|          | 0/286 [00:00<?, ?it/s]"
          ],
          "name": "stderr"
        },
        {
          "output_type": "stream",
          "text": [
            "\n",
            " epoch is 16 loss is 0.13051224109176154 || valid_loss is 0.6416646093130112\n"
          ],
          "name": "stdout"
        },
        {
          "output_type": "stream",
          "text": [
            "100%|██████████| 286/286 [00:11<00:00, 24.59it/s]\n",
            "  0%|          | 1/286 [00:00<00:52,  5.47it/s]"
          ],
          "name": "stderr"
        },
        {
          "output_type": "stream",
          "text": [
            "\n",
            " epoch is 17 loss is 0.12898885374693395 || valid_loss is 0.628413153346628\n"
          ],
          "name": "stdout"
        },
        {
          "output_type": "stream",
          "text": [
            "100%|██████████| 286/286 [00:11<00:00, 24.14it/s]\n",
            "  0%|          | 1/286 [00:00<00:55,  5.17it/s]"
          ],
          "name": "stderr"
        },
        {
          "output_type": "stream",
          "text": [
            "\n",
            " epoch is 18 loss is 0.13190423677694965 || valid_loss is 0.6572352517396212\n"
          ],
          "name": "stdout"
        },
        {
          "output_type": "stream",
          "text": [
            "100%|██████████| 286/286 [00:12<00:00, 22.63it/s]\n",
            "  0%|          | 0/286 [00:00<?, ?it/s]"
          ],
          "name": "stderr"
        },
        {
          "output_type": "stream",
          "text": [
            "\n",
            " epoch is 19 loss is 0.12721159779368998 || valid_loss is 0.5869020964019\n"
          ],
          "name": "stdout"
        },
        {
          "output_type": "stream",
          "text": [
            "100%|██████████| 286/286 [00:11<00:00, 24.33it/s]\n",
            "  0%|          | 0/286 [00:00<?, ?it/s]"
          ],
          "name": "stderr"
        },
        {
          "output_type": "stream",
          "text": [
            "\n",
            " epoch is 20 loss is 0.1238302430007737 || valid_loss is 0.6140423477627337\n"
          ],
          "name": "stdout"
        },
        {
          "output_type": "stream",
          "text": [
            "100%|██████████| 286/286 [00:11<00:00, 24.45it/s]\n",
            "  0%|          | 1/286 [00:00<00:56,  5.09it/s]"
          ],
          "name": "stderr"
        },
        {
          "output_type": "stream",
          "text": [
            "\n",
            " epoch is 21 loss is 0.12034608490139871 || valid_loss is 0.6759539167396724\n"
          ],
          "name": "stdout"
        },
        {
          "output_type": "stream",
          "text": [
            "100%|██████████| 286/286 [00:12<00:00, 23.31it/s]\n",
            "  0%|          | 0/286 [00:00<?, ?it/s]"
          ],
          "name": "stderr"
        },
        {
          "output_type": "stream",
          "text": [
            "\n",
            " epoch is 22 loss is 0.1171890776246213 || valid_loss is 0.692427578382194\n"
          ],
          "name": "stdout"
        },
        {
          "output_type": "stream",
          "text": [
            "100%|██████████| 286/286 [00:11<00:00, 24.44it/s]\n",
            "  0%|          | 0/286 [00:00<?, ?it/s]"
          ],
          "name": "stderr"
        },
        {
          "output_type": "stream",
          "text": [
            "\n",
            " epoch is 23 loss is 0.11382217347048797 || valid_loss is 0.742745716124773\n"
          ],
          "name": "stdout"
        },
        {
          "output_type": "stream",
          "text": [
            "100%|██████████| 286/286 [00:11<00:00, 24.48it/s]\n",
            "  0%|          | 0/286 [00:00<?, ?it/s]"
          ],
          "name": "stderr"
        },
        {
          "output_type": "stream",
          "text": [
            "\n",
            " epoch is 24 loss is 0.11413957231671557 || valid_loss is 0.9854953298345208\n"
          ],
          "name": "stdout"
        },
        {
          "output_type": "stream",
          "text": [
            "100%|██████████| 286/286 [00:11<00:00, 24.13it/s]\n",
            "  0%|          | 0/286 [00:00<?, ?it/s]"
          ],
          "name": "stderr"
        },
        {
          "output_type": "stream",
          "text": [
            "\n",
            " epoch is 25 loss is 0.11119325375314672 || valid_loss is 1.125816585496068\n"
          ],
          "name": "stdout"
        },
        {
          "output_type": "stream",
          "text": [
            "100%|██████████| 286/286 [00:12<00:00, 23.80it/s]\n",
            "  0%|          | 1/286 [00:00<00:54,  5.24it/s]"
          ],
          "name": "stderr"
        },
        {
          "output_type": "stream",
          "text": [
            "\n",
            " epoch is 26 loss is 0.10891709078129355 || valid_loss is 1.1060115536674857\n"
          ],
          "name": "stdout"
        },
        {
          "output_type": "stream",
          "text": [
            "100%|██████████| 286/286 [00:12<00:00, 22.84it/s]\n",
            "  0%|          | 0/286 [00:00<?, ?it/s]"
          ],
          "name": "stderr"
        },
        {
          "output_type": "stream",
          "text": [
            "\n",
            " epoch is 27 loss is 0.10852600993601592 || valid_loss is 1.0546217672526836\n"
          ],
          "name": "stdout"
        },
        {
          "output_type": "stream",
          "text": [
            "100%|██████████| 286/286 [00:11<00:00, 24.05it/s]\n",
            "  0%|          | 0/286 [00:00<?, ?it/s]"
          ],
          "name": "stderr"
        },
        {
          "output_type": "stream",
          "text": [
            "\n",
            " epoch is 28 loss is 0.10604272156276486 || valid_loss is 0.9688429944217205\n"
          ],
          "name": "stdout"
        },
        {
          "output_type": "stream",
          "text": [
            "100%|██████████| 286/286 [00:11<00:00, 24.42it/s]\n",
            "  0%|          | 0/286 [00:00<?, ?it/s]"
          ],
          "name": "stderr"
        },
        {
          "output_type": "stream",
          "text": [
            "\n",
            " epoch is 29 loss is 0.10335350270754287 || valid_loss is 0.8458919981494546\n"
          ],
          "name": "stdout"
        },
        {
          "output_type": "stream",
          "text": [
            "100%|██████████| 286/286 [00:12<00:00, 23.25it/s]\n",
            "  0%|          | 0/286 [00:00<?, ?it/s]"
          ],
          "name": "stderr"
        },
        {
          "output_type": "stream",
          "text": [
            "\n",
            " epoch is 30 loss is 0.10126063623302779 || valid_loss is 0.7921622497960925\n"
          ],
          "name": "stdout"
        },
        {
          "output_type": "stream",
          "text": [
            "100%|██████████| 286/286 [00:11<00:00, 24.45it/s]\n",
            "  0%|          | 0/286 [00:00<?, ?it/s]"
          ],
          "name": "stderr"
        },
        {
          "output_type": "stream",
          "text": [
            "\n",
            " epoch is 31 loss is 0.09885414310900326 || valid_loss is 0.8041850696317852\n"
          ],
          "name": "stdout"
        },
        {
          "output_type": "stream",
          "text": [
            "100%|██████████| 286/286 [00:11<00:00, 24.33it/s]\n",
            "  0%|          | 0/286 [00:00<?, ?it/s]"
          ],
          "name": "stderr"
        },
        {
          "output_type": "stream",
          "text": [
            "\n",
            " epoch is 32 loss is 0.0961948027158599 || valid_loss is 0.972866085357964\n"
          ],
          "name": "stdout"
        },
        {
          "output_type": "stream",
          "text": [
            "100%|██████████| 286/286 [00:11<00:00, 24.25it/s]\n",
            "  0%|          | 0/286 [00:00<?, ?it/s]"
          ],
          "name": "stderr"
        },
        {
          "output_type": "stream",
          "text": [
            "\n",
            " epoch is 33 loss is 0.09700453251443959 || valid_loss is 0.9871150888502598\n"
          ],
          "name": "stdout"
        },
        {
          "output_type": "stream",
          "text": [
            "100%|██████████| 286/286 [00:12<00:00, 23.43it/s]\n",
            "  0%|          | 0/286 [00:00<?, ?it/s]"
          ],
          "name": "stderr"
        },
        {
          "output_type": "stream",
          "text": [
            "\n",
            " epoch is 34 loss is 0.09493603502478372 || valid_loss is 1.130406747572124\n"
          ],
          "name": "stdout"
        },
        {
          "output_type": "stream",
          "text": [
            "100%|██████████| 286/286 [00:12<00:00, 23.09it/s]\n",
            "  0%|          | 1/286 [00:00<00:56,  5.05it/s]"
          ],
          "name": "stderr"
        },
        {
          "output_type": "stream",
          "text": [
            "\n",
            " epoch is 35 loss is 0.09423279891220424 || valid_loss is 1.2567801801487803\n"
          ],
          "name": "stdout"
        },
        {
          "output_type": "stream",
          "text": [
            "100%|██████████| 286/286 [00:11<00:00, 24.72it/s]\n",
            "  0%|          | 1/286 [00:00<00:55,  5.12it/s]"
          ],
          "name": "stderr"
        },
        {
          "output_type": "stream",
          "text": [
            "\n",
            " epoch is 36 loss is 0.0927065548542366 || valid_loss is 1.2534581050276756\n"
          ],
          "name": "stdout"
        },
        {
          "output_type": "stream",
          "text": [
            "100%|██████████| 286/286 [00:11<00:00, 24.87it/s]\n",
            "  0%|          | 1/286 [00:00<00:55,  5.18it/s]"
          ],
          "name": "stderr"
        },
        {
          "output_type": "stream",
          "text": [
            "\n",
            " epoch is 37 loss is 0.09159513583270039 || valid_loss is 1.318279062397778\n"
          ],
          "name": "stdout"
        },
        {
          "output_type": "stream",
          "text": [
            "100%|██████████| 286/286 [00:11<00:00, 24.03it/s]\n",
            "  0%|          | 0/286 [00:00<?, ?it/s]"
          ],
          "name": "stderr"
        },
        {
          "output_type": "stream",
          "text": [
            "\n",
            " epoch is 38 loss is 0.08937034281166074 || valid_loss is 1.1405465081334114\n"
          ],
          "name": "stdout"
        },
        {
          "output_type": "stream",
          "text": [
            "100%|██████████| 286/286 [00:11<00:00, 24.57it/s]\n",
            "  0%|          | 1/286 [00:00<00:53,  5.35it/s]"
          ],
          "name": "stderr"
        },
        {
          "output_type": "stream",
          "text": [
            "\n",
            " epoch is 39 loss is 0.0897676971036016 || valid_loss is 1.2034573713317513\n"
          ],
          "name": "stdout"
        },
        {
          "output_type": "stream",
          "text": [
            "100%|██████████| 286/286 [00:11<00:00, 24.82it/s]\n",
            "  0%|          | 0/286 [00:00<?, ?it/s]"
          ],
          "name": "stderr"
        },
        {
          "output_type": "stream",
          "text": [
            "\n",
            " epoch is 40 loss is 0.08814939440039175 || valid_loss is 0.967944067902863\n"
          ],
          "name": "stdout"
        },
        {
          "output_type": "stream",
          "text": [
            "100%|██████████| 286/286 [00:11<00:00, 24.80it/s]\n",
            "  0%|          | 1/286 [00:00<00:56,  5.06it/s]"
          ],
          "name": "stderr"
        },
        {
          "output_type": "stream",
          "text": [
            "\n",
            " epoch is 41 loss is 0.08883554228724769 || valid_loss is 0.8155861012637615\n"
          ],
          "name": "stdout"
        },
        {
          "output_type": "stream",
          "text": [
            "100%|██████████| 286/286 [00:11<00:00, 23.89it/s]\n",
            "  0%|          | 1/286 [00:00<00:53,  5.33it/s]"
          ],
          "name": "stderr"
        },
        {
          "output_type": "stream",
          "text": [
            "\n",
            " epoch is 42 loss is 0.08726782276835683 || valid_loss is 0.846816189121455\n"
          ],
          "name": "stdout"
        },
        {
          "output_type": "stream",
          "text": [
            "100%|██████████| 286/286 [00:12<00:00, 22.92it/s]\n",
            "  0%|          | 1/286 [00:00<00:54,  5.19it/s]"
          ],
          "name": "stderr"
        },
        {
          "output_type": "stream",
          "text": [
            "\n",
            " epoch is 43 loss is 0.0850819916915396 || valid_loss is 0.8099594968371093\n"
          ],
          "name": "stdout"
        },
        {
          "output_type": "stream",
          "text": [
            "100%|██████████| 286/286 [00:11<00:00, 24.60it/s]\n",
            "  0%|          | 0/286 [00:00<?, ?it/s]"
          ],
          "name": "stderr"
        },
        {
          "output_type": "stream",
          "text": [
            "\n",
            " epoch is 44 loss is 0.08367072875608228 || valid_loss is 0.9123135292902589\n"
          ],
          "name": "stdout"
        },
        {
          "output_type": "stream",
          "text": [
            "100%|██████████| 286/286 [00:11<00:00, 24.50it/s]\n",
            "  0%|          | 0/286 [00:00<?, ?it/s]"
          ],
          "name": "stderr"
        },
        {
          "output_type": "stream",
          "text": [
            "\n",
            " epoch is 45 loss is 0.08437280124378996 || valid_loss is 0.9226554417982697\n"
          ],
          "name": "stdout"
        },
        {
          "output_type": "stream",
          "text": [
            "100%|██████████| 286/286 [00:12<00:00, 23.71it/s]\n",
            "  0%|          | 1/286 [00:00<00:55,  5.10it/s]"
          ],
          "name": "stderr"
        },
        {
          "output_type": "stream",
          "text": [
            "\n",
            " epoch is 46 loss is 0.08329250401787955 || valid_loss is 0.9302266789600253\n"
          ],
          "name": "stdout"
        },
        {
          "output_type": "stream",
          "text": [
            "100%|██████████| 286/286 [00:11<00:00, 24.50it/s]\n",
            "  0%|          | 1/286 [00:00<00:54,  5.21it/s]"
          ],
          "name": "stderr"
        },
        {
          "output_type": "stream",
          "text": [
            "\n",
            " epoch is 47 loss is 0.0822727790401949 || valid_loss is 0.8818864547647536\n"
          ],
          "name": "stdout"
        },
        {
          "output_type": "stream",
          "text": [
            "100%|██████████| 286/286 [00:11<00:00, 24.57it/s]\n",
            "  0%|          | 0/286 [00:00<?, ?it/s]"
          ],
          "name": "stderr"
        },
        {
          "output_type": "stream",
          "text": [
            "\n",
            " epoch is 48 loss is 0.08187691322234752 || valid_loss is 0.9889879524707794\n"
          ],
          "name": "stdout"
        },
        {
          "output_type": "stream",
          "text": [
            "100%|██████████| 286/286 [00:11<00:00, 24.58it/s]\n"
          ],
          "name": "stderr"
        },
        {
          "output_type": "stream",
          "text": [
            "\n",
            " epoch is 49 loss is 0.08122443132610484 || valid_loss is 1.0898467767983675\n"
          ],
          "name": "stdout"
        }
      ]
    },
    {
      "cell_type": "code",
      "metadata": {
        "id": "yrJRCPs3g5iU",
        "colab_type": "code",
        "colab": {}
      },
      "source": [
        "model.eval()\n",
        "test_preds = []\n",
        "with torch.no_grad():\n",
        "  for batch in iter(test_iter):\n",
        "    row_id = batch.id.item()\n",
        "    if(batch.comment.shape[0]==0):\n",
        "      res_out = 0\n",
        "      test_preds.append([row_id,res_out])\n",
        "      continue\n",
        "    res = model(batch.comment)\n",
        "    res_out = torch.argmax(res).item()\n",
        "    test_preds.append([row_id,res_out])"
      ],
      "execution_count": 0,
      "outputs": []
    },
    {
      "cell_type": "code",
      "metadata": {
        "id": "-cWTizMl3nTb",
        "colab_type": "code",
        "colab": {}
      },
      "source": [
        "###NEW\n",
        "for i in range(n_ensembles):\n",
        "  models[i].eval()\n",
        "test_preds = []\n",
        "with torch.no_grad():\n",
        "  for batch in iter(test_iter):\n",
        "    row_id = batch.id.item()\n",
        "    if(batch.comment.shape[0]==0):\n",
        "      res_out = 0\n",
        "      test_preds.append([row_id,res_out])\n",
        "      continue\n",
        "    sum_vote = 0\n",
        "    for i in range(n_ensembles):\n",
        "      res = models[i](batch.comment)\n",
        "      res_out = torch.argmax(res).item()\n",
        "      sum_vote += res_out\n",
        "    if sum_vote >= 1:\n",
        "      final_vote = 1\n",
        "    else:\n",
        "      final_vote = 0\n",
        "    test_preds.append([row_id,final_vote])"
      ],
      "execution_count": 0,
      "outputs": []
    },
    {
      "cell_type": "code",
      "metadata": {
        "id": "QQJV0UMSs3ay",
        "colab_type": "code",
        "colab": {}
      },
      "source": [
        "test_preds.sort(key=lambda x: x[0])"
      ],
      "execution_count": 0,
      "outputs": []
    },
    {
      "cell_type": "code",
      "metadata": {
        "id": "SAeQu7MGD6CB",
        "colab_type": "code",
        "colab": {}
      },
      "source": [
        "import pandas\n",
        "df = pandas.DataFrame(test_preds, columns= ['id', 'verification_status'])\n",
        "df.to_csv(\"./file.csv\", sep=',',index=False)"
      ],
      "execution_count": 0,
      "outputs": []
    },
    {
      "cell_type": "code",
      "metadata": {
        "id": "zm9jh2sHNcyt",
        "colab_type": "code",
        "colab": {
          "base_uri": "https://localhost:8080/",
          "height": 319
        },
        "outputId": "44f12e91-8624-4f2a-b14a-613cbb1a52aa"
      },
      "source": [
        "model.append_decoder_layer()"
      ],
      "execution_count": 35,
      "outputs": [
        {
          "output_type": "error",
          "ename": "AttributeError",
          "evalue": "ignored",
          "traceback": [
            "\u001b[0;31m---------------------------------------------------------------------------\u001b[0m",
            "\u001b[0;31mAttributeError\u001b[0m                            Traceback (most recent call last)",
            "\u001b[0;32m<ipython-input-35-a09b7c9ec61b>\u001b[0m in \u001b[0;36m<module>\u001b[0;34m()\u001b[0m\n\u001b[0;32m----> 1\u001b[0;31m \u001b[0mmodel\u001b[0m\u001b[0;34m.\u001b[0m\u001b[0mappend_decoder_layer\u001b[0m\u001b[0;34m(\u001b[0m\u001b[0;34m)\u001b[0m\u001b[0;34m\u001b[0m\u001b[0;34m\u001b[0m\u001b[0m\n\u001b[0m",
            "\u001b[0;32m<ipython-input-2-bb0ffd4d0984>\u001b[0m in \u001b[0;36mappend_decoder_layer\u001b[0;34m(self)\u001b[0m\n\u001b[1;32m     43\u001b[0m \u001b[0;34m\u001b[0m\u001b[0m\n\u001b[1;32m     44\u001b[0m   \u001b[0;32mdef\u001b[0m \u001b[0mappend_decoder_layer\u001b[0m\u001b[0;34m(\u001b[0m\u001b[0mself\u001b[0m\u001b[0;34m)\u001b[0m\u001b[0;34m:\u001b[0m\u001b[0;34m\u001b[0m\u001b[0;34m\u001b[0m\u001b[0m\n\u001b[0;32m---> 45\u001b[0;31m     \u001b[0mappended_mod\u001b[0m \u001b[0;34m=\u001b[0m \u001b[0mnn\u001b[0m\u001b[0;34m.\u001b[0m\u001b[0mTransformerEncoderLayer\u001b[0m\u001b[0;34m(\u001b[0m\u001b[0md_model\u001b[0m\u001b[0;34m=\u001b[0m\u001b[0mself\u001b[0m\u001b[0;34m.\u001b[0m\u001b[0mhid_size\u001b[0m\u001b[0;34m,\u001b[0m \u001b[0mnhead\u001b[0m \u001b[0;34m=\u001b[0m \u001b[0mself\u001b[0m\u001b[0;34m.\u001b[0m\u001b[0mn_head\u001b[0m\u001b[0;34m,\u001b[0m \u001b[0mdim_feedforward\u001b[0m \u001b[0;34m=\u001b[0m \u001b[0mself\u001b[0m\u001b[0;34m.\u001b[0m\u001b[0mpf_size\u001b[0m\u001b[0;34m)\u001b[0m\u001b[0;34m.\u001b[0m\u001b[0mto\u001b[0m\u001b[0;34m(\u001b[0m\u001b[0mself\u001b[0m\u001b[0;34m.\u001b[0m\u001b[0mdevice\u001b[0m\u001b[0;34m)\u001b[0m\u001b[0;34m\u001b[0m\u001b[0;34m\u001b[0m\u001b[0m\n\u001b[0m\u001b[1;32m     46\u001b[0m     \u001b[0;32mfor\u001b[0m \u001b[0mp\u001b[0m \u001b[0;32min\u001b[0m \u001b[0mappended_mod\u001b[0m\u001b[0;34m.\u001b[0m\u001b[0mparameters\u001b[0m\u001b[0;34m(\u001b[0m\u001b[0;34m)\u001b[0m\u001b[0;34m:\u001b[0m\u001b[0;34m\u001b[0m\u001b[0;34m\u001b[0m\u001b[0m\n\u001b[1;32m     47\u001b[0m       \u001b[0;32mif\u001b[0m \u001b[0mp\u001b[0m\u001b[0;34m.\u001b[0m\u001b[0mdim\u001b[0m\u001b[0;34m(\u001b[0m\u001b[0;34m)\u001b[0m \u001b[0;34m>\u001b[0m \u001b[0;36m1\u001b[0m\u001b[0;34m:\u001b[0m\u001b[0;34m\u001b[0m\u001b[0;34m\u001b[0m\u001b[0m\n",
            "\u001b[0;32m/usr/local/lib/python3.6/dist-packages/torch/nn/modules/module.py\u001b[0m in \u001b[0;36m__getattr__\u001b[0;34m(self, name)\u001b[0m\n\u001b[1;32m    583\u001b[0m                 \u001b[0;32mreturn\u001b[0m \u001b[0mmodules\u001b[0m\u001b[0;34m[\u001b[0m\u001b[0mname\u001b[0m\u001b[0;34m]\u001b[0m\u001b[0;34m\u001b[0m\u001b[0;34m\u001b[0m\u001b[0m\n\u001b[1;32m    584\u001b[0m         raise AttributeError(\"'{}' object has no attribute '{}'\".format(\n\u001b[0;32m--> 585\u001b[0;31m             type(self).__name__, name))\n\u001b[0m\u001b[1;32m    586\u001b[0m \u001b[0;34m\u001b[0m\u001b[0m\n\u001b[1;32m    587\u001b[0m     \u001b[0;32mdef\u001b[0m \u001b[0m__setattr__\u001b[0m\u001b[0;34m(\u001b[0m\u001b[0mself\u001b[0m\u001b[0;34m,\u001b[0m \u001b[0mname\u001b[0m\u001b[0;34m,\u001b[0m \u001b[0mvalue\u001b[0m\u001b[0;34m)\u001b[0m\u001b[0;34m:\u001b[0m\u001b[0;34m\u001b[0m\u001b[0;34m\u001b[0m\u001b[0m\n",
            "\u001b[0;31mAttributeError\u001b[0m: 'SentimentModel' object has no attribute 'n_head'"
          ]
        }
      ]
    }
  ]
}