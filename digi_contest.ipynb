{
  "nbformat": 4,
  "nbformat_minor": 0,
  "metadata": {
    "colab": {
      "name": "digi-contest.ipynb",
      "provenance": [],
      "collapsed_sections": [],
      "include_colab_link": true
    },
    "kernelspec": {
      "name": "python3",
      "display_name": "Python 3"
    },
    "accelerator": "GPU"
  },
  "cells": [
    {
      "cell_type": "markdown",
      "metadata": {
        "id": "view-in-github",
        "colab_type": "text"
      },
      "source": [
        "<a href=\"https://colab.research.google.com/github/mmsamiei/just-practice-deep/blob/master/digi_contest.ipynb\" target=\"_parent\"><img src=\"https://colab.research.google.com/assets/colab-badge.svg\" alt=\"Open In Colab\"/></a>"
      ]
    },
    {
      "cell_type": "code",
      "metadata": {
        "id": "TDfLKgBAOCn7",
        "colab_type": "code",
        "colab": {}
      },
      "source": [
        "import torch\n",
        "import torch.nn as nn\n",
        "import numpy as np\n",
        "\n",
        "device = torch.device('cuda') if torch.cuda.is_available() else torch.device('cpu')"
      ],
      "execution_count": 0,
      "outputs": []
    },
    {
      "cell_type": "code",
      "metadata": {
        "id": "Mxb0vhMdO6nq",
        "colab_type": "code",
        "colab": {}
      },
      "source": [
        "class SentimentModel(nn.Module):\n",
        "  \n",
        "  def __init__(self, hid_size, vocab_size, n_head, n_layers, pf_size, max_len, device):\n",
        "    super().__init__()\n",
        "\n",
        "    self.device = device\n",
        "    \n",
        "    self.hid_size = hid_size\n",
        "    self.pf_size = pf_size\n",
        "    self.max_len = max_len\n",
        "    self.n_head = n_head\n",
        "\n",
        "    self.embedding = nn.Embedding(vocab_size, hid_size)\n",
        "\n",
        "    self.position_enc = nn.Embedding(self.max_len, self.hid_size)\n",
        "    self.position_enc.weight.data = self.position_encoding_init(self.max_len, self.hid_size)\n",
        "    self.scale = torch.sqrt(torch.FloatTensor([self.hid_size])).to(device)\n",
        "\n",
        "    self.layer_norm = nn.LayerNorm(self.hid_size)\n",
        "    self.encoder_layer = nn.TransformerEncoderLayer(d_model=hid_size, nhead = n_head, dim_feedforward = pf_size)\n",
        "    self.encoder = nn.TransformerEncoder(self.encoder_layer, num_layers=n_layers, norm=self.layer_norm)\n",
        "    self.fc = nn.Linear(hid_size, 2)\n",
        "\n",
        "    self._init_weights()\n",
        "  \n",
        "  def forward(self, x):\n",
        "    sent_len, batch_size = x.shape[0], x.shape[1]\n",
        "\n",
        "    temp = x\n",
        "    temp = self.embedding(temp)\n",
        "\n",
        "    pos = torch.arange(0,sent_len).unsqueeze(1).repeat(1,batch_size).to(self.device)\n",
        "    temp_pos_emb = self.position_enc(pos)\n",
        "\n",
        "    temp = temp * self.scale + temp_pos_emb\n",
        "    temp = self.encoder(temp)\n",
        "    temp = self.fc(temp[0,:])\n",
        "    return temp\n",
        "\n",
        "  def _init_weights(self):\n",
        "    for p in self.parameters():\n",
        "      if p.dim() > 1:\n",
        "        nn.init.xavier_uniform_(p)\n",
        "\n",
        "  def append_decoder_layer(self):\n",
        "    appended_mod = nn.TransformerEncoderLayer(d_model=self.hid_size, nhead = self.n_head, dim_feedforward = self.pf_size).to(self.device)\n",
        "    for p in appended_mod.parameters():\n",
        "      if p.dim() > 1:\n",
        "        nn.init.xavier_uniform_(p)\n",
        "    self.encoder.layers.append(appended_mod)\n",
        "    self.encoder.num_layers += 1\n",
        "\n",
        "  \n",
        "  def position_encoding_init(self, n_position, d_pos_vec):\n",
        "    ''' Init the sinusoid position encoding table '''\n",
        "\n",
        "    # keep dim 0 for padding token position encoding zero vector\n",
        "    position_enc = np.array([\n",
        "        [pos / np.power(10000, 2*i/d_pos_vec) for i in range(d_pos_vec)]\n",
        "        if pos != 0 else np.zeros(d_pos_vec) for pos in range(n_position)])\n",
        "\n",
        "    position_enc[1:, 0::2] = np.sin(position_enc[1:, 0::2]) # dim 2i\n",
        "    position_enc[1:, 1::2] = np.cos(position_enc[1:, 1::2]) # dim 2i+1\n",
        "    temp = torch.from_numpy(position_enc).type(torch.FloatTensor)\n",
        "    temp = temp.to(self.device)\n",
        "    return temp"
      ],
      "execution_count": 0,
      "outputs": []
    },
    {
      "cell_type": "code",
      "metadata": {
        "id": "WN1zAfWNQp9d",
        "colab_type": "code",
        "colab": {}
      },
      "source": [
        "hid_size = 16\n",
        "vocab_size = 60 \n",
        "n_head = 4\n",
        "n_layers = 2\n",
        "pf_size = 64\n",
        "max_len = 1200\n",
        "model = SentimentModel(hid_size, vocab_size, n_head, n_layers, pf_size, max_len, device).to(device)"
      ],
      "execution_count": 0,
      "outputs": []
    },
    {
      "cell_type": "code",
      "metadata": {
        "id": "fxDKX-3ZR1JM",
        "colab_type": "code",
        "outputId": "56e5f343-737b-402a-edd6-9cc9d224be2b",
        "colab": {
          "base_uri": "https://localhost:8080/",
          "height": 35
        }
      },
      "source": [
        "test_len = 20\n",
        "batch_size = 64\n",
        "test_input = torch.LongTensor(test_len, batch_size).random_(1,vocab_size).to(device)\n",
        "model(test_input).shape"
      ],
      "execution_count": 4,
      "outputs": [
        {
          "output_type": "execute_result",
          "data": {
            "text/plain": [
              "torch.Size([64, 2])"
            ]
          },
          "metadata": {
            "tags": []
          },
          "execution_count": 4
        }
      ]
    },
    {
      "cell_type": "code",
      "metadata": {
        "id": "IWnSSADbRsrj",
        "colab_type": "code",
        "outputId": "5bf72258-a0a4-40ae-94ca-784d9d41baaf",
        "colab": {
          "base_uri": "https://localhost:8080/",
          "height": 35
        }
      },
      "source": [
        "def count_parameters(model):\n",
        "    return sum(p.numel() for p in model.parameters() if p.requires_grad)\n",
        "\n",
        "print(f'The model has {count_parameters(model):,} trainable parameters')"
      ],
      "execution_count": 5,
      "outputs": [
        {
          "output_type": "stream",
          "text": [
            "The model has 30,066 trainable parameters\n"
          ],
          "name": "stdout"
        }
      ]
    },
    {
      "cell_type": "markdown",
      "metadata": {
        "id": "-APzgvLzS2Dt",
        "colab_type": "text"
      },
      "source": [
        "**Data Loading**"
      ]
    },
    {
      "cell_type": "code",
      "metadata": {
        "id": "TLR1DH5oS7rL",
        "colab_type": "code",
        "colab": {}
      },
      "source": [
        "import torchtext\n",
        "from torchtext.data import Field, SubwordField\n",
        "from torchtext.data import Pipeline\n",
        "import spacy\n",
        "\n",
        "tokenize = lambda x: x.split()\n",
        "\n",
        "def remove_repetitive_char(x):\n",
        "  string = \" \"\n",
        "  for char in x:\n",
        "    if(char != string[-1]):\n",
        "      string += char\n",
        "  return string[1:]\n",
        "\n",
        "def replace_bad_char(x):\n",
        "  string = x\n",
        "  string = string.replace(\"ة\", \"ه\")\n",
        "  string = string.replace(\"ي\", \"ی\")\n",
        "  string = string.replace(\"ٱ\", \"ا\")\n",
        "  string = string.replace(\"ڋ\", \"د\")\n",
        "  string = string.replace(\"ڑ\", \"ر\")\n",
        "  string = string.replace(\"ڪ\", \"ک\")\n",
        "  string = string.replace(\"ھ\", \"ه\")\n",
        "  string = string.replace(\"ی\", \"ی\")\n",
        "  string = string.replace(\"ە\", \"ه\")\n",
        "  string = string.replace(\"ﭘ\", \"پ\")\n",
        "  string = string.replace(\"ﮊ\", \"ژ\")\n",
        "  string = string.replace(\"ﮓ\", \"گ\")\n",
        "  string = string.replace(\"ﮔ\", \"گ\")\n",
        "  string = string.replace(\"ﺎ\", \"گ\")\n",
        "  string = string.replace(\"ﺖ\", \"گ\")\n",
        "  string = string.replace(\"ﺤ\", \"گ\")\n",
        "  string = string.replace(\"ﺪ\", \"گ\")\n",
        "  string = string.replace('ﺮ',\"ر\" )\n",
        "  string = string.replace('ﺯ',\"ز\" )\n",
        "  string = string.replace('ﺰ',\"ز\" )\n",
        "  string = string.replace('ﺳ',\"س\" )\n",
        "  string = string.replace('ﺴ',\"س\" )\n",
        "  string = string.replace('ﺶ', \"ش\")\n",
        "  string = string.replace('ﺷ', \"ش\")\n",
        "  string = string.replace('ﺸ', \"ش\")\n",
        "  string = string.replace('ﺼ', \"ص\")\n",
        "  string = string.replace('ﺽ', \"ض\")\n",
        "  string = string.replace('ﻌ', \"ع\")\n",
        "  string = string.replace('ﻔ', \"ف\")\n",
        "  string = string.replace('ﻗ', \"ق\")\n",
        "  string = string.replace('ﻛ', \"ک\")\n",
        "  string = string.replace('ﻜ', \"ک\")\n",
        "  string = string.replace('ﻝ', \"ل\")\n",
        "  string = string.replace('ﻟ',\"ل\" )\n",
        "  string = string.replace('ﻢ',\"م\" )\n",
        "  string = string.replace('ﻣ', \"م\")\n",
        "  string = string.replace('ﻥ', \"ن\")\n",
        "  string = string.replace('ﻦ', \"ن\")\n",
        "  string = string.replace('ﻧ', \"ن\")\n",
        "  string = string.replace('ﻨ', \"ن\")\n",
        "  string = string.replace('ﻩ', \"ه\")\n",
        "  string = string.replace('ﻪ', \"ه\")\n",
        "  string = string.replace('ﻫ', \"ه\")\n",
        "  string = string.replace('ﻬ', \"ه\")\n",
        "  string = string.replace('ﻭ', \"و\")\n",
        "  string = string.replace('ﻮ', \"و\")\n",
        "  string = string.replace('ﻱ', \"ی\")\n",
        "  string = string.replace('ﻲ', \"ی\")\n",
        "  string = string.replace('ﻳ', \"ی\")\n",
        "  return string\n",
        "  \n",
        "\n",
        "\n",
        "pre_pipe = Pipeline(remove_repetitive_char)\n",
        "pre_pipe.add_before(replace_bad_char)\n",
        "\n",
        "TEXT = Field(sequential=True, tokenize=tokenize, lower=True, preprocessing=pre_pipe, init_token=\"<bos>\")\n",
        "LABEL = Field(sequential=False, use_vocab=False)\n",
        "ID = Field(sequential=False, use_vocab=False)\n",
        "\n",
        "SUBTEXT = SubwordField()"
      ],
      "execution_count": 0,
      "outputs": []
    },
    {
      "cell_type": "code",
      "metadata": {
        "id": "D3s7MA_6UXcm",
        "colab_type": "code",
        "colab": {}
      },
      "source": [
        "from torchtext.data import TabularDataset\n",
        "\n",
        "tv_datafields = [(\"id\", None), # we won't be needing the id, so we pass in None as the field\n",
        "                 (\"title\", None), (\"comment\", TEXT),\n",
        "                 (\"rate\", None), (\"verification_status\", LABEL)]\n",
        "\n",
        "tst_datafields = [(\"id\", ID), # we won't be needing the id, so we pass in None as the field\n",
        "                 (\"title\", None), (\"comment\", TEXT),\n",
        "                 (\"rate\", None)]\n",
        "\n"
      ],
      "execution_count": 0,
      "outputs": []
    },
    {
      "cell_type": "code",
      "metadata": {
        "id": "3cf8mrIfUxZX",
        "colab_type": "code",
        "colab": {}
      },
      "source": [
        "import random\n",
        "\n",
        "def my_filter_pred(example, limited_word = 200):\n",
        "  if(len(example.comment) <= limited_word):\n",
        "    return True\n",
        "  else:\n",
        "    return False\n",
        "\n",
        "\n",
        "train_dataset, valid_dataset = TabularDataset(\n",
        "               path='train_comments.csv',\n",
        "               format='csv',\n",
        "               skip_header=True, # if your csv header has a header, make sure to pass this to ensure it doesn't get proceesed as data!\n",
        "               fields=tv_datafields,\n",
        "               filter_pred = my_filter_pred).split([0.9,0.2])\n",
        "\n",
        "\n",
        "\n",
        "\n",
        "test_dataset = TabularDataset(\n",
        "               path='test_nolabel_comments.csv',\n",
        "               format='csv',\n",
        "               skip_header=True, # if your csv header has a header, make sure to pass this to ensure it doesn't get proceesed as data!\n",
        "               fields=tst_datafields)\n",
        "\n",
        "\n"
      ],
      "execution_count": 0,
      "outputs": []
    },
    {
      "cell_type": "code",
      "metadata": {
        "id": "pxUbobAZVjk4",
        "colab_type": "code",
        "colab": {
          "base_uri": "https://localhost:8080/",
          "height": 35
        },
        "outputId": "d972bac3-d770-4a71-a32f-a5dbbdb38512"
      },
      "source": [
        "len(train_dataset)"
      ],
      "execution_count": 9,
      "outputs": [
        {
          "output_type": "execute_result",
          "data": {
            "text/plain": [
              "145924"
            ]
          },
          "metadata": {
            "tags": []
          },
          "execution_count": 9
        }
      ]
    },
    {
      "cell_type": "code",
      "metadata": {
        "id": "DXl5omx6zarp",
        "colab_type": "code",
        "colab": {}
      },
      "source": [
        "s = set()\n",
        "for i, batch in enumerate(train_dataset):\n",
        "  s = s.union(set(\" \".join(batch.comment)))"
      ],
      "execution_count": 0,
      "outputs": []
    },
    {
      "cell_type": "code",
      "metadata": {
        "id": "ftlPS9L_1foE",
        "colab_type": "code",
        "colab": {
          "base_uri": "https://localhost:8080/",
          "height": 1000
        },
        "outputId": "a907574b-ec96-496d-96be-7a759926f5c3"
      },
      "source": [
        "s"
      ],
      "execution_count": 11,
      "outputs": [
        {
          "output_type": "execute_result",
          "data": {
            "text/plain": [
              "{' ',\n",
              " '!',\n",
              " '\"',\n",
              " '#',\n",
              " '$',\n",
              " '%',\n",
              " '&',\n",
              " \"'\",\n",
              " '(',\n",
              " ')',\n",
              " '*',\n",
              " '+',\n",
              " ',',\n",
              " '-',\n",
              " '.',\n",
              " '/',\n",
              " '0',\n",
              " '1',\n",
              " '2',\n",
              " '3',\n",
              " '4',\n",
              " '5',\n",
              " '6',\n",
              " '7',\n",
              " '8',\n",
              " '9',\n",
              " ':',\n",
              " ';',\n",
              " '<',\n",
              " '=',\n",
              " '>',\n",
              " '?',\n",
              " '@',\n",
              " '[',\n",
              " '\\\\',\n",
              " ']',\n",
              " '^',\n",
              " '_',\n",
              " 'a',\n",
              " 'b',\n",
              " 'c',\n",
              " 'd',\n",
              " 'e',\n",
              " 'f',\n",
              " 'g',\n",
              " 'h',\n",
              " 'i',\n",
              " 'j',\n",
              " 'k',\n",
              " 'l',\n",
              " 'm',\n",
              " 'n',\n",
              " 'o',\n",
              " 'p',\n",
              " 'q',\n",
              " 'r',\n",
              " 's',\n",
              " 't',\n",
              " 'u',\n",
              " 'v',\n",
              " 'w',\n",
              " 'x',\n",
              " 'y',\n",
              " 'z',\n",
              " '{',\n",
              " '|',\n",
              " '}',\n",
              " '~',\n",
              " '¡',\n",
              " '«',\n",
              " '\\xad',\n",
              " '®',\n",
              " '°',\n",
              " '·',\n",
              " '»',\n",
              " '×',\n",
              " 'é',\n",
              " '÷',\n",
              " '͢',\n",
              " 'ε',\n",
              " 'г',\n",
              " 'ժ',\n",
              " 'հ',\n",
              " 'ձ',\n",
              " 'օ',\n",
              " 'ּ',\n",
              " 'פ',\n",
              " '،',\n",
              " '؛',\n",
              " '\\u061c',\n",
              " '؟',\n",
              " 'ء',\n",
              " 'آ',\n",
              " 'أ',\n",
              " 'ؤ',\n",
              " 'إ',\n",
              " 'ئ',\n",
              " 'ا',\n",
              " 'ب',\n",
              " 'ت',\n",
              " 'ث',\n",
              " 'ج',\n",
              " 'ح',\n",
              " 'خ',\n",
              " 'د',\n",
              " 'ذ',\n",
              " 'ر',\n",
              " 'ز',\n",
              " 'س',\n",
              " 'ش',\n",
              " 'ص',\n",
              " 'ض',\n",
              " 'ط',\n",
              " 'ظ',\n",
              " 'ع',\n",
              " 'غ',\n",
              " 'ـ',\n",
              " 'ف',\n",
              " 'ق',\n",
              " 'ك',\n",
              " 'ل',\n",
              " 'م',\n",
              " 'ن',\n",
              " 'ه',\n",
              " 'و',\n",
              " 'ى',\n",
              " 'ً',\n",
              " 'ٌ',\n",
              " 'ٍ',\n",
              " 'َ',\n",
              " 'ُ',\n",
              " 'ِ',\n",
              " 'ّ',\n",
              " 'ْ',\n",
              " 'ٓ',\n",
              " 'ٔ',\n",
              " 'ٕ',\n",
              " '٠',\n",
              " '١',\n",
              " '٢',\n",
              " '٣',\n",
              " '٤',\n",
              " '٥',\n",
              " '٦',\n",
              " '٧',\n",
              " '٨',\n",
              " '٩',\n",
              " '٪',\n",
              " '٫',\n",
              " '٬',\n",
              " 'ٰ',\n",
              " 'ٵ',\n",
              " 'ٹ',\n",
              " 'پ',\n",
              " 'چ',\n",
              " 'ڔ',\n",
              " 'ڗ',\n",
              " 'ژ',\n",
              " 'ک',\n",
              " 'گ',\n",
              " 'ۀ',\n",
              " 'ہ',\n",
              " 'ۂ',\n",
              " 'ی',\n",
              " 'ے',\n",
              " '۔',\n",
              " '۰',\n",
              " '۱',\n",
              " '۲',\n",
              " '۳',\n",
              " '۴',\n",
              " '۵',\n",
              " '۶',\n",
              " '۷',\n",
              " '۸',\n",
              " '۹',\n",
              " 'ܢ',\n",
              " 'ݪ',\n",
              " '২',\n",
              " 'ო',\n",
              " '\\u200b',\n",
              " '\\u200c',\n",
              " '\\u200d',\n",
              " '\\u200e',\n",
              " '\\u200f',\n",
              " '—',\n",
              " '‘',\n",
              " '’',\n",
              " '“',\n",
              " '”',\n",
              " '•',\n",
              " '…',\n",
              " '\\u202b',\n",
              " '\\u202d',\n",
              " '›',\n",
              " '\\u2066',\n",
              " '\\u2069',\n",
              " '⁶',\n",
              " '℅',\n",
              " '⇩',\n",
              " '●',\n",
              " '☆',\n",
              " '☠',\n",
              " '☹',\n",
              " '☺',\n",
              " '♀',\n",
              " '♂',\n",
              " '♡',\n",
              " '♥',\n",
              " '⚘',\n",
              " '⚜',\n",
              " '⚡',\n",
              " '✊',\n",
              " '✋',\n",
              " '✌',\n",
              " '❤',\n",
              " '➖',\n",
              " '⬆',\n",
              " '⭐',\n",
              " '⭕',\n",
              " '《',\n",
              " '》',\n",
              " '﴾',\n",
              " '﴿',\n",
              " '﷼',\n",
              " '️',\n",
              " 'ﺏ',\n",
              " 'ﺑ',\n",
              " 'ﺗ',\n",
              " 'ﺘ',\n",
              " 'ﺞ',\n",
              " 'ﺧ',\n",
              " 'ﺨ',\n",
              " 'ﺩ',\n",
              " 'ﺭ',\n",
              " 'ﺲ',\n",
              " 'ﺹ',\n",
              " 'ﺻ',\n",
              " 'ﻃ',\n",
              " 'ﻄ',\n",
              " 'ﻋ',\n",
              " 'ﻓ',\n",
              " 'ﻘ',\n",
              " 'ﻙ',\n",
              " 'ﻤ',\n",
              " 'ﻴ',\n",
              " 'ﻼ',\n",
              " '：'}"
            ]
          },
          "metadata": {
            "tags": []
          },
          "execution_count": 11
        }
      ]
    },
    {
      "cell_type": "code",
      "metadata": {
        "id": "-ySiwxdGVMoj",
        "colab_type": "code",
        "colab": {
          "base_uri": "https://localhost:8080/",
          "height": 35
        },
        "outputId": "7841b03c-79a1-43fa-dbb5-ee4a7a8ed1ce"
      },
      "source": [
        "train_dataset[0].__dict__.keys()"
      ],
      "execution_count": 12,
      "outputs": [
        {
          "output_type": "execute_result",
          "data": {
            "text/plain": [
              "dict_keys(['comment', 'verification_status'])"
            ]
          },
          "metadata": {
            "tags": []
          },
          "execution_count": 12
        }
      ]
    },
    {
      "cell_type": "code",
      "metadata": {
        "id": "nmoJUBu8Vlmb",
        "colab_type": "code",
        "colab": {
          "base_uri": "https://localhost:8080/",
          "height": 35
        },
        "outputId": "092875fd-e46b-4109-91f1-2a42b02e3838"
      },
      "source": [
        "train_dataset[0].verification_status"
      ],
      "execution_count": 13,
      "outputs": [
        {
          "output_type": "execute_result",
          "data": {
            "text/plain": [
              "'0'"
            ]
          },
          "metadata": {
            "tags": []
          },
          "execution_count": 13
        }
      ]
    },
    {
      "cell_type": "code",
      "metadata": {
        "id": "pdhjcHJrWBsZ",
        "colab_type": "code",
        "colab": {}
      },
      "source": [
        "TEXT.build_vocab(train_dataset, min_freq=3)"
      ],
      "execution_count": 0,
      "outputs": []
    },
    {
      "cell_type": "code",
      "metadata": {
        "id": "O31x-kv6WGfX",
        "colab_type": "code",
        "colab": {
          "base_uri": "https://localhost:8080/",
          "height": 35
        },
        "outputId": "f201e1b3-5604-409d-954f-9875a11e5fa8"
      },
      "source": [
        "len(TEXT.vocab)"
      ],
      "execution_count": 15,
      "outputs": [
        {
          "output_type": "execute_result",
          "data": {
            "text/plain": [
              "30335"
            ]
          },
          "metadata": {
            "tags": []
          },
          "execution_count": 15
        }
      ]
    },
    {
      "cell_type": "code",
      "metadata": {
        "id": "7WAHfoauWJKE",
        "colab_type": "code",
        "colab": {}
      },
      "source": [
        "from torchtext.data import BucketIterator, interleave_keys, Iterator\n",
        "\n",
        "batch_size = 512\n",
        "\n",
        "train_iterator = BucketIterator(dataset= train_dataset, batch_size=batch_size,\n",
        "                                device=device,\n",
        "                                sort_key=lambda x: len(x.comment),\n",
        "                                sort = True,\n",
        "                                shuffle = True,\n",
        "                                repeat = False)\n",
        "\n",
        "valid_iterator = BucketIterator(dataset= valid_dataset, batch_size=batch_size,\n",
        "                                device=device,\n",
        "                                sort_key=lambda x: len(x.comment),\n",
        "                                sort = True,\n",
        "                                shuffle = True,\n",
        "                                repeat = False)\n",
        "\n",
        "test_iter = Iterator(test_dataset, batch_size=1, device=device, sort=False, sort_within_batch=False, repeat=False)\n"
      ],
      "execution_count": 0,
      "outputs": []
    },
    {
      "cell_type": "code",
      "metadata": {
        "id": "A1Lpa1fzXKL-",
        "colab_type": "code",
        "colab": {
          "base_uri": "https://localhost:8080/",
          "height": 1000
        },
        "outputId": "add87f09-6d36-45ec-9a6f-4ace29276f7d"
      },
      "source": [
        "for batch in iter(train_iterator):\n",
        "  print(batch.comment.shape)"
      ],
      "execution_count": 17,
      "outputs": [
        {
          "output_type": "stream",
          "text": [
            "torch.Size([2, 512])\n",
            "torch.Size([2, 512])\n",
            "torch.Size([3, 512])\n",
            "torch.Size([3, 512])\n",
            "torch.Size([3, 512])\n",
            "torch.Size([3, 512])\n",
            "torch.Size([3, 512])\n",
            "torch.Size([3, 512])\n",
            "torch.Size([3, 512])\n",
            "torch.Size([4, 512])\n",
            "torch.Size([4, 512])\n",
            "torch.Size([4, 512])\n",
            "torch.Size([4, 512])\n",
            "torch.Size([4, 512])\n",
            "torch.Size([4, 512])\n",
            "torch.Size([4, 512])\n",
            "torch.Size([4, 512])\n",
            "torch.Size([4, 512])\n",
            "torch.Size([5, 512])\n",
            "torch.Size([5, 512])\n",
            "torch.Size([5, 512])\n",
            "torch.Size([5, 512])\n",
            "torch.Size([5, 512])\n",
            "torch.Size([5, 512])\n",
            "torch.Size([5, 512])\n",
            "torch.Size([5, 512])\n",
            "torch.Size([5, 512])\n",
            "torch.Size([5, 512])\n",
            "torch.Size([5, 512])\n",
            "torch.Size([5, 512])\n",
            "torch.Size([6, 512])\n",
            "torch.Size([6, 512])\n",
            "torch.Size([6, 512])\n",
            "torch.Size([6, 512])\n",
            "torch.Size([6, 512])\n",
            "torch.Size([6, 512])\n",
            "torch.Size([6, 512])\n",
            "torch.Size([6, 512])\n",
            "torch.Size([6, 512])\n",
            "torch.Size([6, 512])\n",
            "torch.Size([6, 512])\n",
            "torch.Size([6, 512])\n",
            "torch.Size([6, 512])\n",
            "torch.Size([7, 512])\n",
            "torch.Size([7, 512])\n",
            "torch.Size([7, 512])\n",
            "torch.Size([7, 512])\n",
            "torch.Size([7, 512])\n",
            "torch.Size([7, 512])\n",
            "torch.Size([7, 512])\n",
            "torch.Size([7, 512])\n",
            "torch.Size([7, 512])\n",
            "torch.Size([7, 512])\n",
            "torch.Size([7, 512])\n",
            "torch.Size([7, 512])\n",
            "torch.Size([7, 512])\n",
            "torch.Size([8, 512])\n",
            "torch.Size([8, 512])\n",
            "torch.Size([8, 512])\n",
            "torch.Size([8, 512])\n",
            "torch.Size([8, 512])\n",
            "torch.Size([8, 512])\n",
            "torch.Size([8, 512])\n",
            "torch.Size([8, 512])\n",
            "torch.Size([8, 512])\n",
            "torch.Size([8, 512])\n",
            "torch.Size([8, 512])\n",
            "torch.Size([8, 512])\n",
            "torch.Size([9, 512])\n",
            "torch.Size([9, 512])\n",
            "torch.Size([9, 512])\n",
            "torch.Size([9, 512])\n",
            "torch.Size([9, 512])\n",
            "torch.Size([9, 512])\n",
            "torch.Size([9, 512])\n",
            "torch.Size([9, 512])\n",
            "torch.Size([9, 512])\n",
            "torch.Size([9, 512])\n",
            "torch.Size([9, 512])\n",
            "torch.Size([10, 512])\n",
            "torch.Size([10, 512])\n",
            "torch.Size([10, 512])\n",
            "torch.Size([10, 512])\n",
            "torch.Size([10, 512])\n",
            "torch.Size([10, 512])\n",
            "torch.Size([10, 512])\n",
            "torch.Size([10, 512])\n",
            "torch.Size([10, 512])\n",
            "torch.Size([10, 512])\n",
            "torch.Size([11, 512])\n",
            "torch.Size([11, 512])\n",
            "torch.Size([11, 512])\n",
            "torch.Size([11, 512])\n",
            "torch.Size([11, 512])\n",
            "torch.Size([11, 512])\n",
            "torch.Size([11, 512])\n",
            "torch.Size([11, 512])\n",
            "torch.Size([11, 512])\n",
            "torch.Size([11, 512])\n",
            "torch.Size([12, 512])\n",
            "torch.Size([12, 512])\n",
            "torch.Size([12, 512])\n",
            "torch.Size([12, 512])\n",
            "torch.Size([12, 512])\n",
            "torch.Size([12, 512])\n",
            "torch.Size([12, 512])\n",
            "torch.Size([12, 512])\n",
            "torch.Size([12, 512])\n",
            "torch.Size([13, 512])\n",
            "torch.Size([13, 512])\n",
            "torch.Size([13, 512])\n",
            "torch.Size([13, 512])\n",
            "torch.Size([13, 512])\n",
            "torch.Size([13, 512])\n",
            "torch.Size([13, 512])\n",
            "torch.Size([13, 512])\n",
            "torch.Size([14, 512])\n",
            "torch.Size([14, 512])\n",
            "torch.Size([14, 512])\n",
            "torch.Size([14, 512])\n",
            "torch.Size([14, 512])\n",
            "torch.Size([14, 512])\n",
            "torch.Size([14, 512])\n",
            "torch.Size([14, 512])\n",
            "torch.Size([15, 512])\n",
            "torch.Size([15, 512])\n",
            "torch.Size([15, 512])\n",
            "torch.Size([15, 512])\n",
            "torch.Size([15, 512])\n",
            "torch.Size([15, 512])\n",
            "torch.Size([15, 512])\n",
            "torch.Size([15, 512])\n",
            "torch.Size([16, 512])\n",
            "torch.Size([16, 512])\n",
            "torch.Size([16, 512])\n",
            "torch.Size([16, 512])\n",
            "torch.Size([16, 512])\n",
            "torch.Size([16, 512])\n",
            "torch.Size([16, 512])\n",
            "torch.Size([17, 512])\n",
            "torch.Size([17, 512])\n",
            "torch.Size([17, 512])\n",
            "torch.Size([17, 512])\n",
            "torch.Size([17, 512])\n",
            "torch.Size([17, 512])\n",
            "torch.Size([18, 512])\n",
            "torch.Size([18, 512])\n",
            "torch.Size([18, 512])\n",
            "torch.Size([18, 512])\n",
            "torch.Size([18, 512])\n",
            "torch.Size([18, 512])\n",
            "torch.Size([19, 512])\n",
            "torch.Size([19, 512])\n",
            "torch.Size([19, 512])\n",
            "torch.Size([19, 512])\n",
            "torch.Size([19, 512])\n",
            "torch.Size([19, 512])\n",
            "torch.Size([20, 512])\n",
            "torch.Size([20, 512])\n",
            "torch.Size([20, 512])\n",
            "torch.Size([20, 512])\n",
            "torch.Size([20, 512])\n",
            "torch.Size([21, 512])\n",
            "torch.Size([21, 512])\n",
            "torch.Size([21, 512])\n",
            "torch.Size([21, 512])\n",
            "torch.Size([21, 512])\n",
            "torch.Size([21, 512])\n",
            "torch.Size([22, 512])\n",
            "torch.Size([22, 512])\n",
            "torch.Size([22, 512])\n",
            "torch.Size([22, 512])\n",
            "torch.Size([23, 512])\n",
            "torch.Size([23, 512])\n",
            "torch.Size([23, 512])\n",
            "torch.Size([23, 512])\n",
            "torch.Size([23, 512])\n",
            "torch.Size([24, 512])\n",
            "torch.Size([24, 512])\n",
            "torch.Size([24, 512])\n",
            "torch.Size([24, 512])\n",
            "torch.Size([24, 512])\n",
            "torch.Size([25, 512])\n",
            "torch.Size([25, 512])\n",
            "torch.Size([25, 512])\n",
            "torch.Size([25, 512])\n",
            "torch.Size([26, 512])\n",
            "torch.Size([26, 512])\n",
            "torch.Size([26, 512])\n",
            "torch.Size([26, 512])\n",
            "torch.Size([27, 512])\n",
            "torch.Size([27, 512])\n",
            "torch.Size([27, 512])\n",
            "torch.Size([27, 512])\n",
            "torch.Size([28, 512])\n",
            "torch.Size([28, 512])\n",
            "torch.Size([28, 512])\n",
            "torch.Size([29, 512])\n",
            "torch.Size([29, 512])\n",
            "torch.Size([29, 512])\n",
            "torch.Size([29, 512])\n",
            "torch.Size([30, 512])\n",
            "torch.Size([30, 512])\n",
            "torch.Size([30, 512])\n",
            "torch.Size([31, 512])\n",
            "torch.Size([31, 512])\n",
            "torch.Size([31, 512])\n",
            "torch.Size([32, 512])\n",
            "torch.Size([32, 512])\n",
            "torch.Size([32, 512])\n",
            "torch.Size([33, 512])\n",
            "torch.Size([33, 512])\n",
            "torch.Size([33, 512])\n",
            "torch.Size([34, 512])\n",
            "torch.Size([34, 512])\n",
            "torch.Size([34, 512])\n",
            "torch.Size([35, 512])\n",
            "torch.Size([35, 512])\n",
            "torch.Size([36, 512])\n",
            "torch.Size([36, 512])\n",
            "torch.Size([36, 512])\n",
            "torch.Size([37, 512])\n",
            "torch.Size([37, 512])\n",
            "torch.Size([38, 512])\n",
            "torch.Size([38, 512])\n",
            "torch.Size([39, 512])\n",
            "torch.Size([39, 512])\n",
            "torch.Size([40, 512])\n",
            "torch.Size([40, 512])\n",
            "torch.Size([41, 512])\n",
            "torch.Size([41, 512])\n",
            "torch.Size([42, 512])\n",
            "torch.Size([42, 512])\n",
            "torch.Size([43, 512])\n",
            "torch.Size([43, 512])\n",
            "torch.Size([44, 512])\n",
            "torch.Size([44, 512])\n",
            "torch.Size([45, 512])\n",
            "torch.Size([46, 512])\n",
            "torch.Size([46, 512])\n",
            "torch.Size([47, 512])\n",
            "torch.Size([48, 512])\n",
            "torch.Size([48, 512])\n",
            "torch.Size([49, 512])\n",
            "torch.Size([50, 512])\n",
            "torch.Size([51, 512])\n",
            "torch.Size([51, 512])\n",
            "torch.Size([52, 512])\n",
            "torch.Size([53, 512])\n",
            "torch.Size([54, 512])\n",
            "torch.Size([55, 512])\n",
            "torch.Size([56, 512])\n",
            "torch.Size([57, 512])\n",
            "torch.Size([58, 512])\n",
            "torch.Size([59, 512])\n",
            "torch.Size([60, 512])\n",
            "torch.Size([61, 512])\n",
            "torch.Size([62, 512])\n",
            "torch.Size([64, 512])\n",
            "torch.Size([65, 512])\n",
            "torch.Size([66, 512])\n",
            "torch.Size([68, 512])\n",
            "torch.Size([69, 512])\n",
            "torch.Size([71, 512])\n",
            "torch.Size([73, 512])\n",
            "torch.Size([74, 512])\n",
            "torch.Size([76, 512])\n",
            "torch.Size([78, 512])\n",
            "torch.Size([81, 512])\n",
            "torch.Size([83, 512])\n",
            "torch.Size([86, 512])\n",
            "torch.Size([88, 512])\n",
            "torch.Size([92, 512])\n",
            "torch.Size([95, 512])\n",
            "torch.Size([98, 512])\n",
            "torch.Size([103, 512])\n",
            "torch.Size([107, 512])\n",
            "torch.Size([112, 512])\n",
            "torch.Size([118, 512])\n",
            "torch.Size([126, 512])\n",
            "torch.Size([135, 512])\n",
            "torch.Size([145, 512])\n",
            "torch.Size([159, 512])\n",
            "torch.Size([175, 512])\n",
            "torch.Size([201, 512])\n",
            "torch.Size([201, 4])\n"
          ],
          "name": "stdout"
        }
      ]
    },
    {
      "cell_type": "markdown",
      "metadata": {
        "id": "UqOXFm6yY5iF",
        "colab_type": "text"
      },
      "source": [
        "**train section**"
      ]
    },
    {
      "cell_type": "code",
      "metadata": {
        "id": "yc3grY0nYRN5",
        "colab_type": "code",
        "colab": {}
      },
      "source": [
        "vocab_size = len(TEXT.vocab)\n",
        "hid_size = 8\n",
        "pf_size = 16\n",
        "n_head = 2\n",
        "n_layer= 1\n",
        "model = SentimentModel(hid_size, vocab_size, n_head, n_layers, pf_size, max_len, device).to(device)"
      ],
      "execution_count": 0,
      "outputs": []
    },
    {
      "cell_type": "code",
      "metadata": {
        "id": "be1-YiJFZEpF",
        "colab_type": "code",
        "colab": {
          "base_uri": "https://localhost:8080/",
          "height": 35
        },
        "outputId": "8db9755d-26aa-4b5f-8737-f9183ff23d5a"
      },
      "source": [
        "print(f'The model has {count_parameters(model):,} trainable parameters')"
      ],
      "execution_count": 19,
      "outputs": [
        {
          "output_type": "stream",
          "text": [
            "The model has 254,114 trainable parameters\n"
          ],
          "name": "stdout"
        }
      ]
    },
    {
      "cell_type": "code",
      "metadata": {
        "id": "aNtmJR2vZYQK",
        "colab_type": "code",
        "colab": {}
      },
      "source": [
        "class NoamOpt:\n",
        "    \"Optim wrapper that implements rate.\"\n",
        "    def __init__(self, model_size, factor, warmup, optimizer):\n",
        "        self.optimizer = optimizer\n",
        "        self._step = 0\n",
        "        self.warmup = warmup\n",
        "        self.factor = factor\n",
        "        self.model_size = model_size\n",
        "        self._rate = 0\n",
        "        \n",
        "    def step(self):\n",
        "        \"Update parameters and rate\"\n",
        "        self._step += 1\n",
        "        rate = self.rate()\n",
        "        for p in self.optimizer.param_groups:\n",
        "            p['lr'] = rate\n",
        "        self._rate = rate\n",
        "        self.optimizer.step()\n",
        "        \n",
        "    def rate(self, step = None):\n",
        "        \"Implement `lrate` above\"\n",
        "        if step is None:\n",
        "            step = self._step\n",
        "        return self.factor * \\\n",
        "            (self.model_size ** (-0.5) *\n",
        "            min(step ** (-0.5), step * self.warmup ** (-1.5)))\n",
        "    \n",
        "    def zero_grad(self):\n",
        "        self.optimizer.zero_grad()"
      ],
      "execution_count": 0,
      "outputs": []
    },
    {
      "cell_type": "code",
      "metadata": {
        "id": "FdMSTuWTZdQC",
        "colab_type": "code",
        "colab": {}
      },
      "source": [
        "from tqdm import tqdm\n",
        "\n",
        "def train_one_epoch(model,train_iter, optimizer, criterion, clip):\n",
        "  epoch_loss = 0\n",
        "  model.train()\n",
        "  for batch in tqdm(train_iter):\n",
        "    optimizer.zero_grad()\n",
        "    batch_text = batch.comment\n",
        "    batch_target = batch.verification_status\n",
        "    result = model(batch_text)\n",
        "    loss = criterion(result, batch_target.view(-1))\n",
        "    loss.backward()\n",
        "    torch.nn.utils.clip_grad_norm_(model.parameters(), clip)\n",
        "    optimizer.step()\n",
        "    epoch_loss += loss.item()\n",
        "  return epoch_loss / len(train_iter)\n"
      ],
      "execution_count": 0,
      "outputs": []
    },
    {
      "cell_type": "code",
      "metadata": {
        "id": "44LCUrNngCEB",
        "colab_type": "code",
        "colab": {}
      },
      "source": [
        "def evaluate(model, valid_iter, criterion):\n",
        "  model.eval()\n",
        "  epoch_loss = 0\n",
        "  with torch.no_grad():\n",
        "    for i, batch in enumerate(valid_iter):\n",
        "      batch_text = batch.comment\n",
        "      batch_target = batch.verification_status\n",
        "      result = model(batch_text)\n",
        "      loss = criterion(result, batch_target.view(-1))\n",
        "      epoch_loss += loss.item()\n",
        "    return epoch_loss / len(valid_iter)\n"
      ],
      "execution_count": 0,
      "outputs": []
    },
    {
      "cell_type": "code",
      "metadata": {
        "id": "oJtLhqaeZpMN",
        "colab_type": "code",
        "colab": {}
      },
      "source": [
        "def train(model, train_iter, valid_iter, optimizer, criterion, clip, N_EPOCH):\n",
        "  for epoch in range(N_EPOCH):\n",
        "    epoch_loss = train_one_epoch(model, train_iter, optimizer, criterion, clip)\n",
        "    eval_loss = evaluate(model, valid_iter, criterion)\n",
        "    print(\"\\n epoch is {} loss is {} || valid_loss is {}\".format(epoch, epoch_loss, eval_loss))"
      ],
      "execution_count": 0,
      "outputs": []
    },
    {
      "cell_type": "code",
      "metadata": {
        "id": "JJ7SCLhRZp9O",
        "colab_type": "code",
        "colab": {
          "base_uri": "https://localhost:8080/",
          "height": 1000
        },
        "outputId": "56ea4bf1-dea2-42b3-a90f-db208c9bb8f8"
      },
      "source": [
        "optimizer = NoamOpt(hid_size, 1, 2000,\n",
        "              torch.optim.Adam(model.parameters(), lr=0, betas=(0.9, 0.98), eps=1e-9))\n",
        "criterion = torch.nn.CrossEntropyLoss()\n",
        "train(model, train_iterator, valid_iterator, optimizer, criterion, 1, 50)"
      ],
      "execution_count": 24,
      "outputs": [
        {
          "output_type": "stream",
          "text": [
            "100%|██████████| 286/286 [00:12<00:00, 22.18it/s]\n",
            "  0%|          | 1/286 [00:00<00:54,  5.24it/s]"
          ],
          "name": "stderr"
        },
        {
          "output_type": "stream",
          "text": [
            "\n",
            " epoch is 0 loss is 0.37834734193511776 || valid_loss is 0.4134479076601565\n"
          ],
          "name": "stdout"
        },
        {
          "output_type": "stream",
          "text": [
            "100%|██████████| 286/286 [00:11<00:00, 24.56it/s]\n",
            "  0%|          | 0/286 [00:00<?, ?it/s]"
          ],
          "name": "stderr"
        },
        {
          "output_type": "stream",
          "text": [
            "\n",
            " epoch is 1 loss is 0.2817095043463307 || valid_loss is 0.38175455713644624\n"
          ],
          "name": "stdout"
        },
        {
          "output_type": "stream",
          "text": [
            "100%|██████████| 286/286 [00:11<00:00, 23.93it/s]\n",
            "  0%|          | 1/286 [00:00<00:53,  5.33it/s]"
          ],
          "name": "stderr"
        },
        {
          "output_type": "stream",
          "text": [
            "\n",
            " epoch is 2 loss is 0.2610105331856888 || valid_loss is 0.3784078429453075\n"
          ],
          "name": "stdout"
        },
        {
          "output_type": "stream",
          "text": [
            "100%|██████████| 286/286 [00:11<00:00, 24.83it/s]\n",
            "  0%|          | 1/286 [00:00<00:55,  5.10it/s]"
          ],
          "name": "stderr"
        },
        {
          "output_type": "stream",
          "text": [
            "\n",
            " epoch is 3 loss is 0.24449588009319106 || valid_loss is 0.35747975390404463\n"
          ],
          "name": "stdout"
        },
        {
          "output_type": "stream",
          "text": [
            "100%|██████████| 286/286 [00:11<00:00, 24.72it/s]\n",
            "  0%|          | 0/286 [00:00<?, ?it/s]"
          ],
          "name": "stderr"
        },
        {
          "output_type": "stream",
          "text": [
            "\n",
            " epoch is 4 loss is 0.232227328357163 || valid_loss is 0.3438521600328386\n"
          ],
          "name": "stdout"
        },
        {
          "output_type": "stream",
          "text": [
            "100%|██████████| 286/286 [00:11<00:00, 24.81it/s]\n",
            "  0%|          | 1/286 [00:00<00:51,  5.48it/s]"
          ],
          "name": "stderr"
        },
        {
          "output_type": "stream",
          "text": [
            "\n",
            " epoch is 5 loss is 0.2208896388228123 || valid_loss is 0.3748823176138103\n"
          ],
          "name": "stdout"
        },
        {
          "output_type": "stream",
          "text": [
            "100%|██████████| 286/286 [00:11<00:00, 24.25it/s]\n",
            "  0%|          | 0/286 [00:00<?, ?it/s]"
          ],
          "name": "stderr"
        },
        {
          "output_type": "stream",
          "text": [
            "\n",
            " epoch is 6 loss is 0.2105169347845591 || valid_loss is 0.35695013497024775\n"
          ],
          "name": "stdout"
        },
        {
          "output_type": "stream",
          "text": [
            "100%|██████████| 286/286 [00:11<00:00, 24.77it/s]\n",
            "  0%|          | 1/286 [00:00<00:51,  5.50it/s]"
          ],
          "name": "stderr"
        },
        {
          "output_type": "stream",
          "text": [
            "\n",
            " epoch is 7 loss is 0.20054566198504054 || valid_loss is 0.42603506380692124\n"
          ],
          "name": "stdout"
        },
        {
          "output_type": "stream",
          "text": [
            "100%|██████████| 286/286 [00:11<00:00, 24.89it/s]\n",
            "  0%|          | 1/286 [00:00<00:53,  5.34it/s]"
          ],
          "name": "stderr"
        },
        {
          "output_type": "stream",
          "text": [
            "\n",
            " epoch is 8 loss is 0.18840830002006118 || valid_loss is 0.3946757214143872\n"
          ],
          "name": "stdout"
        },
        {
          "output_type": "stream",
          "text": [
            "100%|██████████| 286/286 [00:11<00:00, 24.50it/s]\n",
            "  0%|          | 0/286 [00:00<?, ?it/s]"
          ],
          "name": "stderr"
        },
        {
          "output_type": "stream",
          "text": [
            "\n",
            " epoch is 9 loss is 0.17780393872644518 || valid_loss is 0.4637571261264384\n"
          ],
          "name": "stdout"
        },
        {
          "output_type": "stream",
          "text": [
            "100%|██████████| 286/286 [00:11<00:00, 24.01it/s]\n",
            "  0%|          | 0/286 [00:00<?, ?it/s]"
          ],
          "name": "stderr"
        },
        {
          "output_type": "stream",
          "text": [
            "\n",
            " epoch is 10 loss is 0.169627084103706 || valid_loss is 0.592160988599062\n"
          ],
          "name": "stdout"
        },
        {
          "output_type": "stream",
          "text": [
            "100%|██████████| 286/286 [00:12<00:00, 23.04it/s]\n",
            "  0%|          | 1/286 [00:00<00:54,  5.23it/s]"
          ],
          "name": "stderr"
        },
        {
          "output_type": "stream",
          "text": [
            "\n",
            " epoch is 11 loss is 0.16038260595886022 || valid_loss is 0.6086982926353812\n"
          ],
          "name": "stdout"
        },
        {
          "output_type": "stream",
          "text": [
            "100%|██████████| 286/286 [00:11<00:00, 24.89it/s]\n",
            "  0%|          | 0/286 [00:00<?, ?it/s]"
          ],
          "name": "stderr"
        },
        {
          "output_type": "stream",
          "text": [
            "\n",
            " epoch is 12 loss is 0.1599620588879277 || valid_loss is 0.48330768570303917\n"
          ],
          "name": "stdout"
        },
        {
          "output_type": "stream",
          "text": [
            "100%|██████████| 286/286 [00:11<00:00, 24.62it/s]\n",
            "  0%|          | 0/286 [00:00<?, ?it/s]"
          ],
          "name": "stderr"
        },
        {
          "output_type": "stream",
          "text": [
            "\n",
            " epoch is 13 loss is 0.14932379671665547 || valid_loss is 0.5480639445595443\n"
          ],
          "name": "stdout"
        },
        {
          "output_type": "stream",
          "text": [
            "100%|██████████| 286/286 [00:11<00:00, 23.98it/s]\n",
            "  0%|          | 0/286 [00:00<?, ?it/s]"
          ],
          "name": "stderr"
        },
        {
          "output_type": "stream",
          "text": [
            "\n",
            " epoch is 14 loss is 0.14028601731349538 || valid_loss is 0.5576586006209254\n"
          ],
          "name": "stdout"
        },
        {
          "output_type": "stream",
          "text": [
            "100%|██████████| 286/286 [00:11<00:00, 24.47it/s]\n",
            "  0%|          | 0/286 [00:00<?, ?it/s]"
          ],
          "name": "stderr"
        },
        {
          "output_type": "stream",
          "text": [
            "\n",
            " epoch is 15 loss is 0.13388433225348695 || valid_loss is 0.6393089643679559\n"
          ],
          "name": "stdout"
        },
        {
          "output_type": "stream",
          "text": [
            "100%|██████████| 286/286 [00:11<00:00, 24.54it/s]\n",
            "  0%|          | 0/286 [00:00<?, ?it/s]"
          ],
          "name": "stderr"
        },
        {
          "output_type": "stream",
          "text": [
            "\n",
            " epoch is 16 loss is 0.13051224109176154 || valid_loss is 0.6416646093130112\n"
          ],
          "name": "stdout"
        },
        {
          "output_type": "stream",
          "text": [
            "100%|██████████| 286/286 [00:11<00:00, 24.59it/s]\n",
            "  0%|          | 1/286 [00:00<00:52,  5.47it/s]"
          ],
          "name": "stderr"
        },
        {
          "output_type": "stream",
          "text": [
            "\n",
            " epoch is 17 loss is 0.12898885374693395 || valid_loss is 0.628413153346628\n"
          ],
          "name": "stdout"
        },
        {
          "output_type": "stream",
          "text": [
            "100%|██████████| 286/286 [00:11<00:00, 24.14it/s]\n",
            "  0%|          | 1/286 [00:00<00:55,  5.17it/s]"
          ],
          "name": "stderr"
        },
        {
          "output_type": "stream",
          "text": [
            "\n",
            " epoch is 18 loss is 0.13190423677694965 || valid_loss is 0.6572352517396212\n"
          ],
          "name": "stdout"
        },
        {
          "output_type": "stream",
          "text": [
            "100%|██████████| 286/286 [00:12<00:00, 22.63it/s]\n",
            "  0%|          | 0/286 [00:00<?, ?it/s]"
          ],
          "name": "stderr"
        },
        {
          "output_type": "stream",
          "text": [
            "\n",
            " epoch is 19 loss is 0.12721159779368998 || valid_loss is 0.5869020964019\n"
          ],
          "name": "stdout"
        },
        {
          "output_type": "stream",
          "text": [
            "100%|██████████| 286/286 [00:11<00:00, 24.33it/s]\n",
            "  0%|          | 0/286 [00:00<?, ?it/s]"
          ],
          "name": "stderr"
        },
        {
          "output_type": "stream",
          "text": [
            "\n",
            " epoch is 20 loss is 0.1238302430007737 || valid_loss is 0.6140423477627337\n"
          ],
          "name": "stdout"
        },
        {
          "output_type": "stream",
          "text": [
            "100%|██████████| 286/286 [00:11<00:00, 24.45it/s]\n",
            "  0%|          | 1/286 [00:00<00:56,  5.09it/s]"
          ],
          "name": "stderr"
        },
        {
          "output_type": "stream",
          "text": [
            "\n",
            " epoch is 21 loss is 0.12034608490139871 || valid_loss is 0.6759539167396724\n"
          ],
          "name": "stdout"
        },
        {
          "output_type": "stream",
          "text": [
            "100%|██████████| 286/286 [00:12<00:00, 23.31it/s]\n",
            "  0%|          | 0/286 [00:00<?, ?it/s]"
          ],
          "name": "stderr"
        },
        {
          "output_type": "stream",
          "text": [
            "\n",
            " epoch is 22 loss is 0.1171890776246213 || valid_loss is 0.692427578382194\n"
          ],
          "name": "stdout"
        },
        {
          "output_type": "stream",
          "text": [
            "100%|██████████| 286/286 [00:11<00:00, 24.44it/s]\n",
            "  0%|          | 0/286 [00:00<?, ?it/s]"
          ],
          "name": "stderr"
        },
        {
          "output_type": "stream",
          "text": [
            "\n",
            " epoch is 23 loss is 0.11382217347048797 || valid_loss is 0.742745716124773\n"
          ],
          "name": "stdout"
        },
        {
          "output_type": "stream",
          "text": [
            "100%|██████████| 286/286 [00:11<00:00, 24.48it/s]\n",
            "  0%|          | 0/286 [00:00<?, ?it/s]"
          ],
          "name": "stderr"
        },
        {
          "output_type": "stream",
          "text": [
            "\n",
            " epoch is 24 loss is 0.11413957231671557 || valid_loss is 0.9854953298345208\n"
          ],
          "name": "stdout"
        },
        {
          "output_type": "stream",
          "text": [
            "100%|██████████| 286/286 [00:11<00:00, 24.13it/s]\n",
            "  0%|          | 0/286 [00:00<?, ?it/s]"
          ],
          "name": "stderr"
        },
        {
          "output_type": "stream",
          "text": [
            "\n",
            " epoch is 25 loss is 0.11119325375314672 || valid_loss is 1.125816585496068\n"
          ],
          "name": "stdout"
        },
        {
          "output_type": "stream",
          "text": [
            "100%|██████████| 286/286 [00:12<00:00, 23.80it/s]\n",
            "  0%|          | 1/286 [00:00<00:54,  5.24it/s]"
          ],
          "name": "stderr"
        },
        {
          "output_type": "stream",
          "text": [
            "\n",
            " epoch is 26 loss is 0.10891709078129355 || valid_loss is 1.1060115536674857\n"
          ],
          "name": "stdout"
        },
        {
          "output_type": "stream",
          "text": [
            "100%|██████████| 286/286 [00:12<00:00, 22.84it/s]\n",
            "  0%|          | 0/286 [00:00<?, ?it/s]"
          ],
          "name": "stderr"
        },
        {
          "output_type": "stream",
          "text": [
            "\n",
            " epoch is 27 loss is 0.10852600993601592 || valid_loss is 1.0546217672526836\n"
          ],
          "name": "stdout"
        },
        {
          "output_type": "stream",
          "text": [
            "100%|██████████| 286/286 [00:11<00:00, 24.05it/s]\n",
            "  0%|          | 0/286 [00:00<?, ?it/s]"
          ],
          "name": "stderr"
        },
        {
          "output_type": "stream",
          "text": [
            "\n",
            " epoch is 28 loss is 0.10604272156276486 || valid_loss is 0.9688429944217205\n"
          ],
          "name": "stdout"
        },
        {
          "output_type": "stream",
          "text": [
            "100%|██████████| 286/286 [00:11<00:00, 24.42it/s]\n",
            "  0%|          | 0/286 [00:00<?, ?it/s]"
          ],
          "name": "stderr"
        },
        {
          "output_type": "stream",
          "text": [
            "\n",
            " epoch is 29 loss is 0.10335350270754287 || valid_loss is 0.8458919981494546\n"
          ],
          "name": "stdout"
        },
        {
          "output_type": "stream",
          "text": [
            "100%|██████████| 286/286 [00:12<00:00, 23.25it/s]\n",
            "  0%|          | 0/286 [00:00<?, ?it/s]"
          ],
          "name": "stderr"
        },
        {
          "output_type": "stream",
          "text": [
            "\n",
            " epoch is 30 loss is 0.10126063623302779 || valid_loss is 0.7921622497960925\n"
          ],
          "name": "stdout"
        },
        {
          "output_type": "stream",
          "text": [
            "100%|██████████| 286/286 [00:11<00:00, 24.45it/s]\n",
            "  0%|          | 0/286 [00:00<?, ?it/s]"
          ],
          "name": "stderr"
        },
        {
          "output_type": "stream",
          "text": [
            "\n",
            " epoch is 31 loss is 0.09885414310900326 || valid_loss is 0.8041850696317852\n"
          ],
          "name": "stdout"
        },
        {
          "output_type": "stream",
          "text": [
            "100%|██████████| 286/286 [00:11<00:00, 24.33it/s]\n",
            "  0%|          | 0/286 [00:00<?, ?it/s]"
          ],
          "name": "stderr"
        },
        {
          "output_type": "stream",
          "text": [
            "\n",
            " epoch is 32 loss is 0.0961948027158599 || valid_loss is 0.972866085357964\n"
          ],
          "name": "stdout"
        },
        {
          "output_type": "stream",
          "text": [
            "100%|██████████| 286/286 [00:11<00:00, 24.25it/s]\n",
            "  0%|          | 0/286 [00:00<?, ?it/s]"
          ],
          "name": "stderr"
        },
        {
          "output_type": "stream",
          "text": [
            "\n",
            " epoch is 33 loss is 0.09700453251443959 || valid_loss is 0.9871150888502598\n"
          ],
          "name": "stdout"
        },
        {
          "output_type": "stream",
          "text": [
            "100%|██████████| 286/286 [00:12<00:00, 23.43it/s]\n",
            "  0%|          | 0/286 [00:00<?, ?it/s]"
          ],
          "name": "stderr"
        },
        {
          "output_type": "stream",
          "text": [
            "\n",
            " epoch is 34 loss is 0.09493603502478372 || valid_loss is 1.130406747572124\n"
          ],
          "name": "stdout"
        },
        {
          "output_type": "stream",
          "text": [
            "100%|██████████| 286/286 [00:12<00:00, 23.09it/s]\n",
            "  0%|          | 1/286 [00:00<00:56,  5.05it/s]"
          ],
          "name": "stderr"
        },
        {
          "output_type": "stream",
          "text": [
            "\n",
            " epoch is 35 loss is 0.09423279891220424 || valid_loss is 1.2567801801487803\n"
          ],
          "name": "stdout"
        },
        {
          "output_type": "stream",
          "text": [
            "100%|██████████| 286/286 [00:11<00:00, 24.72it/s]\n",
            "  0%|          | 1/286 [00:00<00:55,  5.12it/s]"
          ],
          "name": "stderr"
        },
        {
          "output_type": "stream",
          "text": [
            "\n",
            " epoch is 36 loss is 0.0927065548542366 || valid_loss is 1.2534581050276756\n"
          ],
          "name": "stdout"
        },
        {
          "output_type": "stream",
          "text": [
            "100%|██████████| 286/286 [00:11<00:00, 24.87it/s]\n",
            "  0%|          | 1/286 [00:00<00:55,  5.18it/s]"
          ],
          "name": "stderr"
        },
        {
          "output_type": "stream",
          "text": [
            "\n",
            " epoch is 37 loss is 0.09159513583270039 || valid_loss is 1.318279062397778\n"
          ],
          "name": "stdout"
        },
        {
          "output_type": "stream",
          "text": [
            "100%|██████████| 286/286 [00:11<00:00, 24.03it/s]\n",
            "  0%|          | 0/286 [00:00<?, ?it/s]"
          ],
          "name": "stderr"
        },
        {
          "output_type": "stream",
          "text": [
            "\n",
            " epoch is 38 loss is 0.08937034281166074 || valid_loss is 1.1405465081334114\n"
          ],
          "name": "stdout"
        },
        {
          "output_type": "stream",
          "text": [
            "100%|██████████| 286/286 [00:11<00:00, 24.57it/s]\n",
            "  0%|          | 1/286 [00:00<00:53,  5.35it/s]"
          ],
          "name": "stderr"
        },
        {
          "output_type": "stream",
          "text": [
            "\n",
            " epoch is 39 loss is 0.0897676971036016 || valid_loss is 1.2034573713317513\n"
          ],
          "name": "stdout"
        },
        {
          "output_type": "stream",
          "text": [
            "100%|██████████| 286/286 [00:11<00:00, 24.82it/s]\n",
            "  0%|          | 0/286 [00:00<?, ?it/s]"
          ],
          "name": "stderr"
        },
        {
          "output_type": "stream",
          "text": [
            "\n",
            " epoch is 40 loss is 0.08814939440039175 || valid_loss is 0.967944067902863\n"
          ],
          "name": "stdout"
        },
        {
          "output_type": "stream",
          "text": [
            "100%|██████████| 286/286 [00:11<00:00, 24.80it/s]\n",
            "  0%|          | 1/286 [00:00<00:56,  5.06it/s]"
          ],
          "name": "stderr"
        },
        {
          "output_type": "stream",
          "text": [
            "\n",
            " epoch is 41 loss is 0.08883554228724769 || valid_loss is 0.8155861012637615\n"
          ],
          "name": "stdout"
        },
        {
          "output_type": "stream",
          "text": [
            "100%|██████████| 286/286 [00:11<00:00, 23.89it/s]\n",
            "  0%|          | 1/286 [00:00<00:53,  5.33it/s]"
          ],
          "name": "stderr"
        },
        {
          "output_type": "stream",
          "text": [
            "\n",
            " epoch is 42 loss is 0.08726782276835683 || valid_loss is 0.846816189121455\n"
          ],
          "name": "stdout"
        },
        {
          "output_type": "stream",
          "text": [
            "100%|██████████| 286/286 [00:12<00:00, 22.92it/s]\n",
            "  0%|          | 1/286 [00:00<00:54,  5.19it/s]"
          ],
          "name": "stderr"
        },
        {
          "output_type": "stream",
          "text": [
            "\n",
            " epoch is 43 loss is 0.0850819916915396 || valid_loss is 0.8099594968371093\n"
          ],
          "name": "stdout"
        },
        {
          "output_type": "stream",
          "text": [
            "100%|██████████| 286/286 [00:11<00:00, 24.60it/s]\n",
            "  0%|          | 0/286 [00:00<?, ?it/s]"
          ],
          "name": "stderr"
        },
        {
          "output_type": "stream",
          "text": [
            "\n",
            " epoch is 44 loss is 0.08367072875608228 || valid_loss is 0.9123135292902589\n"
          ],
          "name": "stdout"
        },
        {
          "output_type": "stream",
          "text": [
            "100%|██████████| 286/286 [00:11<00:00, 24.50it/s]\n",
            "  0%|          | 0/286 [00:00<?, ?it/s]"
          ],
          "name": "stderr"
        },
        {
          "output_type": "stream",
          "text": [
            "\n",
            " epoch is 45 loss is 0.08437280124378996 || valid_loss is 0.9226554417982697\n"
          ],
          "name": "stdout"
        },
        {
          "output_type": "stream",
          "text": [
            "100%|██████████| 286/286 [00:12<00:00, 23.71it/s]\n",
            "  0%|          | 1/286 [00:00<00:55,  5.10it/s]"
          ],
          "name": "stderr"
        },
        {
          "output_type": "stream",
          "text": [
            "\n",
            " epoch is 46 loss is 0.08329250401787955 || valid_loss is 0.9302266789600253\n"
          ],
          "name": "stdout"
        },
        {
          "output_type": "stream",
          "text": [
            "100%|██████████| 286/286 [00:11<00:00, 24.50it/s]\n",
            "  0%|          | 1/286 [00:00<00:54,  5.21it/s]"
          ],
          "name": "stderr"
        },
        {
          "output_type": "stream",
          "text": [
            "\n",
            " epoch is 47 loss is 0.0822727790401949 || valid_loss is 0.8818864547647536\n"
          ],
          "name": "stdout"
        },
        {
          "output_type": "stream",
          "text": [
            "100%|██████████| 286/286 [00:11<00:00, 24.57it/s]\n",
            "  0%|          | 0/286 [00:00<?, ?it/s]"
          ],
          "name": "stderr"
        },
        {
          "output_type": "stream",
          "text": [
            "\n",
            " epoch is 48 loss is 0.08187691322234752 || valid_loss is 0.9889879524707794\n"
          ],
          "name": "stdout"
        },
        {
          "output_type": "stream",
          "text": [
            "100%|██████████| 286/286 [00:11<00:00, 24.58it/s]\n"
          ],
          "name": "stderr"
        },
        {
          "output_type": "stream",
          "text": [
            "\n",
            " epoch is 49 loss is 0.08122443132610484 || valid_loss is 1.0898467767983675\n"
          ],
          "name": "stdout"
        }
      ]
    },
    {
      "cell_type": "code",
      "metadata": {
        "id": "yrJRCPs3g5iU",
        "colab_type": "code",
        "colab": {}
      },
      "source": [
        "model.eval()\n",
        "test_preds = []\n",
        "with torch.no_grad():\n",
        "  for batch in iter(test_iter):\n",
        "    row_id = batch.id.item()\n",
        "    if(batch.comment.shape[0]==0):\n",
        "      res_out = 0\n",
        "      test_preds.append([row_id,res_out])\n",
        "      continue\n",
        "    res = model(batch.comment)\n",
        "    res_out = torch.argmax(res).item()\n",
        "    test_preds.append([row_id,res_out])"
      ],
      "execution_count": 0,
      "outputs": []
    },
    {
      "cell_type": "code",
      "metadata": {
        "id": "QQJV0UMSs3ay",
        "colab_type": "code",
        "colab": {}
      },
      "source": [
        "test_preds.sort(key=lambda x: x[0])"
      ],
      "execution_count": 0,
      "outputs": []
    },
    {
      "cell_type": "code",
      "metadata": {
        "id": "SAeQu7MGD6CB",
        "colab_type": "code",
        "colab": {}
      },
      "source": [
        "import pandas\n",
        "df = pandas.DataFrame(test_preds, columns= ['id', 'verification_status'])\n",
        "df.to_csv(\"./file.csv\", sep=',',index=False)"
      ],
      "execution_count": 0,
      "outputs": []
    },
    {
      "cell_type": "code",
      "metadata": {
        "id": "zm9jh2sHNcyt",
        "colab_type": "code",
        "colab": {
          "base_uri": "https://localhost:8080/",
          "height": 319
        },
        "outputId": "44f12e91-8624-4f2a-b14a-613cbb1a52aa"
      },
      "source": [
        "model.append_decoder_layer()"
      ],
      "execution_count": 35,
      "outputs": [
        {
          "output_type": "error",
          "ename": "AttributeError",
          "evalue": "ignored",
          "traceback": [
            "\u001b[0;31m---------------------------------------------------------------------------\u001b[0m",
            "\u001b[0;31mAttributeError\u001b[0m                            Traceback (most recent call last)",
            "\u001b[0;32m<ipython-input-35-a09b7c9ec61b>\u001b[0m in \u001b[0;36m<module>\u001b[0;34m()\u001b[0m\n\u001b[0;32m----> 1\u001b[0;31m \u001b[0mmodel\u001b[0m\u001b[0;34m.\u001b[0m\u001b[0mappend_decoder_layer\u001b[0m\u001b[0;34m(\u001b[0m\u001b[0;34m)\u001b[0m\u001b[0;34m\u001b[0m\u001b[0;34m\u001b[0m\u001b[0m\n\u001b[0m",
            "\u001b[0;32m<ipython-input-2-bb0ffd4d0984>\u001b[0m in \u001b[0;36mappend_decoder_layer\u001b[0;34m(self)\u001b[0m\n\u001b[1;32m     43\u001b[0m \u001b[0;34m\u001b[0m\u001b[0m\n\u001b[1;32m     44\u001b[0m   \u001b[0;32mdef\u001b[0m \u001b[0mappend_decoder_layer\u001b[0m\u001b[0;34m(\u001b[0m\u001b[0mself\u001b[0m\u001b[0;34m)\u001b[0m\u001b[0;34m:\u001b[0m\u001b[0;34m\u001b[0m\u001b[0;34m\u001b[0m\u001b[0m\n\u001b[0;32m---> 45\u001b[0;31m     \u001b[0mappended_mod\u001b[0m \u001b[0;34m=\u001b[0m \u001b[0mnn\u001b[0m\u001b[0;34m.\u001b[0m\u001b[0mTransformerEncoderLayer\u001b[0m\u001b[0;34m(\u001b[0m\u001b[0md_model\u001b[0m\u001b[0;34m=\u001b[0m\u001b[0mself\u001b[0m\u001b[0;34m.\u001b[0m\u001b[0mhid_size\u001b[0m\u001b[0;34m,\u001b[0m \u001b[0mnhead\u001b[0m \u001b[0;34m=\u001b[0m \u001b[0mself\u001b[0m\u001b[0;34m.\u001b[0m\u001b[0mn_head\u001b[0m\u001b[0;34m,\u001b[0m \u001b[0mdim_feedforward\u001b[0m \u001b[0;34m=\u001b[0m \u001b[0mself\u001b[0m\u001b[0;34m.\u001b[0m\u001b[0mpf_size\u001b[0m\u001b[0;34m)\u001b[0m\u001b[0;34m.\u001b[0m\u001b[0mto\u001b[0m\u001b[0;34m(\u001b[0m\u001b[0mself\u001b[0m\u001b[0;34m.\u001b[0m\u001b[0mdevice\u001b[0m\u001b[0;34m)\u001b[0m\u001b[0;34m\u001b[0m\u001b[0;34m\u001b[0m\u001b[0m\n\u001b[0m\u001b[1;32m     46\u001b[0m     \u001b[0;32mfor\u001b[0m \u001b[0mp\u001b[0m \u001b[0;32min\u001b[0m \u001b[0mappended_mod\u001b[0m\u001b[0;34m.\u001b[0m\u001b[0mparameters\u001b[0m\u001b[0;34m(\u001b[0m\u001b[0;34m)\u001b[0m\u001b[0;34m:\u001b[0m\u001b[0;34m\u001b[0m\u001b[0;34m\u001b[0m\u001b[0m\n\u001b[1;32m     47\u001b[0m       \u001b[0;32mif\u001b[0m \u001b[0mp\u001b[0m\u001b[0;34m.\u001b[0m\u001b[0mdim\u001b[0m\u001b[0;34m(\u001b[0m\u001b[0;34m)\u001b[0m \u001b[0;34m>\u001b[0m \u001b[0;36m1\u001b[0m\u001b[0;34m:\u001b[0m\u001b[0;34m\u001b[0m\u001b[0;34m\u001b[0m\u001b[0m\n",
            "\u001b[0;32m/usr/local/lib/python3.6/dist-packages/torch/nn/modules/module.py\u001b[0m in \u001b[0;36m__getattr__\u001b[0;34m(self, name)\u001b[0m\n\u001b[1;32m    583\u001b[0m                 \u001b[0;32mreturn\u001b[0m \u001b[0mmodules\u001b[0m\u001b[0;34m[\u001b[0m\u001b[0mname\u001b[0m\u001b[0;34m]\u001b[0m\u001b[0;34m\u001b[0m\u001b[0;34m\u001b[0m\u001b[0m\n\u001b[1;32m    584\u001b[0m         raise AttributeError(\"'{}' object has no attribute '{}'\".format(\n\u001b[0;32m--> 585\u001b[0;31m             type(self).__name__, name))\n\u001b[0m\u001b[1;32m    586\u001b[0m \u001b[0;34m\u001b[0m\u001b[0m\n\u001b[1;32m    587\u001b[0m     \u001b[0;32mdef\u001b[0m \u001b[0m__setattr__\u001b[0m\u001b[0;34m(\u001b[0m\u001b[0mself\u001b[0m\u001b[0;34m,\u001b[0m \u001b[0mname\u001b[0m\u001b[0;34m,\u001b[0m \u001b[0mvalue\u001b[0m\u001b[0;34m)\u001b[0m\u001b[0;34m:\u001b[0m\u001b[0;34m\u001b[0m\u001b[0;34m\u001b[0m\u001b[0m\n",
            "\u001b[0;31mAttributeError\u001b[0m: 'SentimentModel' object has no attribute 'n_head'"
          ]
        }
      ]
    }
  ]
}