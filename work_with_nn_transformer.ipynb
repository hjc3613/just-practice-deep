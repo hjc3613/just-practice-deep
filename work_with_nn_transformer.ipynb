{
  "nbformat": 4,
  "nbformat_minor": 0,
  "metadata": {
    "colab": {
      "name": "work_with_nn_transformer.ipynb",
      "provenance": [],
      "collapsed_sections": [],
      "include_colab_link": true
    },
    "kernelspec": {
      "name": "python3",
      "display_name": "Python 3"
    }
  },
  "cells": [
    {
      "cell_type": "markdown",
      "metadata": {
        "id": "view-in-github",
        "colab_type": "text"
      },
      "source": [
        "<a href=\"https://colab.research.google.com/github/mmsamiei/just-practice-deep/blob/master/work_with_nn_transformer.ipynb\" target=\"_parent\"><img src=\"https://colab.research.google.com/assets/colab-badge.svg\" alt=\"Open In Colab\"/></a>"
      ]
    },
    {
      "cell_type": "code",
      "metadata": {
        "id": "Bp1vKN5gJxNE",
        "colab_type": "code",
        "colab": {
          "base_uri": "https://localhost:8080/",
          "height": 35
        },
        "outputId": "7dcfc2fd-1ebc-4719-8c17-f62318591fc0"
      },
      "source": [
        "import torch.nn as nn\n",
        "import torch \n",
        "\n",
        "batch_size = 64\n",
        "hidden_size = 128\n",
        "input_len = 10\n",
        "output_len = 20\n",
        "\n",
        "transformer_model = nn.Transformer(nhead=8, num_encoder_layers=2, d_model = hidden_size)\n",
        "\n",
        "src = torch.rand((input_len, batch_size, hidden_size))\n",
        "tgt = torch.rand((output_len, batch_size, hidden_size))\n",
        "\n",
        "pos_embedding = nn.Embedding(1000, hidden_size)\n",
        "pos = pos_embedding(torch.arange(0, input_len).unsqueeze(0).repeat(batch_size,1)).transpose(0,1)\n",
        "src = src + pos\n",
        "\n",
        "out = transformer_model(src, tgt)\n",
        "print(out.shape)"
      ],
      "execution_count": 32,
      "outputs": [
        {
          "output_type": "stream",
          "text": [
            "torch.Size([20, 64, 128])\n"
          ],
          "name": "stdout"
        }
      ]
    },
    {
      "cell_type": "code",
      "metadata": {
        "id": "3qJxVlZJKk6u",
        "colab_type": "code",
        "colab": {
          "base_uri": "https://localhost:8080/",
          "height": 35
        },
        "outputId": "31327ab9-64f3-4620-eedc-af0f49641d44"
      },
      "source": [
        "def count_parameters(model):\n",
        "    return sum(p.numel() for p in model.parameters() if p.requires_grad)\n",
        "count_parameters(transformer_model)"
      ],
      "execution_count": 14,
      "outputs": [
        {
          "output_type": "execute_result",
          "data": {
            "text/plain": [
              "5142528"
            ]
          },
          "metadata": {
            "tags": []
          },
          "execution_count": 14
        }
      ]
    }
  ]
}